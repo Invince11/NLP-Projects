{
 "cells": [
  {
   "cell_type": "markdown",
   "metadata": {},
   "source": [
    "# TOXIC COMMENT CLASSIFICATION"
   ]
  },
  {
   "cell_type": "code",
   "execution_count": 98,
   "metadata": {},
   "outputs": [],
   "source": [
    "import pandas as pd\n",
    "import numpy as np\n",
    "import matplotlib.pyplot as plt\n",
    "%matplotlib inline"
   ]
  },
  {
   "cell_type": "code",
   "execution_count": 99,
   "metadata": {},
   "outputs": [],
   "source": [
    "all_data = pd.read_csv(\"D:/C-Drive Project's Datasets/toxic-comment/train.csv\")\n",
    "# test_comments = pd.read_csv(\"D:/C-Drive Project's Datasets/toxic-comment/test.csv\") \n",
    "# test_labels =  pd.read_csv(\"D:/C-Drive Project's Datasets/toxic-comment/test_labels.csv\")\n",
    "\n",
    "# data_test = pd.merge(test_comments, test_labels, on= \"id\")\n",
    "# all_data = pd.concat([data_train, data_test])\n",
    "all_data.drop(all_data.columns[0], axis = 1, inplace = True)"
   ]
  },
  {
   "cell_type": "code",
   "execution_count": 100,
   "metadata": {},
   "outputs": [
    {
     "data": {
      "text/plain": [
       "(159571, 7)"
      ]
     },
     "execution_count": 100,
     "metadata": {},
     "output_type": "execute_result"
    }
   ],
   "source": [
    "all_data.shape"
   ]
  },
  {
   "cell_type": "code",
   "execution_count": 101,
   "metadata": {},
   "outputs": [
    {
     "data": {
      "text/html": [
       "<div>\n",
       "<style scoped>\n",
       "    .dataframe tbody tr th:only-of-type {\n",
       "        vertical-align: middle;\n",
       "    }\n",
       "\n",
       "    .dataframe tbody tr th {\n",
       "        vertical-align: top;\n",
       "    }\n",
       "\n",
       "    .dataframe thead th {\n",
       "        text-align: right;\n",
       "    }\n",
       "</style>\n",
       "<table border=\"1\" class=\"dataframe\">\n",
       "  <thead>\n",
       "    <tr style=\"text-align: right;\">\n",
       "      <th></th>\n",
       "      <th>comment_text</th>\n",
       "      <th>toxic</th>\n",
       "      <th>severe_toxic</th>\n",
       "      <th>obscene</th>\n",
       "      <th>threat</th>\n",
       "      <th>insult</th>\n",
       "      <th>identity_hate</th>\n",
       "    </tr>\n",
       "  </thead>\n",
       "  <tbody>\n",
       "    <tr>\n",
       "      <th>0</th>\n",
       "      <td>Explanation\\nWhy the edits made under my usern...</td>\n",
       "      <td>0</td>\n",
       "      <td>0</td>\n",
       "      <td>0</td>\n",
       "      <td>0</td>\n",
       "      <td>0</td>\n",
       "      <td>0</td>\n",
       "    </tr>\n",
       "    <tr>\n",
       "      <th>1</th>\n",
       "      <td>D'aww! He matches this background colour I'm s...</td>\n",
       "      <td>0</td>\n",
       "      <td>0</td>\n",
       "      <td>0</td>\n",
       "      <td>0</td>\n",
       "      <td>0</td>\n",
       "      <td>0</td>\n",
       "    </tr>\n",
       "    <tr>\n",
       "      <th>2</th>\n",
       "      <td>Hey man, I'm really not trying to edit war. It...</td>\n",
       "      <td>0</td>\n",
       "      <td>0</td>\n",
       "      <td>0</td>\n",
       "      <td>0</td>\n",
       "      <td>0</td>\n",
       "      <td>0</td>\n",
       "    </tr>\n",
       "    <tr>\n",
       "      <th>3</th>\n",
       "      <td>\"\\nMore\\nI can't make any real suggestions on ...</td>\n",
       "      <td>0</td>\n",
       "      <td>0</td>\n",
       "      <td>0</td>\n",
       "      <td>0</td>\n",
       "      <td>0</td>\n",
       "      <td>0</td>\n",
       "    </tr>\n",
       "    <tr>\n",
       "      <th>4</th>\n",
       "      <td>You, sir, are my hero. Any chance you remember...</td>\n",
       "      <td>0</td>\n",
       "      <td>0</td>\n",
       "      <td>0</td>\n",
       "      <td>0</td>\n",
       "      <td>0</td>\n",
       "      <td>0</td>\n",
       "    </tr>\n",
       "  </tbody>\n",
       "</table>\n",
       "</div>"
      ],
      "text/plain": [
       "                                        comment_text  toxic  severe_toxic  \\\n",
       "0  Explanation\\nWhy the edits made under my usern...      0             0   \n",
       "1  D'aww! He matches this background colour I'm s...      0             0   \n",
       "2  Hey man, I'm really not trying to edit war. It...      0             0   \n",
       "3  \"\\nMore\\nI can't make any real suggestions on ...      0             0   \n",
       "4  You, sir, are my hero. Any chance you remember...      0             0   \n",
       "\n",
       "   obscene  threat  insult  identity_hate  \n",
       "0        0       0       0              0  \n",
       "1        0       0       0              0  \n",
       "2        0       0       0              0  \n",
       "3        0       0       0              0  \n",
       "4        0       0       0              0  "
      ]
     },
     "execution_count": 101,
     "metadata": {},
     "output_type": "execute_result"
    }
   ],
   "source": [
    "all_data.head()"
   ]
  },
  {
   "cell_type": "code",
   "execution_count": 105,
   "metadata": {},
   "outputs": [],
   "source": [
    "all_data = all_data.sample(frac=1)"
   ]
  },
  {
   "cell_type": "code",
   "execution_count": 106,
   "metadata": {},
   "outputs": [
    {
     "data": {
      "text/plain": [
       "Index(['comment_text', 'toxic', 'severe_toxic', 'obscene', 'threat', 'insult',\n",
       "       'identity_hate'],\n",
       "      dtype='object')"
      ]
     },
     "execution_count": 106,
     "metadata": {},
     "output_type": "execute_result"
    }
   ],
   "source": [
    "all_data.columns"
   ]
  },
  {
   "cell_type": "code",
   "execution_count": 107,
   "metadata": {},
   "outputs": [
    {
     "name": "stdout",
     "output_type": "stream",
     "text": [
      "SHAPE  (159571, 7)\n",
      "\n",
      " comment_text     object\n",
      "toxic             int64\n",
      "severe_toxic      int64\n",
      "obscene           int64\n",
      "threat            int64\n",
      "insult            int64\n",
      "identity_hate     int64\n",
      "dtype: object\n"
     ]
    },
    {
     "data": {
      "text/plain": [
       "comment_text     0\n",
       "toxic            0\n",
       "severe_toxic     0\n",
       "obscene          0\n",
       "threat           0\n",
       "insult           0\n",
       "identity_hate    0\n",
       "dtype: int64"
      ]
     },
     "execution_count": 107,
     "metadata": {},
     "output_type": "execute_result"
    }
   ],
   "source": [
    "print(\"SHAPE \", all_data.shape)\n",
    "print(\"\\n\",all_data.dtypes)\n",
    "all_data.isnull().sum()"
   ]
  },
  {
   "cell_type": "code",
   "execution_count": 108,
   "metadata": {},
   "outputs": [],
   "source": [
    "X = all_data['comment_text']\n",
    "y = all_data[['toxic', 'severe_toxic' , 'obscene' , 'threat' , 'insult' , 'identity_hate']]"
   ]
  },
  {
   "cell_type": "code",
   "execution_count": 109,
   "metadata": {},
   "outputs": [
    {
     "data": {
      "text/plain": [
       "14517                          of textbook advice, e.g. Rao\n",
       "80437     for other things you can not find it in online...\n",
       "107895    \"\\n\\n Copyright problems with Image:Sw1end.JPG...\n",
       "140042    \"I'm pretty sure this should be \"\"Ron Lawruk\"\"...\n",
       "122567    \"Olyeller wrote: \"\"finding 2+ news articles fr...\n",
       "Name: comment_text, dtype: object"
      ]
     },
     "execution_count": 109,
     "metadata": {},
     "output_type": "execute_result"
    }
   ],
   "source": [
    "X.head()"
   ]
  },
  {
   "cell_type": "code",
   "execution_count": 110,
   "metadata": {},
   "outputs": [
    {
     "data": {
      "text/html": [
       "<div>\n",
       "<style scoped>\n",
       "    .dataframe tbody tr th:only-of-type {\n",
       "        vertical-align: middle;\n",
       "    }\n",
       "\n",
       "    .dataframe tbody tr th {\n",
       "        vertical-align: top;\n",
       "    }\n",
       "\n",
       "    .dataframe thead th {\n",
       "        text-align: right;\n",
       "    }\n",
       "</style>\n",
       "<table border=\"1\" class=\"dataframe\">\n",
       "  <thead>\n",
       "    <tr style=\"text-align: right;\">\n",
       "      <th></th>\n",
       "      <th>toxic</th>\n",
       "      <th>severe_toxic</th>\n",
       "      <th>obscene</th>\n",
       "      <th>threat</th>\n",
       "      <th>insult</th>\n",
       "      <th>identity_hate</th>\n",
       "    </tr>\n",
       "  </thead>\n",
       "  <tbody>\n",
       "    <tr>\n",
       "      <th>14517</th>\n",
       "      <td>0</td>\n",
       "      <td>0</td>\n",
       "      <td>0</td>\n",
       "      <td>0</td>\n",
       "      <td>0</td>\n",
       "      <td>0</td>\n",
       "    </tr>\n",
       "    <tr>\n",
       "      <th>80437</th>\n",
       "      <td>0</td>\n",
       "      <td>0</td>\n",
       "      <td>0</td>\n",
       "      <td>0</td>\n",
       "      <td>0</td>\n",
       "      <td>0</td>\n",
       "    </tr>\n",
       "    <tr>\n",
       "      <th>107895</th>\n",
       "      <td>0</td>\n",
       "      <td>0</td>\n",
       "      <td>0</td>\n",
       "      <td>0</td>\n",
       "      <td>0</td>\n",
       "      <td>0</td>\n",
       "    </tr>\n",
       "    <tr>\n",
       "      <th>140042</th>\n",
       "      <td>0</td>\n",
       "      <td>0</td>\n",
       "      <td>0</td>\n",
       "      <td>0</td>\n",
       "      <td>0</td>\n",
       "      <td>0</td>\n",
       "    </tr>\n",
       "    <tr>\n",
       "      <th>122567</th>\n",
       "      <td>0</td>\n",
       "      <td>0</td>\n",
       "      <td>0</td>\n",
       "      <td>0</td>\n",
       "      <td>0</td>\n",
       "      <td>0</td>\n",
       "    </tr>\n",
       "  </tbody>\n",
       "</table>\n",
       "</div>"
      ],
      "text/plain": [
       "        toxic  severe_toxic  obscene  threat  insult  identity_hate\n",
       "14517       0             0        0       0       0              0\n",
       "80437       0             0        0       0       0              0\n",
       "107895      0             0        0       0       0              0\n",
       "140042      0             0        0       0       0              0\n",
       "122567      0             0        0       0       0              0"
      ]
     },
     "execution_count": 110,
     "metadata": {},
     "output_type": "execute_result"
    }
   ],
   "source": [
    "y.head()"
   ]
  },
  {
   "cell_type": "markdown",
   "metadata": {},
   "source": [
    "### UNDERSTANDING DATA VIA VISUALIZATION"
   ]
  },
  {
   "cell_type": "markdown",
   "metadata": {},
   "source": [
    "Marking comments with no toxic tags \"clean\""
   ]
  },
  {
   "cell_type": "code",
   "execution_count": 111,
   "metadata": {},
   "outputs": [
    {
     "data": {
      "text/plain": [
       "14517     0\n",
       "80437     0\n",
       "107895    0\n",
       "140042    0\n",
       "122567    0\n",
       "dtype: int64"
      ]
     },
     "execution_count": 111,
     "metadata": {},
     "output_type": "execute_result"
    }
   ],
   "source": [
    "rowsums = all_data.iloc[:,1:7].sum(axis=1)\n",
    "rowsums[:5]"
   ]
  },
  {
   "cell_type": "code",
   "execution_count": 112,
   "metadata": {},
   "outputs": [],
   "source": [
    "all_data['clean'] = np.logical_not(rowsums).astype('int')"
   ]
  },
  {
   "cell_type": "code",
   "execution_count": 113,
   "metadata": {},
   "outputs": [
    {
     "data": {
      "text/html": [
       "<div>\n",
       "<style scoped>\n",
       "    .dataframe tbody tr th:only-of-type {\n",
       "        vertical-align: middle;\n",
       "    }\n",
       "\n",
       "    .dataframe tbody tr th {\n",
       "        vertical-align: top;\n",
       "    }\n",
       "\n",
       "    .dataframe thead th {\n",
       "        text-align: right;\n",
       "    }\n",
       "</style>\n",
       "<table border=\"1\" class=\"dataframe\">\n",
       "  <thead>\n",
       "    <tr style=\"text-align: right;\">\n",
       "      <th></th>\n",
       "      <th>severe_toxic</th>\n",
       "      <th>obscene</th>\n",
       "      <th>threat</th>\n",
       "      <th>insult</th>\n",
       "      <th>identity_hate</th>\n",
       "      <th>clean</th>\n",
       "    </tr>\n",
       "  </thead>\n",
       "  <tbody>\n",
       "    <tr>\n",
       "      <th>14517</th>\n",
       "      <td>0</td>\n",
       "      <td>0</td>\n",
       "      <td>0</td>\n",
       "      <td>0</td>\n",
       "      <td>0</td>\n",
       "      <td>1</td>\n",
       "    </tr>\n",
       "    <tr>\n",
       "      <th>80437</th>\n",
       "      <td>0</td>\n",
       "      <td>0</td>\n",
       "      <td>0</td>\n",
       "      <td>0</td>\n",
       "      <td>0</td>\n",
       "      <td>1</td>\n",
       "    </tr>\n",
       "    <tr>\n",
       "      <th>107895</th>\n",
       "      <td>0</td>\n",
       "      <td>0</td>\n",
       "      <td>0</td>\n",
       "      <td>0</td>\n",
       "      <td>0</td>\n",
       "      <td>1</td>\n",
       "    </tr>\n",
       "    <tr>\n",
       "      <th>140042</th>\n",
       "      <td>0</td>\n",
       "      <td>0</td>\n",
       "      <td>0</td>\n",
       "      <td>0</td>\n",
       "      <td>0</td>\n",
       "      <td>1</td>\n",
       "    </tr>\n",
       "    <tr>\n",
       "      <th>122567</th>\n",
       "      <td>0</td>\n",
       "      <td>0</td>\n",
       "      <td>0</td>\n",
       "      <td>0</td>\n",
       "      <td>0</td>\n",
       "      <td>1</td>\n",
       "    </tr>\n",
       "  </tbody>\n",
       "</table>\n",
       "</div>"
      ],
      "text/plain": [
       "        severe_toxic  obscene  threat  insult  identity_hate  clean\n",
       "14517              0        0       0       0              0      1\n",
       "80437              0        0       0       0              0      1\n",
       "107895             0        0       0       0              0      1\n",
       "140042             0        0       0       0              0      1\n",
       "122567             0        0       0       0              0      1"
      ]
     },
     "execution_count": 113,
     "metadata": {},
     "output_type": "execute_result"
    }
   ],
   "source": [
    "all_data.iloc[:5,2:]"
   ]
  },
  {
   "cell_type": "code",
   "execution_count": 114,
   "metadata": {},
   "outputs": [
    {
     "data": {
      "text/plain": [
       "159571"
      ]
     },
     "execution_count": 114,
     "metadata": {},
     "output_type": "execute_result"
    }
   ],
   "source": [
    "total_comments = len(all_data)\n",
    "total_comments"
   ]
  },
  {
   "cell_type": "code",
   "execution_count": 115,
   "metadata": {},
   "outputs": [
    {
     "data": {
      "text/plain": [
       "143346"
      ]
     },
     "execution_count": 115,
     "metadata": {},
     "output_type": "execute_result"
    }
   ],
   "source": [
    "total_clean_comments = all_data['clean'].sum()\n",
    "total_clean_comments"
   ]
  },
  {
   "cell_type": "code",
   "execution_count": 116,
   "metadata": {},
   "outputs": [
    {
     "data": {
      "text/plain": [
       "severe_toxic       1595\n",
       "obscene            8449\n",
       "threat              478\n",
       "insult             7877\n",
       "identity_hate      1405\n",
       "clean            143346\n",
       "dtype: int64"
      ]
     },
     "execution_count": 116,
     "metadata": {},
     "output_type": "execute_result"
    }
   ],
   "source": [
    "total_tags = abs(all_data.iloc[:,2:8].sum())\n",
    "total_tags"
   ]
  },
  {
   "cell_type": "code",
   "execution_count": 117,
   "metadata": {},
   "outputs": [],
   "source": [
    "x = all_data.iloc[:,2:].sum()"
   ]
  },
  {
   "cell_type": "code",
   "execution_count": 118,
   "metadata": {},
   "outputs": [
    {
     "data": {
      "text/plain": [
       "array([  1595,   8449,    478,   7877,   1405, 143346], dtype=int64)"
      ]
     },
     "execution_count": 118,
     "metadata": {},
     "output_type": "execute_result"
    }
   ],
   "source": [
    "x.values"
   ]
  },
  {
   "cell_type": "code",
   "execution_count": 121,
   "metadata": {},
   "outputs": [
    {
     "data": {
      "image/png": "[encoded data removed]",
      "text/plain": [
       "<Figure size 432x288 with 1 Axes>"
      ]
     },
     "metadata": {},
     "output_type": "display_data"
    }
   ],
   "source": [
    "# COMPOSITION OF TYPES OF COMMENTS\n",
    "plt.bar(y.columns, total_tags)\n",
    "plt.ylabel(\"Number of occurence\")\n",
    "plt.xlabel(\"Class of comment\")\n",
    "plt.grid(True)\n",
    "plt.show()"
   ]
  },
  {
   "cell_type": "code",
   "execution_count": 123,
   "metadata": {},
   "outputs": [],
   "source": [
    "comment_lengths = [len(x) for x in X]\n",
    "# comment_lengths"
   ]
  },
  {
   "cell_type": "code",
   "execution_count": 124,
   "metadata": {},
   "outputs": [
    {
     "data": {
      "image/png": "[encoded data removed]",
      "text/plain": [
       "<Figure size 432x288 with 1 Axes>"
      ]
     },
     "metadata": {},
     "output_type": "display_data"
    }
   ],
   "source": [
    "# AVERAGE COMMENT LENGTH\n",
    "bins = [1,100,200,300,400,500,600,700,800,900,1000,1100,1200]\n",
    "plt.hist(comment_lengths, bins = bins)\n",
    "plt.xlabel(\"Length of comments\")\n",
    "plt.ylabel(\"Number of comments\")\n",
    "plt.grid(True)\n",
    "plt.show()"
   ]
  },
  {
   "cell_type": "markdown",
   "metadata": {},
   "source": [
    "### PREPARING DATA\n",
    "* Remove stop words, punctuations and special characters\n",
    "* Tokenizing, stemming and lemmatising\n",
    "* apply tfidf vectorization or count vectorization"
   ]
  },
  {
   "cell_type": "code",
   "execution_count": 125,
   "metadata": {},
   "outputs": [
    {
     "name": "stdout",
     "output_type": "stream",
     "text": [
      "[nltk_data] Downloading package wordnet to\n",
      "[nltk_data]     C:\\Users\\bpakh\\AppData\\Roaming\\nltk_data...\n",
      "[nltk_data]   Package wordnet is already up-to-date!\n"
     ]
    },
    {
     "data": {
      "text/plain": [
       "True"
      ]
     },
     "execution_count": 125,
     "metadata": {},
     "output_type": "execute_result"
    }
   ],
   "source": [
    "import string\n",
    "import re\n",
    "from nltk.corpus import stopwords\n",
    "import nltk\n",
    "from nltk.stem import PorterStemmer, WordNetLemmatizer\n",
    "nltk.download('wordnet')\n",
    "# string.punctuation"
   ]
  },
  {
   "cell_type": "code",
   "execution_count": 80,
   "metadata": {},
   "outputs": [],
   "source": [
    "# REPLACE_BY_SPACE_RE = re.compile('[/(){}\\[\\]\\|@,;]')\n",
    "# BAD_SYMBOLS_RE = re.compile('[^0-9a-z #+_]')\n",
    "# STOPWORDS = stopwords.words('english')\n",
    "# lemmatiser = WordNetLemmatizer()\n",
    "# stemmer = PorterStemmer()"
   ]
  },
  {
   "cell_type": "code",
   "execution_count": 81,
   "metadata": {},
   "outputs": [],
   "source": [
    "# def text_prepare(text):\n",
    "#     text = re.sub(REPLACE_BY_SPACE_RE, \" \", text)\n",
    "#     text = re.sub(BAD_SYMBOLS_RE, \"\", text) \n",
    "#     for sw in STOPWORDS:\n",
    "#         text = text.replace(\" \"+sw+\" \", \" \") \n",
    "#     final_text = []\n",
    "#     for word in text.split():\n",
    "# #         print(word)\n",
    "#         final_text.append(stemmer.stem(lemmatiser.lemmatize(word.lower())))\n",
    "#     return final_text"
   ]
  },
  {
   "cell_type": "code",
   "execution_count": 82,
   "metadata": {},
   "outputs": [],
   "source": [
    "# X.iloc[0]"
   ]
  },
  {
   "cell_type": "code",
   "execution_count": 83,
   "metadata": {
    "scrolled": true
   },
   "outputs": [],
   "source": [
    "# from tqdm import tqdm\n",
    "# for i in tqdm(range(X.shape[0])):\n",
    "#     X.iloc[i] = text_prepare(X.iloc[i])"
   ]
  },
  {
   "cell_type": "code",
   "execution_count": 126,
   "metadata": {},
   "outputs": [
    {
     "name": "stdout",
     "output_type": "stream",
     "text": [
      "X_train shape:  (111699,) \n",
      "X_test shape:  (47872,) \n",
      "Y_train shape:  (111699, 6) \n",
      "Y_test shape:  (47872, 6)\n"
     ]
    }
   ],
   "source": [
    "from sklearn.model_selection import train_test_split\n",
    "X_train, X_test, y_train, y_test = train_test_split(X,y,test_size=0.3)\n",
    "print(\"X_train shape: \", X_train.shape, \"\\nX_test shape: \", X_test.shape,\"\\nY_train shape: \", y_train.shape, \"\\nY_test shape: \", y_test.shape)  "
   ]
  },
  {
   "cell_type": "markdown",
   "metadata": {},
   "source": [
    "### PREPROCESSING TEXT"
   ]
  },
  {
   "cell_type": "code",
   "execution_count": 179,
   "metadata": {},
   "outputs": [],
   "source": [
    "from keras.preprocessing.text import Tokenizer\n",
    "from keras.preprocessing.sequence import pad_sequences\n",
    "max_features = 20000\n",
    "tokenizer = Tokenizer(num_words=max_features)\n",
    "tokenizer.fit_on_texts(list(X_train))\n",
    "tokenized_X_train = tokenizer.texts_to_sequences(X_train)\n",
    "padded_X_train = pad_sequences(tokenized_X_train, maxlen=100)"
   ]
  },
  {
   "cell_type": "markdown",
   "metadata": {},
   "source": [
    "### MODEL 1\n",
    "Dense Neural Network"
   ]
  },
  {
   "cell_type": "code",
   "execution_count": 183,
   "metadata": {},
   "outputs": [],
   "source": [
    "from keras.models import Sequential\n",
    "from keras.layers import Dense, Activation, Dropout\n",
    "from keras.layers import Dense, Input, LSTM, Embedding, Dropout, Activation\n",
    "from keras.layers import Bidirectional, GlobalMaxPool1D\n",
    "from keras.models import Model\n",
    "from keras import initializers, regularizers, constraints, optimizers, layers\n",
    "\n",
    "from sklearn import metrics"
   ]
  },
  {
   "cell_type": "code",
   "execution_count": 188,
   "metadata": {},
   "outputs": [
    {
     "data": {
      "text/plain": [
       "(111699, 100)"
      ]
     },
     "execution_count": 188,
     "metadata": {},
     "output_type": "execute_result"
    }
   ],
   "source": [
    "padded_X_train.shape"
   ]
  },
  {
   "cell_type": "code",
   "execution_count": 196,
   "metadata": {},
   "outputs": [
    {
     "name": "stdout",
     "output_type": "stream",
     "text": [
      "_________________________________________________________________\n",
      "Layer (type)                 Output Shape              Param #   \n",
      "=================================================================\n",
      "dense_14 (Dense)             (None, 4)                 404       \n",
      "_________________________________________________________________\n",
      "dropout_12 (Dropout)         (None, 4)                 0         \n",
      "_________________________________________________________________\n",
      "dense_15 (Dense)             (None, 6)                 30        \n",
      "=================================================================\n",
      "Total params: 434\n",
      "Trainable params: 434\n",
      "Non-trainable params: 0\n",
      "_________________________________________________________________\n"
     ]
    }
   ],
   "source": [
    "# inp = Input(shape=(100, )) \n",
    "model = Sequential()\n",
    "model.add(Dense(4, activation='relu', input_dim = padded_X_train.shape[1]))\n",
    "model.add(Dropout(0.3))\n",
    "model.add(Dense(6, activation='sigmoid'))\n",
    "model.summary()"
   ]
  },
  {
   "cell_type": "code",
   "execution_count": 197,
   "metadata": {},
   "outputs": [],
   "source": [
    "model.compile(optimizer='rmsprop', loss='categorical_crossentropy',metrics=['accuracy'])"
   ]
  },
  {
   "cell_type": "code",
   "execution_count": 198,
   "metadata": {
    "scrolled": true
   },
   "outputs": [
    {
     "name": "stdout",
     "output_type": "stream",
     "text": [
      "Epoch 1/10\n",
      "111699/111699 [==============================] - ETA: 47:30 - loss: 1.0996 - acc: 0.90 - ETA: 3:35 - loss: 0.6646 - acc: 0.9062 - ETA: 1:49 - loss: 0.7491 - acc: 0.914 - ETA: 1:16 - loss: 0.8500 - acc: 0.914 - ETA: 57s - loss: 0.8644 - acc: 0.906 - ETA: 46s - loss: 0.8108 - acc: 0.90 - ETA: 40s - loss: 0.7917 - acc: 0.90 - ETA: 35s - loss: 0.8254 - acc: 0.90 - ETA: 31s - loss: 0.8079 - acc: 0.90 - ETA: 29s - loss: 0.7795 - acc: 0.89 - ETA: 26s - loss: 0.8177 - acc: 0.90 - ETA: 25s - loss: 0.8069 - acc: 0.90 - ETA: 23s - loss: 0.8051 - acc: 0.90 - ETA: 22s - loss: 0.8078 - acc: 0.90 - ETA: 21s - loss: 0.7890 - acc: 0.90 - ETA: 20s - loss: 0.7887 - acc: 0.90 - ETA: 20s - loss: 0.7813 - acc: 0.90 - ETA: 19s - loss: 0.7752 - acc: 0.90 - ETA: 18s - loss: 0.7905 - acc: 0.90 - ETA: 18s - loss: 0.7815 - acc: 0.91 - ETA: 17s - loss: 0.7795 - acc: 0.91 - ETA: 17s - loss: 0.7848 - acc: 0.91 - ETA: 16s - loss: 0.7718 - acc: 0.91 - ETA: 16s - loss: 0.7836 - acc: 0.91 - ETA: 15s - loss: 0.7835 - acc: 0.91 - ETA: 15s - loss: 0.7748 - acc: 0.91 - ETA: 15s - loss: 0.7770 - acc: 0.91 - ETA: 14s - loss: 0.7779 - acc: 0.91 - ETA: 14s - loss: 0.7693 - acc: 0.91 - ETA: 14s - loss: 0.7599 - acc: 0.91 - ETA: 14s - loss: 0.7525 - acc: 0.92 - ETA: 13s - loss: 0.7503 - acc: 0.92 - ETA: 13s - loss: 0.7551 - acc: 0.92 - ETA: 13s - loss: 0.7491 - acc: 0.92 - ETA: 13s - loss: 0.7438 - acc: 0.92 - ETA: 13s - loss: 0.7398 - acc: 0.92 - ETA: 12s - loss: 0.7378 - acc: 0.92 - ETA: 12s - loss: 0.7370 - acc: 0.92 - ETA: 12s - loss: 0.7340 - acc: 0.92 - ETA: 12s - loss: 0.7339 - acc: 0.92 - ETA: 12s - loss: 0.7303 - acc: 0.92 - ETA: 12s - loss: 0.7313 - acc: 0.92 - ETA: 11s - loss: 0.7245 - acc: 0.92 - ETA: 11s - loss: 0.7213 - acc: 0.92 - ETA: 11s - loss: 0.7153 - acc: 0.92 - ETA: 11s - loss: 0.7127 - acc: 0.93 - ETA: 11s - loss: 0.7080 - acc: 0.93 - ETA: 11s - loss: 0.7028 - acc: 0.93 - ETA: 11s - loss: 0.7043 - acc: 0.93 - ETA: 10s - loss: 0.7027 - acc: 0.93 - ETA: 10s - loss: 0.7017 - acc: 0.93 - ETA: 10s - loss: 0.7008 - acc: 0.93 - ETA: 10s - loss: 0.7004 - acc: 0.93 - ETA: 10s - loss: 0.6980 - acc: 0.93 - ETA: 10s - loss: 0.6939 - acc: 0.93 - ETA: 10s - loss: 0.6917 - acc: 0.93 - ETA: 10s - loss: 0.6886 - acc: 0.93 - ETA: 10s - loss: 0.6858 - acc: 0.93 - ETA: 9s - loss: 0.6843 - acc: 0.9358 - ETA: 9s - loss: 0.6834 - acc: 0.936 - ETA: 9s - loss: 0.6866 - acc: 0.936 - ETA: 9s - loss: 0.6843 - acc: 0.936 - ETA: 9s - loss: 0.6848 - acc: 0.937 - ETA: 9s - loss: 0.6824 - acc: 0.937 - ETA: 9s - loss: 0.6802 - acc: 0.937 - ETA: 9s - loss: 0.6778 - acc: 0.938 - ETA: 9s - loss: 0.6773 - acc: 0.938 - ETA: 9s - loss: 0.6784 - acc: 0.938 - ETA: 9s - loss: 0.6823 - acc: 0.939 - ETA: 8s - loss: 0.6817 - acc: 0.939 - ETA: 8s - loss: 0.6789 - acc: 0.939 - ETA: 8s - loss: 0.6822 - acc: 0.939 - ETA: 8s - loss: 0.6823 - acc: 0.940 - ETA: 8s - loss: 0.6811 - acc: 0.940 - ETA: 8s - loss: 0.6818 - acc: 0.940 - ETA: 8s - loss: 0.6786 - acc: 0.941 - ETA: 8s - loss: 0.6770 - acc: 0.941 - ETA: 8s - loss: 0.6796 - acc: 0.941 - ETA: 8s - loss: 0.6750 - acc: 0.941 - ETA: 8s - loss: 0.6739 - acc: 0.942 - ETA: 8s - loss: 0.6736 - acc: 0.942 - ETA: 7s - loss: 0.6699 - acc: 0.942 - ETA: 7s - loss: 0.6686 - acc: 0.942 - ETA: 7s - loss: 0.6686 - acc: 0.943 - ETA: 7s - loss: 0.6659 - acc: 0.943 - ETA: 7s - loss: 0.6659 - acc: 0.943 - ETA: 7s - loss: 0.6641 - acc: 0.943 - ETA: 7s - loss: 0.6622 - acc: 0.944 - ETA: 7s - loss: 0.6589 - acc: 0.944 - ETA: 7s - loss: 0.6583 - acc: 0.944 - ETA: 7s - loss: 0.6591 - acc: 0.944 - ETA: 7s - loss: 0.6586 - acc: 0.945 - ETA: 7s - loss: 0.6580 - acc: 0.945 - ETA: 7s - loss: 0.6562 - acc: 0.945 - ETA: 7s - loss: 0.6580 - acc: 0.945 - ETA: 6s - loss: 0.6594 - acc: 0.946 - ETA: 6s - loss: 0.6592 - acc: 0.946 - ETA: 6s - loss: 0.6554 - acc: 0.946 - ETA: 6s - loss: 0.6531 - acc: 0.946 - ETA: 6s - loss: 0.6505 - acc: 0.946 - ETA: 6s - loss: 0.6494 - acc: 0.946 - ETA: 6s - loss: 0.6467 - acc: 0.947 - ETA: 6s - loss: 0.6449 - acc: 0.947 - ETA: 6s - loss: 0.6455 - acc: 0.947 - ETA: 6s - loss: 0.6435 - acc: 0.947 - ETA: 6s - loss: 0.6444 - acc: 0.948 - ETA: 6s - loss: 0.6433 - acc: 0.948 - ETA: 6s - loss: 0.6426 - acc: 0.948 - ETA: 6s - loss: 0.6418 - acc: 0.948 - ETA: 6s - loss: 0.6400 - acc: 0.949 - ETA: 5s - loss: 0.6380 - acc: 0.949 - ETA: 5s - loss: 0.6379 - acc: 0.949 - ETA: 5s - loss: 0.6369 - acc: 0.949 - ETA: 5s - loss: 0.6367 - acc: 0.949 - ETA: 5s - loss: 0.6349 - acc: 0.950 - ETA: 5s - loss: 0.6322 - acc: 0.950 - ETA: 5s - loss: 0.6319 - acc: 0.950 - ETA: 5s - loss: 0.6300 - acc: 0.950 - ETA: 5s - loss: 0.6306 - acc: 0.950 - ETA: 5s - loss: 0.6290 - acc: 0.951 - ETA: 5s - loss: 0.6281 - acc: 0.951 - ETA: 5s - loss: 0.6260 - acc: 0.951 - ETA: 5s - loss: 0.6258 - acc: 0.951 - ETA: 5s - loss: 0.6257 - acc: 0.951 - ETA: 5s - loss: 0.6235 - acc: 0.952 - ETA: 5s - loss: 0.6219 - acc: 0.952 - ETA: 4s - loss: 0.6213 - acc: 0.952 - ETA: 4s - loss: 0.6209 - acc: 0.952 - ETA: 4s - loss: 0.6207 - acc: 0.952 - ETA: 4s - loss: 0.6191 - acc: 0.952 - ETA: 4s - loss: 0.6170 - acc: 0.953 - ETA: 4s - loss: 0.6157 - acc: 0.953 - ETA: 4s - loss: 0.6146 - acc: 0.953 - ETA: 4s - loss: 0.6147 - acc: 0.953 - ETA: 4s - loss: 0.6125 - acc: 0.953 - ETA: 4s - loss: 0.6123 - acc: 0.953 - ETA: 4s - loss: 0.6102 - acc: 0.953 - ETA: 4s - loss: 0.6093 - acc: 0.954 - ETA: 4s - loss: 0.6083 - acc: 0.954 - ETA: 4s - loss: 0.6088 - acc: 0.954 - ETA: 4s - loss: 0.6078 - acc: 0.954 - ETA: 4s - loss: 0.6082 - acc: 0.954 - ETA: 3s - loss: 0.6079 - acc: 0.954 - ETA: 3s - loss: 0.6071 - acc: 0.954 - ETA: 3s - loss: 0.6057 - acc: 0.955 - ETA: 3s - loss: 0.6056 - acc: 0.955 - ETA: 3s - loss: 0.6051 - acc: 0.955 - ETA: 3s - loss: 0.6035 - acc: 0.955 - ETA: 3s - loss: 0.6014 - acc: 0.955 - ETA: 3s - loss: 0.6016 - acc: 0.955 - ETA: 3s - loss: 0.6008 - acc: 0.955 - ETA: 3s - loss: 0.5996 - acc: 0.956 - ETA: 3s - loss: 0.5990 - acc: 0.956 - ETA: 3s - loss: 0.5980 - acc: 0.956 - ETA: 3s - loss: 0.5963 - acc: 0.956 - ETA: 3s - loss: 0.5961 - acc: 0.956 - ETA: 3s - loss: 0.5941 - acc: 0.956 - ETA: 3s - loss: 0.5926 - acc: 0.956 - ETA: 2s - loss: 0.5916 - acc: 0.957 - ETA: 2s - loss: 0.5913 - acc: 0.957 - ETA: 2s - loss: 0.5906 - acc: 0.957 - ETA: 2s - loss: 0.5898 - acc: 0.957 - ETA: 2s - loss: 0.5884 - acc: 0.957 - ETA: 2s - loss: 0.5869 - acc: 0.957 - ETA: 2s - loss: 0.5849 - acc: 0.957 - ETA: 2s - loss: 0.5844 - acc: 0.957 - ETA: 2s - loss: 0.5832 - acc: 0.958 - ETA: 2s - loss: 0.5832 - acc: 0.958 - ETA: 2s - loss: 0.5828 - acc: 0.958 - ETA: 2s - loss: 0.5823 - acc: 0.958 - ETA: 2s - loss: 0.5813 - acc: 0.958 - ETA: 2s - loss: 0.5809 - acc: 0.958 - ETA: 2s - loss: 0.5801 - acc: 0.958 - ETA: 2s - loss: 0.5782 - acc: 0.959 - ETA: 2s - loss: 0.5773 - acc: 0.959 - ETA: 1s - loss: 0.5767 - acc: 0.959 - ETA: 1s - loss: 0.5762 - acc: 0.959 - ETA: 1s - loss: 0.5761 - acc: 0.959 - ETA: 1s - loss: 0.5745 - acc: 0.959 - ETA: 1s - loss: 0.5746 - acc: 0.959 - ETA: 1s - loss: 0.5739 - acc: 0.960 - ETA: 1s - loss: 0.5731 - acc: 0.960 - ETA: 1s - loss: 0.5722 - acc: 0.960 - ETA: 1s - loss: 0.5704 - acc: 0.960 - ETA: 1s - loss: 0.5690 - acc: 0.960 - ETA: 1s - loss: 0.5686 - acc: 0.960 - ETA: 1s - loss: 0.5677 - acc: 0.960 - ETA: 1s - loss: 0.5665 - acc: 0.961 - ETA: 1s - loss: 0.5670 - acc: 0.961 - ETA: 1s - loss: 0.5663 - acc: 0.961 - ETA: 1s - loss: 0.5644 - acc: 0.961 - ETA: 1s - loss: 0.5634 - acc: 0.961 - ETA: 0s - loss: 0.5616 - acc: 0.961 - ETA: 0s - loss: 0.5606 - acc: 0.961 - ETA: 0s - loss: 0.5597 - acc: 0.961 - ETA: 0s - loss: 0.5593 - acc: 0.962 - ETA: 0s - loss: 0.5587 - acc: 0.962 - ETA: 0s - loss: 0.5580 - acc: 0.962 - ETA: 0s - loss: 0.5576 - acc: 0.962 - ETA: 0s - loss: 0.5569 - acc: 0.962 - ETA: 0s - loss: 0.5565 - acc: 0.962 - ETA: 0s - loss: 0.5551 - acc: 0.962 - ETA: 0s - loss: 0.5541 - acc: 0.962 - ETA: 0s - loss: 0.5528 - acc: 0.962 - ETA: 0s - loss: 0.5519 - acc: 0.963 - ETA: 0s - loss: 0.5508 - acc: 0.963 - ETA: 0s - loss: 0.5497 - acc: 0.963 - ETA: 0s - loss: 0.5493 - acc: 0.963 - ETA: 0s - loss: 0.5487 - acc: 0.963 - 12s 104us/step - loss: 0.5481 - acc: 0.9634\n",
      "Epoch 2/10\n"
     ]
    },
    {
     "name": "stdout",
     "output_type": "stream",
     "text": [
      "111699/111699 [==============================] - ETA: 27s - loss: 0.1216 - acc: 1.00 - ETA: 12s - loss: 0.3707 - acc: 0.98 - ETA: 11s - loss: 0.3917 - acc: 0.98 - ETA: 10s - loss: 0.3928 - acc: 0.98 - ETA: 10s - loss: 0.3930 - acc: 0.98 - ETA: 10s - loss: 0.4201 - acc: 0.98 - ETA: 10s - loss: 0.4151 - acc: 0.98 - ETA: 10s - loss: 0.4061 - acc: 0.98 - ETA: 10s - loss: 0.4015 - acc: 0.98 - ETA: 10s - loss: 0.3893 - acc: 0.98 - ETA: 10s - loss: 0.3866 - acc: 0.98 - ETA: 10s - loss: 0.3950 - acc: 0.98 - ETA: 10s - loss: 0.4089 - acc: 0.98 - ETA: 10s - loss: 0.4057 - acc: 0.98 - ETA: 9s - loss: 0.4082 - acc: 0.9864 - ETA: 9s - loss: 0.4105 - acc: 0.986 - ETA: 9s - loss: 0.4090 - acc: 0.986 - ETA: 9s - loss: 0.4081 - acc: 0.986 - ETA: 9s - loss: 0.4047 - acc: 0.986 - ETA: 9s - loss: 0.4104 - acc: 0.986 - ETA: 9s - loss: 0.4074 - acc: 0.986 - ETA: 9s - loss: 0.4002 - acc: 0.986 - ETA: 9s - loss: 0.3991 - acc: 0.986 - ETA: 9s - loss: 0.3973 - acc: 0.986 - ETA: 9s - loss: 0.4017 - acc: 0.987 - ETA: 9s - loss: 0.3952 - acc: 0.987 - ETA: 9s - loss: 0.3937 - acc: 0.987 - ETA: 9s - loss: 0.3904 - acc: 0.987 - ETA: 9s - loss: 0.3919 - acc: 0.987 - ETA: 9s - loss: 0.3898 - acc: 0.987 - ETA: 8s - loss: 0.3920 - acc: 0.987 - ETA: 8s - loss: 0.3905 - acc: 0.987 - ETA: 8s - loss: 0.3873 - acc: 0.987 - ETA: 8s - loss: 0.3855 - acc: 0.987 - ETA: 8s - loss: 0.3886 - acc: 0.987 - ETA: 8s - loss: 0.3899 - acc: 0.987 - ETA: 8s - loss: 0.3860 - acc: 0.987 - ETA: 8s - loss: 0.3876 - acc: 0.987 - ETA: 8s - loss: 0.3886 - acc: 0.987 - ETA: 8s - loss: 0.3892 - acc: 0.987 - ETA: 8s - loss: 0.3854 - acc: 0.987 - ETA: 8s - loss: 0.3856 - acc: 0.987 - ETA: 8s - loss: 0.3824 - acc: 0.987 - ETA: 8s - loss: 0.3824 - acc: 0.987 - ETA: 8s - loss: 0.3824 - acc: 0.987 - ETA: 8s - loss: 0.3803 - acc: 0.987 - ETA: 8s - loss: 0.3792 - acc: 0.987 - ETA: 8s - loss: 0.3769 - acc: 0.987 - ETA: 8s - loss: 0.3754 - acc: 0.987 - ETA: 8s - loss: 0.3750 - acc: 0.987 - ETA: 8s - loss: 0.3749 - acc: 0.987 - ETA: 7s - loss: 0.3739 - acc: 0.987 - ETA: 7s - loss: 0.3735 - acc: 0.987 - ETA: 7s - loss: 0.3729 - acc: 0.987 - ETA: 7s - loss: 0.3744 - acc: 0.987 - ETA: 7s - loss: 0.3749 - acc: 0.987 - ETA: 7s - loss: 0.3761 - acc: 0.987 - ETA: 7s - loss: 0.3771 - acc: 0.987 - ETA: 7s - loss: 0.3763 - acc: 0.987 - ETA: 7s - loss: 0.3769 - acc: 0.987 - ETA: 7s - loss: 0.3773 - acc: 0.987 - ETA: 7s - loss: 0.3777 - acc: 0.987 - ETA: 7s - loss: 0.3771 - acc: 0.987 - ETA: 7s - loss: 0.3761 - acc: 0.987 - ETA: 7s - loss: 0.3773 - acc: 0.987 - ETA: 7s - loss: 0.3785 - acc: 0.987 - ETA: 7s - loss: 0.3780 - acc: 0.987 - ETA: 7s - loss: 0.3782 - acc: 0.987 - ETA: 7s - loss: 0.3785 - acc: 0.987 - ETA: 7s - loss: 0.3784 - acc: 0.987 - ETA: 6s - loss: 0.3773 - acc: 0.987 - ETA: 6s - loss: 0.3774 - acc: 0.987 - ETA: 6s - loss: 0.3772 - acc: 0.987 - ETA: 6s - loss: 0.3767 - acc: 0.988 - ETA: 6s - loss: 0.3770 - acc: 0.988 - ETA: 6s - loss: 0.3773 - acc: 0.988 - ETA: 6s - loss: 0.3768 - acc: 0.988 - ETA: 6s - loss: 0.3769 - acc: 0.988 - ETA: 6s - loss: 0.3793 - acc: 0.988 - ETA: 6s - loss: 0.3794 - acc: 0.988 - ETA: 6s - loss: 0.3793 - acc: 0.988 - ETA: 6s - loss: 0.3783 - acc: 0.988 - ETA: 6s - loss: 0.3785 - acc: 0.988 - ETA: 6s - loss: 0.3800 - acc: 0.988 - ETA: 6s - loss: 0.3793 - acc: 0.988 - ETA: 6s - loss: 0.3786 - acc: 0.988 - ETA: 6s - loss: 0.3781 - acc: 0.988 - ETA: 6s - loss: 0.3788 - acc: 0.988 - ETA: 6s - loss: 0.3794 - acc: 0.988 - ETA: 6s - loss: 0.3787 - acc: 0.988 - ETA: 5s - loss: 0.3786 - acc: 0.988 - ETA: 5s - loss: 0.3786 - acc: 0.988 - ETA: 5s - loss: 0.3789 - acc: 0.988 - ETA: 5s - loss: 0.3793 - acc: 0.988 - ETA: 5s - loss: 0.3794 - acc: 0.988 - ETA: 5s - loss: 0.3782 - acc: 0.988 - ETA: 5s - loss: 0.3784 - acc: 0.988 - ETA: 5s - loss: 0.3791 - acc: 0.988 - ETA: 5s - loss: 0.3780 - acc: 0.988 - ETA: 5s - loss: 0.3770 - acc: 0.988 - ETA: 5s - loss: 0.3775 - acc: 0.988 - ETA: 5s - loss: 0.3766 - acc: 0.988 - ETA: 5s - loss: 0.3758 - acc: 0.988 - ETA: 5s - loss: 0.3759 - acc: 0.988 - ETA: 5s - loss: 0.3758 - acc: 0.988 - ETA: 5s - loss: 0.3759 - acc: 0.988 - ETA: 5s - loss: 0.3761 - acc: 0.988 - ETA: 5s - loss: 0.3753 - acc: 0.988 - ETA: 5s - loss: 0.3752 - acc: 0.988 - ETA: 5s - loss: 0.3747 - acc: 0.988 - ETA: 4s - loss: 0.3751 - acc: 0.988 - ETA: 4s - loss: 0.3750 - acc: 0.988 - ETA: 4s - loss: 0.3748 - acc: 0.988 - ETA: 4s - loss: 0.3747 - acc: 0.988 - ETA: 4s - loss: 0.3741 - acc: 0.989 - ETA: 4s - loss: 0.3743 - acc: 0.989 - ETA: 4s - loss: 0.3746 - acc: 0.988 - ETA: 4s - loss: 0.3745 - acc: 0.989 - ETA: 4s - loss: 0.3745 - acc: 0.989 - ETA: 4s - loss: 0.3744 - acc: 0.989 - ETA: 4s - loss: 0.3754 - acc: 0.989 - ETA: 4s - loss: 0.3747 - acc: 0.989 - ETA: 4s - loss: 0.3744 - acc: 0.989 - ETA: 4s - loss: 0.3738 - acc: 0.989 - ETA: 4s - loss: 0.3737 - acc: 0.989 - ETA: 4s - loss: 0.3736 - acc: 0.989 - ETA: 4s - loss: 0.3739 - acc: 0.989 - ETA: 4s - loss: 0.3754 - acc: 0.989 - ETA: 4s - loss: 0.3752 - acc: 0.989 - ETA: 3s - loss: 0.3751 - acc: 0.989 - ETA: 3s - loss: 0.3749 - acc: 0.989 - ETA: 3s - loss: 0.3749 - acc: 0.989 - ETA: 3s - loss: 0.3747 - acc: 0.989 - ETA: 3s - loss: 0.3739 - acc: 0.989 - ETA: 3s - loss: 0.3742 - acc: 0.989 - ETA: 3s - loss: 0.3742 - acc: 0.989 - ETA: 3s - loss: 0.3750 - acc: 0.989 - ETA: 3s - loss: 0.3749 - acc: 0.989 - ETA: 3s - loss: 0.3756 - acc: 0.989 - ETA: 3s - loss: 0.3768 - acc: 0.989 - ETA: 3s - loss: 0.3774 - acc: 0.989 - ETA: 3s - loss: 0.3781 - acc: 0.989 - ETA: 3s - loss: 0.3786 - acc: 0.989 - ETA: 3s - loss: 0.3784 - acc: 0.989 - ETA: 3s - loss: 0.3788 - acc: 0.989 - ETA: 3s - loss: 0.3776 - acc: 0.989 - ETA: 3s - loss: 0.3776 - acc: 0.989 - ETA: 3s - loss: 0.3769 - acc: 0.989 - ETA: 2s - loss: 0.3777 - acc: 0.989 - ETA: 2s - loss: 0.3768 - acc: 0.989 - ETA: 2s - loss: 0.3769 - acc: 0.989 - ETA: 2s - loss: 0.3765 - acc: 0.989 - ETA: 2s - loss: 0.3766 - acc: 0.989 - ETA: 2s - loss: 0.3768 - acc: 0.989 - ETA: 2s - loss: 0.3772 - acc: 0.989 - ETA: 2s - loss: 0.3761 - acc: 0.989 - ETA: 2s - loss: 0.3764 - acc: 0.989 - ETA: 2s - loss: 0.3763 - acc: 0.989 - ETA: 2s - loss: 0.3760 - acc: 0.989 - ETA: 2s - loss: 0.3754 - acc: 0.989 - ETA: 2s - loss: 0.3748 - acc: 0.989 - ETA: 2s - loss: 0.3753 - acc: 0.989 - ETA: 2s - loss: 0.3746 - acc: 0.989 - ETA: 2s - loss: 0.3740 - acc: 0.989 - ETA: 2s - loss: 0.3746 - acc: 0.989 - ETA: 2s - loss: 0.3753 - acc: 0.989 - ETA: 2s - loss: 0.3749 - acc: 0.989 - ETA: 2s - loss: 0.3752 - acc: 0.989 - ETA: 1s - loss: 0.3748 - acc: 0.989 - ETA: 1s - loss: 0.3748 - acc: 0.989 - ETA: 1s - loss: 0.3747 - acc: 0.989 - ETA: 1s - loss: 0.3752 - acc: 0.989 - ETA: 1s - loss: 0.3754 - acc: 0.989 - ETA: 1s - loss: 0.3746 - acc: 0.989 - ETA: 1s - loss: 0.3734 - acc: 0.989 - ETA: 1s - loss: 0.3731 - acc: 0.989 - ETA: 1s - loss: 0.3736 - acc: 0.989 - ETA: 1s - loss: 0.3736 - acc: 0.989 - ETA: 1s - loss: 0.3735 - acc: 0.989 - ETA: 1s - loss: 0.3727 - acc: 0.989 - ETA: 1s - loss: 0.3721 - acc: 0.989 - ETA: 1s - loss: 0.3723 - acc: 0.989 - ETA: 1s - loss: 0.3722 - acc: 0.989 - ETA: 1s - loss: 0.3723 - acc: 0.989 - ETA: 1s - loss: 0.3722 - acc: 0.989 - ETA: 1s - loss: 0.3723 - acc: 0.990 - ETA: 0s - loss: 0.3720 - acc: 0.989 - ETA: 0s - loss: 0.3720 - acc: 0.989 - ETA: 0s - loss: 0.3716 - acc: 0.990 - ETA: 0s - loss: 0.3713 - acc: 0.990 - ETA: 0s - loss: 0.3710 - acc: 0.990 - ETA: 0s - loss: 0.3713 - acc: 0.990 - ETA: 0s - loss: 0.3714 - acc: 0.990 - ETA: 0s - loss: 0.3713 - acc: 0.990 - ETA: 0s - loss: 0.3712 - acc: 0.990 - ETA: 0s - loss: 0.3714 - acc: 0.990 - ETA: 0s - loss: 0.3712 - acc: 0.990 - ETA: 0s - loss: 0.3708 - acc: 0.990 - ETA: 0s - loss: 0.3720 - acc: 0.990 - ETA: 0s - loss: 0.3718 - acc: 0.990 - ETA: 0s - loss: 0.3719 - acc: 0.990 - ETA: 0s - loss: 0.3721 - acc: 0.990 - ETA: 0s - loss: 0.3725 - acc: 0.990 - ETA: 0s - loss: 0.3721 - acc: 0.990 - ETA: 0s - loss: 0.3721 - acc: 0.990 - ETA: 0s - loss: 0.3728 - acc: 0.990 - 11s 95us/step - loss: 0.3729 - acc: 0.9903\n",
      "Epoch 3/10\n"
     ]
    },
    {
     "name": "stdout",
     "output_type": "stream",
     "text": [
      "111699/111699 [==============================] - ETA: 24s - loss: 0.0617 - acc: 1.00 - ETA: 11s - loss: 0.4625 - acc: 0.99 - ETA: 11s - loss: 0.4272 - acc: 0.99 - ETA: 11s - loss: 0.4198 - acc: 0.99 - ETA: 10s - loss: 0.3921 - acc: 0.99 - ETA: 10s - loss: 0.3730 - acc: 0.99 - ETA: 10s - loss: 0.3834 - acc: 0.99 - ETA: 10s - loss: 0.3849 - acc: 0.99 - ETA: 10s - loss: 0.3840 - acc: 0.99 - ETA: 10s - loss: 0.3772 - acc: 0.99 - ETA: 10s - loss: 0.3699 - acc: 0.99 - ETA: 10s - loss: 0.3800 - acc: 0.99 - ETA: 10s - loss: 0.4002 - acc: 0.99 - ETA: 9s - loss: 0.4023 - acc: 0.9920 - ETA: 9s - loss: 0.4038 - acc: 0.992 - ETA: 9s - loss: 0.3955 - acc: 0.992 - ETA: 9s - loss: 0.3920 - acc: 0.992 - ETA: 9s - loss: 0.3894 - acc: 0.992 - ETA: 9s - loss: 0.3908 - acc: 0.992 - ETA: 9s - loss: 0.3957 - acc: 0.992 - ETA: 9s - loss: 0.3900 - acc: 0.992 - ETA: 9s - loss: 0.3868 - acc: 0.992 - ETA: 9s - loss: 0.3864 - acc: 0.992 - ETA: 9s - loss: 0.3873 - acc: 0.992 - ETA: 9s - loss: 0.3854 - acc: 0.992 - ETA: 9s - loss: 0.3856 - acc: 0.992 - ETA: 9s - loss: 0.3894 - acc: 0.992 - ETA: 9s - loss: 0.3928 - acc: 0.992 - ETA: 8s - loss: 0.3901 - acc: 0.992 - ETA: 8s - loss: 0.3886 - acc: 0.992 - ETA: 8s - loss: 0.3868 - acc: 0.992 - ETA: 8s - loss: 0.3879 - acc: 0.993 - ETA: 8s - loss: 0.3896 - acc: 0.993 - ETA: 8s - loss: 0.3872 - acc: 0.993 - ETA: 8s - loss: 0.3894 - acc: 0.993 - ETA: 8s - loss: 0.3856 - acc: 0.993 - ETA: 8s - loss: 0.3843 - acc: 0.993 - ETA: 8s - loss: 0.3862 - acc: 0.993 - ETA: 8s - loss: 0.3825 - acc: 0.993 - ETA: 8s - loss: 0.3848 - acc: 0.993 - ETA: 8s - loss: 0.3835 - acc: 0.993 - ETA: 8s - loss: 0.3817 - acc: 0.993 - ETA: 8s - loss: 0.3819 - acc: 0.993 - ETA: 8s - loss: 0.3802 - acc: 0.993 - ETA: 8s - loss: 0.3791 - acc: 0.993 - ETA: 8s - loss: 0.3799 - acc: 0.993 - ETA: 8s - loss: 0.3793 - acc: 0.993 - ETA: 8s - loss: 0.3762 - acc: 0.993 - ETA: 7s - loss: 0.3778 - acc: 0.993 - ETA: 7s - loss: 0.3772 - acc: 0.993 - ETA: 7s - loss: 0.3755 - acc: 0.993 - ETA: 7s - loss: 0.3735 - acc: 0.993 - ETA: 7s - loss: 0.3730 - acc: 0.993 - ETA: 7s - loss: 0.3722 - acc: 0.993 - ETA: 7s - loss: 0.3712 - acc: 0.993 - ETA: 7s - loss: 0.3717 - acc: 0.993 - ETA: 7s - loss: 0.3698 - acc: 0.993 - ETA: 7s - loss: 0.3691 - acc: 0.993 - ETA: 7s - loss: 0.3679 - acc: 0.993 - ETA: 7s - loss: 0.3663 - acc: 0.993 - ETA: 7s - loss: 0.3656 - acc: 0.993 - ETA: 7s - loss: 0.3654 - acc: 0.993 - ETA: 7s - loss: 0.3640 - acc: 0.993 - ETA: 7s - loss: 0.3635 - acc: 0.993 - ETA: 7s - loss: 0.3615 - acc: 0.993 - ETA: 7s - loss: 0.3615 - acc: 0.993 - ETA: 7s - loss: 0.3624 - acc: 0.993 - ETA: 7s - loss: 0.3635 - acc: 0.993 - ETA: 6s - loss: 0.3628 - acc: 0.993 - ETA: 6s - loss: 0.3633 - acc: 0.993 - ETA: 6s - loss: 0.3620 - acc: 0.993 - ETA: 6s - loss: 0.3603 - acc: 0.993 - ETA: 6s - loss: 0.3599 - acc: 0.993 - ETA: 6s - loss: 0.3602 - acc: 0.993 - ETA: 6s - loss: 0.3590 - acc: 0.993 - ETA: 6s - loss: 0.3585 - acc: 0.993 - ETA: 6s - loss: 0.3580 - acc: 0.993 - ETA: 6s - loss: 0.3576 - acc: 0.993 - ETA: 6s - loss: 0.3572 - acc: 0.993 - ETA: 6s - loss: 0.3584 - acc: 0.993 - ETA: 6s - loss: 0.3591 - acc: 0.993 - ETA: 6s - loss: 0.3583 - acc: 0.993 - ETA: 6s - loss: 0.3575 - acc: 0.993 - ETA: 6s - loss: 0.3568 - acc: 0.993 - ETA: 6s - loss: 0.3598 - acc: 0.993 - ETA: 6s - loss: 0.3588 - acc: 0.993 - ETA: 6s - loss: 0.3587 - acc: 0.993 - ETA: 6s - loss: 0.3601 - acc: 0.993 - ETA: 6s - loss: 0.3593 - acc: 0.993 - ETA: 5s - loss: 0.3586 - acc: 0.993 - ETA: 5s - loss: 0.3595 - acc: 0.993 - ETA: 5s - loss: 0.3588 - acc: 0.993 - ETA: 5s - loss: 0.3582 - acc: 0.993 - ETA: 5s - loss: 0.3577 - acc: 0.993 - ETA: 5s - loss: 0.3571 - acc: 0.993 - ETA: 5s - loss: 0.3587 - acc: 0.993 - ETA: 5s - loss: 0.3576 - acc: 0.993 - ETA: 5s - loss: 0.3577 - acc: 0.993 - ETA: 5s - loss: 0.3568 - acc: 0.993 - ETA: 5s - loss: 0.3558 - acc: 0.993 - ETA: 5s - loss: 0.3562 - acc: 0.993 - ETA: 5s - loss: 0.3564 - acc: 0.993 - ETA: 5s - loss: 0.3562 - acc: 0.993 - ETA: 5s - loss: 0.3570 - acc: 0.993 - ETA: 5s - loss: 0.3567 - acc: 0.993 - ETA: 5s - loss: 0.3564 - acc: 0.993 - ETA: 5s - loss: 0.3563 - acc: 0.993 - ETA: 5s - loss: 0.3556 - acc: 0.993 - ETA: 5s - loss: 0.3552 - acc: 0.993 - ETA: 5s - loss: 0.3572 - acc: 0.993 - ETA: 4s - loss: 0.3575 - acc: 0.993 - ETA: 4s - loss: 0.3576 - acc: 0.993 - ETA: 4s - loss: 0.3572 - acc: 0.993 - ETA: 4s - loss: 0.3569 - acc: 0.993 - ETA: 4s - loss: 0.3578 - acc: 0.993 - ETA: 4s - loss: 0.3579 - acc: 0.993 - ETA: 4s - loss: 0.3588 - acc: 0.993 - ETA: 4s - loss: 0.3592 - acc: 0.993 - ETA: 4s - loss: 0.3584 - acc: 0.993 - ETA: 4s - loss: 0.3573 - acc: 0.993 - ETA: 4s - loss: 0.3579 - acc: 0.993 - ETA: 4s - loss: 0.3581 - acc: 0.993 - ETA: 4s - loss: 0.3585 - acc: 0.993 - ETA: 4s - loss: 0.3591 - acc: 0.993 - ETA: 4s - loss: 0.3597 - acc: 0.993 - ETA: 4s - loss: 0.3601 - acc: 0.993 - ETA: 4s - loss: 0.3594 - acc: 0.993 - ETA: 4s - loss: 0.3601 - acc: 0.993 - ETA: 4s - loss: 0.3591 - acc: 0.993 - ETA: 4s - loss: 0.3582 - acc: 0.993 - ETA: 4s - loss: 0.3574 - acc: 0.993 - ETA: 3s - loss: 0.3576 - acc: 0.993 - ETA: 3s - loss: 0.3581 - acc: 0.993 - ETA: 3s - loss: 0.3580 - acc: 0.993 - ETA: 3s - loss: 0.3580 - acc: 0.993 - ETA: 3s - loss: 0.3584 - acc: 0.993 - ETA: 3s - loss: 0.3578 - acc: 0.993 - ETA: 3s - loss: 0.3579 - acc: 0.993 - ETA: 3s - loss: 0.3575 - acc: 0.993 - ETA: 3s - loss: 0.3569 - acc: 0.993 - ETA: 3s - loss: 0.3571 - acc: 0.993 - ETA: 3s - loss: 0.3566 - acc: 0.993 - ETA: 3s - loss: 0.3563 - acc: 0.993 - ETA: 3s - loss: 0.3564 - acc: 0.993 - ETA: 3s - loss: 0.3561 - acc: 0.993 - ETA: 3s - loss: 0.3558 - acc: 0.993 - ETA: 3s - loss: 0.3563 - acc: 0.993 - ETA: 3s - loss: 0.3563 - acc: 0.993 - ETA: 3s - loss: 0.3569 - acc: 0.993 - ETA: 3s - loss: 0.3564 - acc: 0.993 - ETA: 2s - loss: 0.3554 - acc: 0.993 - ETA: 2s - loss: 0.3559 - acc: 0.993 - ETA: 2s - loss: 0.3564 - acc: 0.993 - ETA: 2s - loss: 0.3561 - acc: 0.993 - ETA: 2s - loss: 0.3559 - acc: 0.993 - ETA: 2s - loss: 0.3554 - acc: 0.993 - ETA: 2s - loss: 0.3552 - acc: 0.993 - ETA: 2s - loss: 0.3548 - acc: 0.993 - ETA: 2s - loss: 0.3547 - acc: 0.993 - ETA: 2s - loss: 0.3542 - acc: 0.993 - ETA: 2s - loss: 0.3544 - acc: 0.993 - ETA: 2s - loss: 0.3547 - acc: 0.993 - ETA: 2s - loss: 0.3545 - acc: 0.993 - ETA: 2s - loss: 0.3545 - acc: 0.993 - ETA: 2s - loss: 0.3547 - acc: 0.993 - ETA: 2s - loss: 0.3547 - acc: 0.993 - ETA: 2s - loss: 0.3544 - acc: 0.993 - ETA: 2s - loss: 0.3546 - acc: 0.993 - ETA: 2s - loss: 0.3541 - acc: 0.993 - ETA: 1s - loss: 0.3543 - acc: 0.993 - ETA: 1s - loss: 0.3532 - acc: 0.993 - ETA: 1s - loss: 0.3529 - acc: 0.993 - ETA: 1s - loss: 0.3524 - acc: 0.993 - ETA: 1s - loss: 0.3518 - acc: 0.993 - ETA: 1s - loss: 0.3521 - acc: 0.993 - ETA: 1s - loss: 0.3521 - acc: 0.993 - ETA: 1s - loss: 0.3517 - acc: 0.993 - ETA: 1s - loss: 0.3512 - acc: 0.993 - ETA: 1s - loss: 0.3519 - acc: 0.993 - ETA: 1s - loss: 0.3519 - acc: 0.993 - ETA: 1s - loss: 0.3519 - acc: 0.993 - ETA: 1s - loss: 0.3514 - acc: 0.993 - ETA: 1s - loss: 0.3509 - acc: 0.993 - ETA: 1s - loss: 0.3511 - acc: 0.993 - ETA: 1s - loss: 0.3509 - acc: 0.993 - ETA: 1s - loss: 0.3510 - acc: 0.993 - ETA: 1s - loss: 0.3513 - acc: 0.993 - ETA: 1s - loss: 0.3511 - acc: 0.993 - ETA: 0s - loss: 0.3514 - acc: 0.993 - ETA: 0s - loss: 0.3514 - acc: 0.993 - ETA: 0s - loss: 0.3519 - acc: 0.993 - ETA: 0s - loss: 0.3520 - acc: 0.993 - ETA: 0s - loss: 0.3519 - acc: 0.993 - ETA: 0s - loss: 0.3517 - acc: 0.993 - ETA: 0s - loss: 0.3520 - acc: 0.993 - ETA: 0s - loss: 0.3517 - acc: 0.993 - ETA: 0s - loss: 0.3518 - acc: 0.993 - ETA: 0s - loss: 0.3514 - acc: 0.993 - ETA: 0s - loss: 0.3515 - acc: 0.993 - ETA: 0s - loss: 0.3513 - acc: 0.993 - ETA: 0s - loss: 0.3508 - acc: 0.993 - ETA: 0s - loss: 0.3507 - acc: 0.993 - ETA: 0s - loss: 0.3514 - acc: 0.993 - ETA: 0s - loss: 0.3513 - acc: 0.993 - ETA: 0s - loss: 0.3511 - acc: 0.993 - ETA: 0s - loss: 0.3511 - acc: 0.993 - ETA: 0s - loss: 0.3512 - acc: 0.993 - 11s 96us/step - loss: 0.3507 - acc: 0.9934\n",
      "Epoch 4/10\n"
     ]
    },
    {
     "name": "stdout",
     "output_type": "stream",
     "text": [
      "111699/111699 [==============================] - ETA: 27s - loss: 0.0000e+00 - acc: 1.00 - ETA: 11s - loss: 0.4061 - acc: 0.9896   - ETA: 10s - loss: 0.3750 - acc: 0.98 - ETA: 10s - loss: 0.3709 - acc: 0.99 - ETA: 10s - loss: 0.3659 - acc: 0.99 - ETA: 10s - loss: 0.3863 - acc: 0.99 - ETA: 10s - loss: 0.3856 - acc: 0.99 - ETA: 10s - loss: 0.4132 - acc: 0.99 - ETA: 10s - loss: 0.4097 - acc: 0.99 - ETA: 10s - loss: 0.4103 - acc: 0.99 - ETA: 9s - loss: 0.3953 - acc: 0.9947 - ETA: 9s - loss: 0.3856 - acc: 0.994 - ETA: 9s - loss: 0.3768 - acc: 0.994 - ETA: 9s - loss: 0.3688 - acc: 0.994 - ETA: 9s - loss: 0.3613 - acc: 0.993 - ETA: 9s - loss: 0.3697 - acc: 0.994 - ETA: 9s - loss: 0.3726 - acc: 0.994 - ETA: 9s - loss: 0.3656 - acc: 0.994 - ETA: 9s - loss: 0.3634 - acc: 0.994 - ETA: 9s - loss: 0.3652 - acc: 0.994 - ETA: 9s - loss: 0.3608 - acc: 0.993 - ETA: 9s - loss: 0.3611 - acc: 0.993 - ETA: 9s - loss: 0.3642 - acc: 0.993 - ETA: 9s - loss: 0.3608 - acc: 0.993 - ETA: 9s - loss: 0.3590 - acc: 0.994 - ETA: 9s - loss: 0.3579 - acc: 0.994 - ETA: 9s - loss: 0.3610 - acc: 0.993 - ETA: 9s - loss: 0.3631 - acc: 0.994 - ETA: 9s - loss: 0.3661 - acc: 0.993 - ETA: 9s - loss: 0.3698 - acc: 0.993 - ETA: 9s - loss: 0.3697 - acc: 0.993 - ETA: 9s - loss: 0.3694 - acc: 0.993 - ETA: 8s - loss: 0.3712 - acc: 0.993 - ETA: 8s - loss: 0.3702 - acc: 0.993 - ETA: 8s - loss: 0.3662 - acc: 0.993 - ETA: 8s - loss: 0.3655 - acc: 0.993 - ETA: 8s - loss: 0.3628 - acc: 0.993 - ETA: 8s - loss: 0.3625 - acc: 0.993 - ETA: 8s - loss: 0.3620 - acc: 0.993 - ETA: 8s - loss: 0.3617 - acc: 0.993 - ETA: 8s - loss: 0.3613 - acc: 0.993 - ETA: 8s - loss: 0.3639 - acc: 0.993 - ETA: 8s - loss: 0.3636 - acc: 0.993 - ETA: 8s - loss: 0.3607 - acc: 0.993 - ETA: 8s - loss: 0.3594 - acc: 0.993 - ETA: 8s - loss: 0.3574 - acc: 0.993 - ETA: 8s - loss: 0.3564 - acc: 0.993 - ETA: 8s - loss: 0.3540 - acc: 0.993 - ETA: 8s - loss: 0.3563 - acc: 0.993 - ETA: 8s - loss: 0.3542 - acc: 0.993 - ETA: 7s - loss: 0.3567 - acc: 0.993 - ETA: 7s - loss: 0.3579 - acc: 0.993 - ETA: 7s - loss: 0.3567 - acc: 0.993 - ETA: 7s - loss: 0.3559 - acc: 0.993 - ETA: 7s - loss: 0.3561 - acc: 0.993 - ETA: 7s - loss: 0.3557 - acc: 0.993 - ETA: 7s - loss: 0.3547 - acc: 0.993 - ETA: 7s - loss: 0.3536 - acc: 0.993 - ETA: 7s - loss: 0.3525 - acc: 0.993 - ETA: 7s - loss: 0.3515 - acc: 0.993 - ETA: 7s - loss: 0.3506 - acc: 0.993 - ETA: 7s - loss: 0.3496 - acc: 0.993 - ETA: 7s - loss: 0.3479 - acc: 0.993 - ETA: 7s - loss: 0.3491 - acc: 0.993 - ETA: 7s - loss: 0.3503 - acc: 0.993 - ETA: 7s - loss: 0.3497 - acc: 0.993 - ETA: 7s - loss: 0.3487 - acc: 0.993 - ETA: 7s - loss: 0.3480 - acc: 0.993 - ETA: 7s - loss: 0.3486 - acc: 0.993 - ETA: 6s - loss: 0.3473 - acc: 0.993 - ETA: 6s - loss: 0.3470 - acc: 0.993 - ETA: 6s - loss: 0.3467 - acc: 0.993 - ETA: 6s - loss: 0.3460 - acc: 0.993 - ETA: 6s - loss: 0.3452 - acc: 0.993 - ETA: 6s - loss: 0.3450 - acc: 0.993 - ETA: 6s - loss: 0.3439 - acc: 0.993 - ETA: 6s - loss: 0.3438 - acc: 0.993 - ETA: 6s - loss: 0.3442 - acc: 0.993 - ETA: 6s - loss: 0.3428 - acc: 0.993 - ETA: 6s - loss: 0.3428 - acc: 0.993 - ETA: 6s - loss: 0.3412 - acc: 0.993 - ETA: 6s - loss: 0.3404 - acc: 0.993 - ETA: 6s - loss: 0.3398 - acc: 0.993 - ETA: 6s - loss: 0.3409 - acc: 0.993 - ETA: 6s - loss: 0.3407 - acc: 0.993 - ETA: 6s - loss: 0.3402 - acc: 0.993 - ETA: 6s - loss: 0.3397 - acc: 0.993 - ETA: 6s - loss: 0.3386 - acc: 0.993 - ETA: 6s - loss: 0.3386 - acc: 0.993 - ETA: 5s - loss: 0.3379 - acc: 0.993 - ETA: 5s - loss: 0.3374 - acc: 0.993 - ETA: 5s - loss: 0.3368 - acc: 0.993 - ETA: 5s - loss: 0.3377 - acc: 0.993 - ETA: 5s - loss: 0.3373 - acc: 0.993 - ETA: 5s - loss: 0.3372 - acc: 0.993 - ETA: 5s - loss: 0.3367 - acc: 0.993 - ETA: 5s - loss: 0.3374 - acc: 0.993 - ETA: 5s - loss: 0.3368 - acc: 0.993 - ETA: 5s - loss: 0.3371 - acc: 0.993 - ETA: 5s - loss: 0.3360 - acc: 0.993 - ETA: 5s - loss: 0.3348 - acc: 0.993 - ETA: 5s - loss: 0.3354 - acc: 0.993 - ETA: 5s - loss: 0.3360 - acc: 0.993 - ETA: 5s - loss: 0.3361 - acc: 0.993 - ETA: 5s - loss: 0.3359 - acc: 0.993 - ETA: 5s - loss: 0.3356 - acc: 0.993 - ETA: 5s - loss: 0.3361 - acc: 0.993 - ETA: 5s - loss: 0.3353 - acc: 0.993 - ETA: 5s - loss: 0.3352 - acc: 0.993 - ETA: 4s - loss: 0.3348 - acc: 0.993 - ETA: 4s - loss: 0.3353 - acc: 0.993 - ETA: 4s - loss: 0.3355 - acc: 0.993 - ETA: 4s - loss: 0.3351 - acc: 0.993 - ETA: 4s - loss: 0.3350 - acc: 0.993 - ETA: 4s - loss: 0.3345 - acc: 0.993 - ETA: 4s - loss: 0.3343 - acc: 0.993 - ETA: 4s - loss: 0.3343 - acc: 0.993 - ETA: 4s - loss: 0.3340 - acc: 0.993 - ETA: 4s - loss: 0.3340 - acc: 0.993 - ETA: 4s - loss: 0.3337 - acc: 0.993 - ETA: 4s - loss: 0.3332 - acc: 0.993 - ETA: 4s - loss: 0.3326 - acc: 0.993 - ETA: 4s - loss: 0.3334 - acc: 0.993 - ETA: 4s - loss: 0.3341 - acc: 0.993 - ETA: 4s - loss: 0.3330 - acc: 0.993 - ETA: 4s - loss: 0.3342 - acc: 0.993 - ETA: 4s - loss: 0.3332 - acc: 0.993 - ETA: 4s - loss: 0.3329 - acc: 0.993 - ETA: 4s - loss: 0.3328 - acc: 0.993 - ETA: 4s - loss: 0.3326 - acc: 0.993 - ETA: 3s - loss: 0.3331 - acc: 0.993 - ETA: 3s - loss: 0.3342 - acc: 0.993 - ETA: 3s - loss: 0.3335 - acc: 0.993 - ETA: 3s - loss: 0.3333 - acc: 0.993 - ETA: 3s - loss: 0.3328 - acc: 0.993 - ETA: 3s - loss: 0.3328 - acc: 0.993 - ETA: 3s - loss: 0.3327 - acc: 0.993 - ETA: 3s - loss: 0.3324 - acc: 0.993 - ETA: 3s - loss: 0.3322 - acc: 0.993 - ETA: 3s - loss: 0.3321 - acc: 0.993 - ETA: 3s - loss: 0.3320 - acc: 0.993 - ETA: 3s - loss: 0.3325 - acc: 0.993 - ETA: 3s - loss: 0.3326 - acc: 0.993 - ETA: 3s - loss: 0.3337 - acc: 0.993 - ETA: 3s - loss: 0.3337 - acc: 0.993 - ETA: 3s - loss: 0.3342 - acc: 0.993 - ETA: 3s - loss: 0.3347 - acc: 0.993 - ETA: 3s - loss: 0.3345 - acc: 0.993 - ETA: 3s - loss: 0.3347 - acc: 0.993 - ETA: 2s - loss: 0.3342 - acc: 0.993 - ETA: 2s - loss: 0.3340 - acc: 0.993 - ETA: 2s - loss: 0.3336 - acc: 0.993 - ETA: 2s - loss: 0.3334 - acc: 0.993 - ETA: 2s - loss: 0.3329 - acc: 0.993 - ETA: 2s - loss: 0.3329 - acc: 0.993 - ETA: 2s - loss: 0.3329 - acc: 0.993 - ETA: 2s - loss: 0.3324 - acc: 0.993 - ETA: 2s - loss: 0.3320 - acc: 0.993 - ETA: 2s - loss: 0.3318 - acc: 0.993 - ETA: 2s - loss: 0.3321 - acc: 0.993 - ETA: 2s - loss: 0.3317 - acc: 0.993 - ETA: 2s - loss: 0.3324 - acc: 0.993 - ETA: 2s - loss: 0.3323 - acc: 0.993 - ETA: 2s - loss: 0.3321 - acc: 0.993 - ETA: 2s - loss: 0.3325 - acc: 0.993 - ETA: 2s - loss: 0.3324 - acc: 0.993 - ETA: 2s - loss: 0.3320 - acc: 0.993 - ETA: 2s - loss: 0.3323 - acc: 0.993 - ETA: 2s - loss: 0.3322 - acc: 0.993 - ETA: 1s - loss: 0.3318 - acc: 0.993 - ETA: 1s - loss: 0.3319 - acc: 0.993 - ETA: 1s - loss: 0.3318 - acc: 0.993 - ETA: 1s - loss: 0.3326 - acc: 0.993 - ETA: 1s - loss: 0.3323 - acc: 0.993 - ETA: 1s - loss: 0.3318 - acc: 0.993 - ETA: 1s - loss: 0.3318 - acc: 0.993 - ETA: 1s - loss: 0.3322 - acc: 0.993 - ETA: 1s - loss: 0.3319 - acc: 0.993 - ETA: 1s - loss: 0.3316 - acc: 0.993 - ETA: 1s - loss: 0.3317 - acc: 0.993 - ETA: 1s - loss: 0.3320 - acc: 0.993 - ETA: 1s - loss: 0.3318 - acc: 0.993 - ETA: 1s - loss: 0.3312 - acc: 0.993 - ETA: 1s - loss: 0.3314 - acc: 0.993 - ETA: 1s - loss: 0.3313 - acc: 0.993 - ETA: 1s - loss: 0.3314 - acc: 0.993 - ETA: 1s - loss: 0.3312 - acc: 0.993 - ETA: 1s - loss: 0.3310 - acc: 0.993 - ETA: 0s - loss: 0.3307 - acc: 0.993 - ETA: 0s - loss: 0.3304 - acc: 0.993 - ETA: 0s - loss: 0.3301 - acc: 0.993 - ETA: 0s - loss: 0.3295 - acc: 0.993 - ETA: 0s - loss: 0.3294 - acc: 0.993 - ETA: 0s - loss: 0.3291 - acc: 0.993 - ETA: 0s - loss: 0.3287 - acc: 0.993 - ETA: 0s - loss: 0.3280 - acc: 0.993 - ETA: 0s - loss: 0.3277 - acc: 0.993 - ETA: 0s - loss: 0.3276 - acc: 0.993 - ETA: 0s - loss: 0.3278 - acc: 0.993 - ETA: 0s - loss: 0.3273 - acc: 0.993 - ETA: 0s - loss: 0.3269 - acc: 0.993 - ETA: 0s - loss: 0.3265 - acc: 0.993 - ETA: 0s - loss: 0.3263 - acc: 0.993 - ETA: 0s - loss: 0.3258 - acc: 0.993 - ETA: 0s - loss: 0.3256 - acc: 0.993 - ETA: 0s - loss: 0.3252 - acc: 0.993 - ETA: 0s - loss: 0.3256 - acc: 0.993 - ETA: 0s - loss: 0.3256 - acc: 0.993 - 11s 96us/step - loss: 0.3256 - acc: 0.9937\n",
      "Epoch 5/10\n"
     ]
    },
    {
     "name": "stdout",
     "output_type": "stream",
     "text": [
      "111699/111699 [==============================] - ETA: 24s - loss: 0.5065 - acc: 1.00 - ETA: 11s - loss: 0.4712 - acc: 0.99 - ETA: 11s - loss: 0.3576 - acc: 0.99 - ETA: 10s - loss: 0.3298 - acc: 0.99 - ETA: 10s - loss: 0.3203 - acc: 0.99 - ETA: 10s - loss: 0.3111 - acc: 0.99 - ETA: 10s - loss: 0.3212 - acc: 0.99 - ETA: 10s - loss: 0.3154 - acc: 0.99 - ETA: 10s - loss: 0.3208 - acc: 0.99 - ETA: 10s - loss: 0.3183 - acc: 0.99 - ETA: 10s - loss: 0.3237 - acc: 0.99 - ETA: 10s - loss: 0.3227 - acc: 0.99 - ETA: 10s - loss: 0.3174 - acc: 0.99 - ETA: 9s - loss: 0.3107 - acc: 0.9926 - ETA: 9s - loss: 0.3081 - acc: 0.992 - ETA: 9s - loss: 0.3048 - acc: 0.993 - ETA: 9s - loss: 0.3046 - acc: 0.992 - ETA: 9s - loss: 0.3044 - acc: 0.992 - ETA: 9s - loss: 0.3063 - acc: 0.992 - ETA: 9s - loss: 0.3032 - acc: 0.993 - ETA: 9s - loss: 0.3089 - acc: 0.993 - ETA: 9s - loss: 0.3129 - acc: 0.993 - ETA: 9s - loss: 0.3112 - acc: 0.993 - ETA: 9s - loss: 0.3081 - acc: 0.993 - ETA: 9s - loss: 0.3109 - acc: 0.993 - ETA: 9s - loss: 0.3075 - acc: 0.993 - ETA: 9s - loss: 0.3095 - acc: 0.993 - ETA: 9s - loss: 0.3136 - acc: 0.993 - ETA: 9s - loss: 0.3129 - acc: 0.993 - ETA: 9s - loss: 0.3098 - acc: 0.993 - ETA: 9s - loss: 0.3119 - acc: 0.993 - ETA: 9s - loss: 0.3143 - acc: 0.993 - ETA: 9s - loss: 0.3141 - acc: 0.993 - ETA: 9s - loss: 0.3166 - acc: 0.993 - ETA: 9s - loss: 0.3128 - acc: 0.993 - ETA: 9s - loss: 0.3130 - acc: 0.994 - ETA: 8s - loss: 0.3111 - acc: 0.993 - ETA: 8s - loss: 0.3106 - acc: 0.993 - ETA: 8s - loss: 0.3109 - acc: 0.993 - ETA: 8s - loss: 0.3111 - acc: 0.993 - ETA: 8s - loss: 0.3096 - acc: 0.993 - ETA: 8s - loss: 0.3108 - acc: 0.993 - ETA: 8s - loss: 0.3106 - acc: 0.993 - ETA: 8s - loss: 0.3104 - acc: 0.993 - ETA: 8s - loss: 0.3111 - acc: 0.993 - ETA: 8s - loss: 0.3097 - acc: 0.993 - ETA: 8s - loss: 0.3100 - acc: 0.993 - ETA: 8s - loss: 0.3101 - acc: 0.993 - ETA: 8s - loss: 0.3093 - acc: 0.993 - ETA: 8s - loss: 0.3100 - acc: 0.993 - ETA: 8s - loss: 0.3119 - acc: 0.993 - ETA: 8s - loss: 0.3137 - acc: 0.993 - ETA: 8s - loss: 0.3131 - acc: 0.993 - ETA: 8s - loss: 0.3124 - acc: 0.993 - ETA: 8s - loss: 0.3129 - acc: 0.993 - ETA: 8s - loss: 0.3137 - acc: 0.993 - ETA: 7s - loss: 0.3136 - acc: 0.993 - ETA: 7s - loss: 0.3118 - acc: 0.993 - ETA: 7s - loss: 0.3114 - acc: 0.993 - ETA: 7s - loss: 0.3100 - acc: 0.993 - ETA: 7s - loss: 0.3101 - acc: 0.993 - ETA: 7s - loss: 0.3101 - acc: 0.993 - ETA: 7s - loss: 0.3091 - acc: 0.993 - ETA: 7s - loss: 0.3085 - acc: 0.993 - ETA: 7s - loss: 0.3078 - acc: 0.993 - ETA: 7s - loss: 0.3093 - acc: 0.993 - ETA: 7s - loss: 0.3101 - acc: 0.993 - ETA: 7s - loss: 0.3097 - acc: 0.993 - ETA: 7s - loss: 0.3091 - acc: 0.993 - ETA: 7s - loss: 0.3094 - acc: 0.993 - ETA: 7s - loss: 0.3104 - acc: 0.993 - ETA: 7s - loss: 0.3095 - acc: 0.993 - ETA: 7s - loss: 0.3107 - acc: 0.993 - ETA: 7s - loss: 0.3106 - acc: 0.993 - ETA: 7s - loss: 0.3109 - acc: 0.993 - ETA: 7s - loss: 0.3106 - acc: 0.993 - ETA: 7s - loss: 0.3105 - acc: 0.993 - ETA: 6s - loss: 0.3113 - acc: 0.993 - ETA: 6s - loss: 0.3122 - acc: 0.993 - ETA: 6s - loss: 0.3118 - acc: 0.993 - ETA: 6s - loss: 0.3128 - acc: 0.993 - ETA: 6s - loss: 0.3122 - acc: 0.993 - ETA: 6s - loss: 0.3117 - acc: 0.993 - ETA: 6s - loss: 0.3109 - acc: 0.993 - ETA: 6s - loss: 0.3113 - acc: 0.993 - ETA: 6s - loss: 0.3115 - acc: 0.993 - ETA: 6s - loss: 0.3109 - acc: 0.993 - ETA: 6s - loss: 0.3109 - acc: 0.994 - ETA: 6s - loss: 0.3106 - acc: 0.994 - ETA: 6s - loss: 0.3110 - acc: 0.994 - ETA: 6s - loss: 0.3118 - acc: 0.994 - ETA: 6s - loss: 0.3119 - acc: 0.994 - ETA: 6s - loss: 0.3115 - acc: 0.994 - ETA: 6s - loss: 0.3114 - acc: 0.994 - ETA: 6s - loss: 0.3115 - acc: 0.994 - ETA: 5s - loss: 0.3105 - acc: 0.994 - ETA: 5s - loss: 0.3097 - acc: 0.994 - ETA: 5s - loss: 0.3103 - acc: 0.994 - ETA: 5s - loss: 0.3098 - acc: 0.994 - ETA: 5s - loss: 0.3090 - acc: 0.994 - ETA: 5s - loss: 0.3090 - acc: 0.994 - ETA: 5s - loss: 0.3084 - acc: 0.994 - ETA: 5s - loss: 0.3082 - acc: 0.994 - ETA: 5s - loss: 0.3093 - acc: 0.994 - ETA: 5s - loss: 0.3088 - acc: 0.994 - ETA: 5s - loss: 0.3087 - acc: 0.994 - ETA: 5s - loss: 0.3087 - acc: 0.994 - ETA: 5s - loss: 0.3086 - acc: 0.994 - ETA: 5s - loss: 0.3087 - acc: 0.994 - ETA: 5s - loss: 0.3084 - acc: 0.994 - ETA: 5s - loss: 0.3089 - acc: 0.994 - ETA: 5s - loss: 0.3091 - acc: 0.994 - ETA: 5s - loss: 0.3098 - acc: 0.994 - ETA: 5s - loss: 0.3093 - acc: 0.994 - ETA: 4s - loss: 0.3097 - acc: 0.994 - ETA: 4s - loss: 0.3090 - acc: 0.994 - ETA: 4s - loss: 0.3086 - acc: 0.994 - ETA: 4s - loss: 0.3086 - acc: 0.994 - ETA: 4s - loss: 0.3100 - acc: 0.994 - ETA: 4s - loss: 0.3102 - acc: 0.994 - ETA: 4s - loss: 0.3107 - acc: 0.994 - ETA: 4s - loss: 0.3103 - acc: 0.994 - ETA: 4s - loss: 0.3097 - acc: 0.994 - ETA: 4s - loss: 0.3093 - acc: 0.994 - ETA: 4s - loss: 0.3088 - acc: 0.994 - ETA: 4s - loss: 0.3082 - acc: 0.994 - ETA: 4s - loss: 0.3084 - acc: 0.994 - ETA: 4s - loss: 0.3086 - acc: 0.994 - ETA: 4s - loss: 0.3079 - acc: 0.994 - ETA: 4s - loss: 0.3081 - acc: 0.994 - ETA: 4s - loss: 0.3073 - acc: 0.994 - ETA: 4s - loss: 0.3075 - acc: 0.994 - ETA: 4s - loss: 0.3085 - acc: 0.994 - ETA: 3s - loss: 0.3084 - acc: 0.994 - ETA: 3s - loss: 0.3083 - acc: 0.994 - ETA: 3s - loss: 0.3085 - acc: 0.994 - ETA: 3s - loss: 0.3092 - acc: 0.994 - ETA: 3s - loss: 0.3089 - acc: 0.994 - ETA: 3s - loss: 0.3092 - acc: 0.994 - ETA: 3s - loss: 0.3090 - acc: 0.994 - ETA: 3s - loss: 0.3091 - acc: 0.994 - ETA: 3s - loss: 0.3090 - acc: 0.994 - ETA: 3s - loss: 0.3094 - acc: 0.994 - ETA: 3s - loss: 0.3093 - acc: 0.994 - ETA: 3s - loss: 0.3098 - acc: 0.994 - ETA: 3s - loss: 0.3105 - acc: 0.994 - ETA: 3s - loss: 0.3113 - acc: 0.993 - ETA: 3s - loss: 0.3109 - acc: 0.993 - ETA: 3s - loss: 0.3108 - acc: 0.993 - ETA: 3s - loss: 0.3111 - acc: 0.993 - ETA: 3s - loss: 0.3114 - acc: 0.993 - ETA: 2s - loss: 0.3109 - acc: 0.993 - ETA: 2s - loss: 0.3106 - acc: 0.993 - ETA: 2s - loss: 0.3110 - acc: 0.993 - ETA: 2s - loss: 0.3109 - acc: 0.993 - ETA: 2s - loss: 0.3102 - acc: 0.993 - ETA: 2s - loss: 0.3100 - acc: 0.993 - ETA: 2s - loss: 0.3102 - acc: 0.993 - ETA: 2s - loss: 0.3103 - acc: 0.993 - ETA: 2s - loss: 0.3106 - acc: 0.993 - ETA: 2s - loss: 0.3103 - acc: 0.993 - ETA: 2s - loss: 0.3106 - acc: 0.993 - ETA: 2s - loss: 0.3103 - acc: 0.993 - ETA: 2s - loss: 0.3101 - acc: 0.993 - ETA: 2s - loss: 0.3101 - acc: 0.993 - ETA: 2s - loss: 0.3099 - acc: 0.993 - ETA: 2s - loss: 0.3101 - acc: 0.993 - ETA: 2s - loss: 0.3101 - acc: 0.993 - ETA: 2s - loss: 0.3103 - acc: 0.993 - ETA: 2s - loss: 0.3098 - acc: 0.993 - ETA: 1s - loss: 0.3104 - acc: 0.993 - ETA: 1s - loss: 0.3102 - acc: 0.993 - ETA: 1s - loss: 0.3100 - acc: 0.993 - ETA: 1s - loss: 0.3103 - acc: 0.993 - ETA: 1s - loss: 0.3107 - acc: 0.993 - ETA: 1s - loss: 0.3110 - acc: 0.993 - ETA: 1s - loss: 0.3108 - acc: 0.994 - ETA: 1s - loss: 0.3104 - acc: 0.993 - ETA: 1s - loss: 0.3103 - acc: 0.993 - ETA: 1s - loss: 0.3103 - acc: 0.993 - ETA: 1s - loss: 0.3101 - acc: 0.993 - ETA: 1s - loss: 0.3105 - acc: 0.993 - ETA: 1s - loss: 0.3114 - acc: 0.993 - ETA: 1s - loss: 0.3109 - acc: 0.993 - ETA: 1s - loss: 0.3109 - acc: 0.993 - ETA: 1s - loss: 0.3104 - acc: 0.993 - ETA: 1s - loss: 0.3102 - acc: 0.993 - ETA: 1s - loss: 0.3106 - acc: 0.993 - ETA: 1s - loss: 0.3110 - acc: 0.993 - ETA: 0s - loss: 0.3107 - acc: 0.993 - ETA: 0s - loss: 0.3103 - acc: 0.993 - ETA: 0s - loss: 0.3104 - acc: 0.993 - ETA: 0s - loss: 0.3102 - acc: 0.993 - ETA: 0s - loss: 0.3110 - acc: 0.993 - ETA: 0s - loss: 0.3108 - acc: 0.993 - ETA: 0s - loss: 0.3108 - acc: 0.993 - ETA: 0s - loss: 0.3107 - acc: 0.993 - ETA: 0s - loss: 0.3108 - acc: 0.993 - ETA: 0s - loss: 0.3114 - acc: 0.993 - ETA: 0s - loss: 0.3116 - acc: 0.993 - ETA: 0s - loss: 0.3119 - acc: 0.993 - ETA: 0s - loss: 0.3115 - acc: 0.993 - ETA: 0s - loss: 0.3115 - acc: 0.993 - ETA: 0s - loss: 0.3118 - acc: 0.993 - ETA: 0s - loss: 0.3120 - acc: 0.993 - ETA: 0s - loss: 0.3116 - acc: 0.993 - ETA: 0s - loss: 0.3122 - acc: 0.993 - ETA: 0s - loss: 0.3117 - acc: 0.993 - 11s 96us/step - loss: 0.3122 - acc: 0.9938\n",
      "Epoch 6/10\n"
     ]
    },
    {
     "name": "stdout",
     "output_type": "stream",
     "text": [
      "111699/111699 [==============================] - ETA: 24s - loss: 0.0000e+00 - acc: 1.00 - ETA: 11s - loss: 0.2891 - acc: 0.9948   - ETA: 11s - loss: 0.2790 - acc: 0.99 - ETA: 11s - loss: 0.3101 - acc: 0.99 - ETA: 11s - loss: 0.2821 - acc: 0.99 - ETA: 11s - loss: 0.2960 - acc: 0.99 - ETA: 10s - loss: 0.2906 - acc: 0.99 - ETA: 10s - loss: 0.3013 - acc: 0.99 - ETA: 10s - loss: 0.2937 - acc: 0.99 - ETA: 10s - loss: 0.3012 - acc: 0.99 - ETA: 10s - loss: 0.3018 - acc: 0.99 - ETA: 10s - loss: 0.3026 - acc: 0.99 - ETA: 10s - loss: 0.2984 - acc: 0.99 - ETA: 10s - loss: 0.3063 - acc: 0.99 - ETA: 10s - loss: 0.3119 - acc: 0.99 - ETA: 10s - loss: 0.3146 - acc: 0.99 - ETA: 10s - loss: 0.3134 - acc: 0.99 - ETA: 10s - loss: 0.3162 - acc: 0.99 - ETA: 10s - loss: 0.3130 - acc: 0.99 - ETA: 9s - loss: 0.3131 - acc: 0.9936 - ETA: 9s - loss: 0.3148 - acc: 0.993 - ETA: 9s - loss: 0.3154 - acc: 0.993 - ETA: 9s - loss: 0.3192 - acc: 0.993 - ETA: 9s - loss: 0.3191 - acc: 0.993 - ETA: 9s - loss: 0.3237 - acc: 0.993 - ETA: 9s - loss: 0.3215 - acc: 0.993 - ETA: 9s - loss: 0.3201 - acc: 0.993 - ETA: 9s - loss: 0.3227 - acc: 0.993 - ETA: 9s - loss: 0.3199 - acc: 0.993 - ETA: 9s - loss: 0.3213 - acc: 0.993 - ETA: 9s - loss: 0.3164 - acc: 0.993 - ETA: 9s - loss: 0.3130 - acc: 0.993 - ETA: 9s - loss: 0.3108 - acc: 0.993 - ETA: 9s - loss: 0.3102 - acc: 0.993 - ETA: 8s - loss: 0.3076 - acc: 0.993 - ETA: 8s - loss: 0.3086 - acc: 0.992 - ETA: 8s - loss: 0.3109 - acc: 0.993 - ETA: 8s - loss: 0.3120 - acc: 0.993 - ETA: 8s - loss: 0.3110 - acc: 0.993 - ETA: 8s - loss: 0.3115 - acc: 0.992 - ETA: 8s - loss: 0.3113 - acc: 0.993 - ETA: 8s - loss: 0.3106 - acc: 0.993 - ETA: 8s - loss: 0.3109 - acc: 0.993 - ETA: 8s - loss: 0.3114 - acc: 0.993 - ETA: 8s - loss: 0.3102 - acc: 0.993 - ETA: 8s - loss: 0.3110 - acc: 0.993 - ETA: 8s - loss: 0.3112 - acc: 0.993 - ETA: 8s - loss: 0.3122 - acc: 0.993 - ETA: 8s - loss: 0.3123 - acc: 0.993 - ETA: 8s - loss: 0.3120 - acc: 0.993 - ETA: 8s - loss: 0.3116 - acc: 0.993 - ETA: 8s - loss: 0.3108 - acc: 0.993 - ETA: 7s - loss: 0.3116 - acc: 0.993 - ETA: 7s - loss: 0.3120 - acc: 0.993 - ETA: 7s - loss: 0.3129 - acc: 0.993 - ETA: 7s - loss: 0.3128 - acc: 0.993 - ETA: 7s - loss: 0.3125 - acc: 0.993 - ETA: 7s - loss: 0.3125 - acc: 0.993 - ETA: 7s - loss: 0.3124 - acc: 0.993 - ETA: 7s - loss: 0.3119 - acc: 0.993 - ETA: 7s - loss: 0.3117 - acc: 0.993 - ETA: 7s - loss: 0.3121 - acc: 0.993 - ETA: 7s - loss: 0.3108 - acc: 0.993 - ETA: 7s - loss: 0.3119 - acc: 0.993 - ETA: 7s - loss: 0.3116 - acc: 0.993 - ETA: 7s - loss: 0.3120 - acc: 0.993 - ETA: 7s - loss: 0.3120 - acc: 0.993 - ETA: 7s - loss: 0.3118 - acc: 0.993 - ETA: 7s - loss: 0.3119 - acc: 0.993 - ETA: 7s - loss: 0.3109 - acc: 0.993 - ETA: 7s - loss: 0.3108 - acc: 0.993 - ETA: 6s - loss: 0.3118 - acc: 0.993 - ETA: 6s - loss: 0.3123 - acc: 0.993 - ETA: 6s - loss: 0.3122 - acc: 0.993 - ETA: 6s - loss: 0.3120 - acc: 0.993 - ETA: 6s - loss: 0.3122 - acc: 0.993 - ETA: 6s - loss: 0.3128 - acc: 0.993 - ETA: 6s - loss: 0.3133 - acc: 0.993 - ETA: 6s - loss: 0.3144 - acc: 0.993 - ETA: 6s - loss: 0.3140 - acc: 0.993 - ETA: 6s - loss: 0.3135 - acc: 0.993 - ETA: 6s - loss: 0.3144 - acc: 0.993 - ETA: 6s - loss: 0.3139 - acc: 0.993 - ETA: 6s - loss: 0.3149 - acc: 0.993 - ETA: 6s - loss: 0.3152 - acc: 0.993 - ETA: 6s - loss: 0.3151 - acc: 0.993 - ETA: 6s - loss: 0.3157 - acc: 0.993 - ETA: 6s - loss: 0.3153 - acc: 0.993 - ETA: 6s - loss: 0.3148 - acc: 0.993 - ETA: 6s - loss: 0.3149 - acc: 0.993 - ETA: 5s - loss: 0.3154 - acc: 0.993 - ETA: 5s - loss: 0.3157 - acc: 0.993 - ETA: 5s - loss: 0.3162 - acc: 0.993 - ETA: 5s - loss: 0.3163 - acc: 0.993 - ETA: 5s - loss: 0.3153 - acc: 0.993 - ETA: 5s - loss: 0.3150 - acc: 0.993 - ETA: 5s - loss: 0.3143 - acc: 0.993 - ETA: 5s - loss: 0.3150 - acc: 0.993 - ETA: 5s - loss: 0.3143 - acc: 0.993 - ETA: 5s - loss: 0.3145 - acc: 0.993 - ETA: 5s - loss: 0.3142 - acc: 0.993 - ETA: 5s - loss: 0.3127 - acc: 0.993 - ETA: 5s - loss: 0.3119 - acc: 0.993 - ETA: 5s - loss: 0.3121 - acc: 0.993 - ETA: 5s - loss: 0.3128 - acc: 0.993 - ETA: 5s - loss: 0.3125 - acc: 0.993 - ETA: 5s - loss: 0.3127 - acc: 0.993 - ETA: 5s - loss: 0.3131 - acc: 0.993 - ETA: 5s - loss: 0.3124 - acc: 0.993 - ETA: 4s - loss: 0.3129 - acc: 0.993 - ETA: 4s - loss: 0.3128 - acc: 0.993 - ETA: 4s - loss: 0.3135 - acc: 0.993 - ETA: 4s - loss: 0.3131 - acc: 0.993 - ETA: 4s - loss: 0.3136 - acc: 0.993 - ETA: 4s - loss: 0.3135 - acc: 0.993 - ETA: 4s - loss: 0.3131 - acc: 0.993 - ETA: 4s - loss: 0.3129 - acc: 0.993 - ETA: 4s - loss: 0.3133 - acc: 0.993 - ETA: 4s - loss: 0.3131 - acc: 0.993 - ETA: 4s - loss: 0.3127 - acc: 0.993 - ETA: 4s - loss: 0.3124 - acc: 0.993 - ETA: 4s - loss: 0.3129 - acc: 0.993 - ETA: 4s - loss: 0.3132 - acc: 0.993 - ETA: 4s - loss: 0.3134 - acc: 0.993 - ETA: 4s - loss: 0.3139 - acc: 0.993 - ETA: 4s - loss: 0.3130 - acc: 0.993 - ETA: 4s - loss: 0.3131 - acc: 0.993 - ETA: 4s - loss: 0.3133 - acc: 0.993 - ETA: 3s - loss: 0.3137 - acc: 0.993 - ETA: 3s - loss: 0.3139 - acc: 0.993 - ETA: 3s - loss: 0.3138 - acc: 0.993 - ETA: 3s - loss: 0.3134 - acc: 0.993 - ETA: 3s - loss: 0.3140 - acc: 0.993 - ETA: 3s - loss: 0.3142 - acc: 0.993 - ETA: 3s - loss: 0.3140 - acc: 0.993 - ETA: 3s - loss: 0.3135 - acc: 0.993 - ETA: 3s - loss: 0.3135 - acc: 0.993 - ETA: 3s - loss: 0.3129 - acc: 0.993 - ETA: 3s - loss: 0.3126 - acc: 0.993 - ETA: 3s - loss: 0.3125 - acc: 0.993 - ETA: 3s - loss: 0.3130 - acc: 0.993 - ETA: 3s - loss: 0.3127 - acc: 0.993 - ETA: 3s - loss: 0.3124 - acc: 0.993 - ETA: 3s - loss: 0.3126 - acc: 0.993 - ETA: 3s - loss: 0.3124 - acc: 0.993 - ETA: 3s - loss: 0.3121 - acc: 0.993 - ETA: 3s - loss: 0.3123 - acc: 0.993 - ETA: 3s - loss: 0.3125 - acc: 0.993 - ETA: 2s - loss: 0.3125 - acc: 0.993 - ETA: 2s - loss: 0.3128 - acc: 0.993 - ETA: 2s - loss: 0.3135 - acc: 0.993 - ETA: 2s - loss: 0.3133 - acc: 0.993 - ETA: 2s - loss: 0.3136 - acc: 0.993 - ETA: 2s - loss: 0.3131 - acc: 0.993 - ETA: 2s - loss: 0.3131 - acc: 0.993 - ETA: 2s - loss: 0.3128 - acc: 0.993 - ETA: 2s - loss: 0.3122 - acc: 0.993 - ETA: 2s - loss: 0.3117 - acc: 0.993 - ETA: 2s - loss: 0.3112 - acc: 0.993 - ETA: 2s - loss: 0.3113 - acc: 0.993 - ETA: 2s - loss: 0.3108 - acc: 0.993 - ETA: 2s - loss: 0.3110 - acc: 0.993 - ETA: 2s - loss: 0.3113 - acc: 0.993 - ETA: 2s - loss: 0.3110 - acc: 0.993 - ETA: 2s - loss: 0.3110 - acc: 0.993 - ETA: 2s - loss: 0.3105 - acc: 0.993 - ETA: 2s - loss: 0.3105 - acc: 0.993 - ETA: 1s - loss: 0.3107 - acc: 0.993 - ETA: 1s - loss: 0.3103 - acc: 0.993 - ETA: 1s - loss: 0.3098 - acc: 0.993 - ETA: 1s - loss: 0.3093 - acc: 0.993 - ETA: 1s - loss: 0.3097 - acc: 0.993 - ETA: 1s - loss: 0.3097 - acc: 0.993 - ETA: 1s - loss: 0.3098 - acc: 0.993 - ETA: 1s - loss: 0.3092 - acc: 0.993 - ETA: 1s - loss: 0.3089 - acc: 0.993 - ETA: 1s - loss: 0.3090 - acc: 0.993 - ETA: 1s - loss: 0.3096 - acc: 0.993 - ETA: 1s - loss: 0.3097 - acc: 0.993 - ETA: 1s - loss: 0.3093 - acc: 0.993 - ETA: 1s - loss: 0.3097 - acc: 0.993 - ETA: 1s - loss: 0.3103 - acc: 0.993 - ETA: 1s - loss: 0.3103 - acc: 0.993 - ETA: 1s - loss: 0.3102 - acc: 0.993 - ETA: 1s - loss: 0.3100 - acc: 0.993 - ETA: 1s - loss: 0.3099 - acc: 0.993 - ETA: 1s - loss: 0.3093 - acc: 0.993 - ETA: 0s - loss: 0.3099 - acc: 0.993 - ETA: 0s - loss: 0.3094 - acc: 0.993 - ETA: 0s - loss: 0.3094 - acc: 0.993 - ETA: 0s - loss: 0.3089 - acc: 0.993 - ETA: 0s - loss: 0.3085 - acc: 0.993 - ETA: 0s - loss: 0.3086 - acc: 0.993 - ETA: 0s - loss: 0.3085 - acc: 0.993 - ETA: 0s - loss: 0.3083 - acc: 0.993 - ETA: 0s - loss: 0.3088 - acc: 0.993 - ETA: 0s - loss: 0.3087 - acc: 0.993 - ETA: 0s - loss: 0.3086 - acc: 0.993 - ETA: 0s - loss: 0.3085 - acc: 0.993 - ETA: 0s - loss: 0.3088 - acc: 0.993 - ETA: 0s - loss: 0.3088 - acc: 0.993 - ETA: 0s - loss: 0.3086 - acc: 0.993 - ETA: 0s - loss: 0.3088 - acc: 0.993 - ETA: 0s - loss: 0.3084 - acc: 0.993 - ETA: 0s - loss: 0.3085 - acc: 0.993 - ETA: 0s - loss: 0.3083 - acc: 0.993 - ETA: 0s - loss: 0.3084 - acc: 0.993 - 11s 96us/step - loss: 0.3086 - acc: 0.9937\n",
      "Epoch 7/10\n"
     ]
    },
    {
     "name": "stdout",
     "output_type": "stream",
     "text": [
      "111699/111699 [==============================] - ETA: 27s - loss: 0.2819 - acc: 1.00 - ETA: 12s - loss: 0.2390 - acc: 0.99 - ETA: 11s - loss: 0.2844 - acc: 0.99 - ETA: 11s - loss: 0.3011 - acc: 0.99 - ETA: 11s - loss: 0.3143 - acc: 0.99 - ETA: 10s - loss: 0.3124 - acc: 0.99 - ETA: 10s - loss: 0.3186 - acc: 0.99 - ETA: 10s - loss: 0.3163 - acc: 0.99 - ETA: 10s - loss: 0.3142 - acc: 0.99 - ETA: 10s - loss: 0.3168 - acc: 0.99 - ETA: 10s - loss: 0.3095 - acc: 0.99 - ETA: 10s - loss: 0.3069 - acc: 0.99 - ETA: 10s - loss: 0.3029 - acc: 0.99 - ETA: 10s - loss: 0.3069 - acc: 0.99 - ETA: 10s - loss: 0.3124 - acc: 0.99 - ETA: 10s - loss: 0.3103 - acc: 0.99 - ETA: 10s - loss: 0.3107 - acc: 0.99 - ETA: 10s - loss: 0.3111 - acc: 0.99 - ETA: 10s - loss: 0.3089 - acc: 0.99 - ETA: 9s - loss: 0.3054 - acc: 0.9937 - ETA: 9s - loss: 0.3033 - acc: 0.993 - ETA: 9s - loss: 0.3049 - acc: 0.993 - ETA: 9s - loss: 0.3041 - acc: 0.993 - ETA: 9s - loss: 0.3080 - acc: 0.993 - ETA: 9s - loss: 0.3064 - acc: 0.993 - ETA: 9s - loss: 0.3065 - acc: 0.993 - ETA: 9s - loss: 0.3055 - acc: 0.993 - ETA: 9s - loss: 0.3064 - acc: 0.993 - ETA: 9s - loss: 0.3070 - acc: 0.993 - ETA: 9s - loss: 0.3091 - acc: 0.993 - ETA: 9s - loss: 0.3092 - acc: 0.993 - ETA: 9s - loss: 0.3079 - acc: 0.993 - ETA: 9s - loss: 0.3065 - acc: 0.993 - ETA: 9s - loss: 0.3078 - acc: 0.993 - ETA: 9s - loss: 0.3075 - acc: 0.993 - ETA: 9s - loss: 0.3120 - acc: 0.993 - ETA: 9s - loss: 0.3129 - acc: 0.993 - ETA: 9s - loss: 0.3125 - acc: 0.993 - ETA: 8s - loss: 0.3131 - acc: 0.993 - ETA: 8s - loss: 0.3156 - acc: 0.993 - ETA: 8s - loss: 0.3166 - acc: 0.993 - ETA: 8s - loss: 0.3167 - acc: 0.993 - ETA: 8s - loss: 0.3179 - acc: 0.993 - ETA: 8s - loss: 0.3174 - acc: 0.993 - ETA: 8s - loss: 0.3147 - acc: 0.993 - ETA: 8s - loss: 0.3147 - acc: 0.993 - ETA: 8s - loss: 0.3141 - acc: 0.993 - ETA: 8s - loss: 0.3123 - acc: 0.993 - ETA: 8s - loss: 0.3099 - acc: 0.993 - ETA: 8s - loss: 0.3103 - acc: 0.993 - ETA: 8s - loss: 0.3096 - acc: 0.993 - ETA: 8s - loss: 0.3087 - acc: 0.993 - ETA: 8s - loss: 0.3084 - acc: 0.993 - ETA: 8s - loss: 0.3098 - acc: 0.993 - ETA: 8s - loss: 0.3086 - acc: 0.993 - ETA: 8s - loss: 0.3083 - acc: 0.993 - ETA: 8s - loss: 0.3084 - acc: 0.993 - ETA: 8s - loss: 0.3067 - acc: 0.993 - ETA: 7s - loss: 0.3056 - acc: 0.993 - ETA: 7s - loss: 0.3063 - acc: 0.993 - ETA: 7s - loss: 0.3067 - acc: 0.993 - ETA: 7s - loss: 0.3055 - acc: 0.993 - ETA: 7s - loss: 0.3066 - acc: 0.993 - ETA: 7s - loss: 0.3067 - acc: 0.993 - ETA: 7s - loss: 0.3073 - acc: 0.993 - ETA: 7s - loss: 0.3066 - acc: 0.993 - ETA: 7s - loss: 0.3072 - acc: 0.993 - ETA: 7s - loss: 0.3075 - acc: 0.993 - ETA: 7s - loss: 0.3065 - acc: 0.993 - ETA: 7s - loss: 0.3065 - acc: 0.993 - ETA: 7s - loss: 0.3067 - acc: 0.993 - ETA: 7s - loss: 0.3064 - acc: 0.993 - ETA: 7s - loss: 0.3057 - acc: 0.993 - ETA: 7s - loss: 0.3057 - acc: 0.993 - ETA: 7s - loss: 0.3048 - acc: 0.993 - ETA: 7s - loss: 0.3051 - acc: 0.993 - ETA: 6s - loss: 0.3042 - acc: 0.993 - ETA: 6s - loss: 0.3043 - acc: 0.993 - ETA: 6s - loss: 0.3056 - acc: 0.993 - ETA: 6s - loss: 0.3069 - acc: 0.993 - ETA: 6s - loss: 0.3062 - acc: 0.993 - ETA: 6s - loss: 0.3060 - acc: 0.993 - ETA: 6s - loss: 0.3055 - acc: 0.993 - ETA: 6s - loss: 0.3055 - acc: 0.993 - ETA: 6s - loss: 0.3062 - acc: 0.993 - ETA: 6s - loss: 0.3064 - acc: 0.993 - ETA: 6s - loss: 0.3064 - acc: 0.993 - ETA: 6s - loss: 0.3059 - acc: 0.993 - ETA: 6s - loss: 0.3054 - acc: 0.993 - ETA: 6s - loss: 0.3057 - acc: 0.993 - ETA: 6s - loss: 0.3054 - acc: 0.993 - ETA: 6s - loss: 0.3058 - acc: 0.993 - ETA: 6s - loss: 0.3059 - acc: 0.993 - ETA: 6s - loss: 0.3049 - acc: 0.993 - ETA: 6s - loss: 0.3046 - acc: 0.993 - ETA: 5s - loss: 0.3041 - acc: 0.993 - ETA: 5s - loss: 0.3043 - acc: 0.993 - ETA: 5s - loss: 0.3039 - acc: 0.993 - ETA: 5s - loss: 0.3038 - acc: 0.993 - ETA: 5s - loss: 0.3037 - acc: 0.993 - ETA: 5s - loss: 0.3045 - acc: 0.993 - ETA: 5s - loss: 0.3055 - acc: 0.993 - ETA: 5s - loss: 0.3053 - acc: 0.993 - ETA: 5s - loss: 0.3045 - acc: 0.993 - ETA: 5s - loss: 0.3050 - acc: 0.993 - ETA: 5s - loss: 0.3046 - acc: 0.993 - ETA: 5s - loss: 0.3041 - acc: 0.993 - ETA: 5s - loss: 0.3039 - acc: 0.993 - ETA: 5s - loss: 0.3032 - acc: 0.993 - ETA: 5s - loss: 0.3040 - acc: 0.993 - ETA: 5s - loss: 0.3038 - acc: 0.993 - ETA: 5s - loss: 0.3045 - acc: 0.993 - ETA: 5s - loss: 0.3048 - acc: 0.993 - ETA: 5s - loss: 0.3056 - acc: 0.993 - ETA: 5s - loss: 0.3056 - acc: 0.993 - ETA: 4s - loss: 0.3059 - acc: 0.993 - ETA: 4s - loss: 0.3061 - acc: 0.993 - ETA: 4s - loss: 0.3063 - acc: 0.993 - ETA: 4s - loss: 0.3065 - acc: 0.993 - ETA: 4s - loss: 0.3063 - acc: 0.993 - ETA: 4s - loss: 0.3061 - acc: 0.993 - ETA: 4s - loss: 0.3065 - acc: 0.993 - ETA: 4s - loss: 0.3059 - acc: 0.993 - ETA: 4s - loss: 0.3063 - acc: 0.993 - ETA: 4s - loss: 0.3064 - acc: 0.993 - ETA: 4s - loss: 0.3063 - acc: 0.993 - ETA: 4s - loss: 0.3068 - acc: 0.993 - ETA: 4s - loss: 0.3062 - acc: 0.993 - ETA: 4s - loss: 0.3064 - acc: 0.993 - ETA: 4s - loss: 0.3064 - acc: 0.993 - ETA: 4s - loss: 0.3064 - acc: 0.993 - ETA: 4s - loss: 0.3065 - acc: 0.993 - ETA: 4s - loss: 0.3064 - acc: 0.993 - ETA: 4s - loss: 0.3060 - acc: 0.993 - ETA: 4s - loss: 0.3067 - acc: 0.993 - ETA: 3s - loss: 0.3072 - acc: 0.993 - ETA: 3s - loss: 0.3069 - acc: 0.993 - ETA: 3s - loss: 0.3070 - acc: 0.993 - ETA: 3s - loss: 0.3071 - acc: 0.993 - ETA: 3s - loss: 0.3075 - acc: 0.993 - ETA: 3s - loss: 0.3078 - acc: 0.993 - ETA: 3s - loss: 0.3088 - acc: 0.993 - ETA: 3s - loss: 0.3094 - acc: 0.993 - ETA: 3s - loss: 0.3103 - acc: 0.993 - ETA: 3s - loss: 0.3102 - acc: 0.993 - ETA: 3s - loss: 0.3103 - acc: 0.993 - ETA: 3s - loss: 0.3094 - acc: 0.993 - ETA: 3s - loss: 0.3093 - acc: 0.993 - ETA: 3s - loss: 0.3092 - acc: 0.993 - ETA: 3s - loss: 0.3090 - acc: 0.993 - ETA: 3s - loss: 0.3088 - acc: 0.993 - ETA: 3s - loss: 0.3088 - acc: 0.993 - ETA: 3s - loss: 0.3083 - acc: 0.993 - ETA: 3s - loss: 0.3085 - acc: 0.993 - ETA: 2s - loss: 0.3083 - acc: 0.993 - ETA: 2s - loss: 0.3081 - acc: 0.993 - ETA: 2s - loss: 0.3078 - acc: 0.993 - ETA: 2s - loss: 0.3076 - acc: 0.993 - ETA: 2s - loss: 0.3075 - acc: 0.993 - ETA: 2s - loss: 0.3080 - acc: 0.993 - ETA: 2s - loss: 0.3082 - acc: 0.993 - ETA: 2s - loss: 0.3078 - acc: 0.993 - ETA: 2s - loss: 0.3081 - acc: 0.993 - ETA: 2s - loss: 0.3080 - acc: 0.993 - ETA: 2s - loss: 0.3073 - acc: 0.993 - ETA: 2s - loss: 0.3075 - acc: 0.993 - ETA: 2s - loss: 0.3074 - acc: 0.993 - ETA: 2s - loss: 0.3076 - acc: 0.993 - ETA: 2s - loss: 0.3069 - acc: 0.993 - ETA: 2s - loss: 0.3065 - acc: 0.993 - ETA: 2s - loss: 0.3069 - acc: 0.993 - ETA: 2s - loss: 0.3068 - acc: 0.993 - ETA: 2s - loss: 0.3069 - acc: 0.993 - ETA: 1s - loss: 0.3067 - acc: 0.993 - ETA: 1s - loss: 0.3064 - acc: 0.993 - ETA: 1s - loss: 0.3061 - acc: 0.993 - ETA: 1s - loss: 0.3059 - acc: 0.993 - ETA: 1s - loss: 0.3061 - acc: 0.993 - ETA: 1s - loss: 0.3066 - acc: 0.993 - ETA: 1s - loss: 0.3065 - acc: 0.993 - ETA: 1s - loss: 0.3066 - acc: 0.993 - ETA: 1s - loss: 0.3067 - acc: 0.993 - ETA: 1s - loss: 0.3069 - acc: 0.993 - ETA: 1s - loss: 0.3072 - acc: 0.993 - ETA: 1s - loss: 0.3072 - acc: 0.993 - ETA: 1s - loss: 0.3072 - acc: 0.993 - ETA: 1s - loss: 0.3073 - acc: 0.993 - ETA: 1s - loss: 0.3073 - acc: 0.993 - ETA: 1s - loss: 0.3072 - acc: 0.993 - ETA: 1s - loss: 0.3072 - acc: 0.993 - ETA: 1s - loss: 0.3073 - acc: 0.993 - ETA: 1s - loss: 0.3071 - acc: 0.993 - ETA: 0s - loss: 0.3069 - acc: 0.993 - ETA: 0s - loss: 0.3066 - acc: 0.993 - ETA: 0s - loss: 0.3062 - acc: 0.993 - ETA: 0s - loss: 0.3061 - acc: 0.993 - ETA: 0s - loss: 0.3061 - acc: 0.993 - ETA: 0s - loss: 0.3062 - acc: 0.993 - ETA: 0s - loss: 0.3058 - acc: 0.993 - ETA: 0s - loss: 0.3059 - acc: 0.993 - ETA: 0s - loss: 0.3057 - acc: 0.993 - ETA: 0s - loss: 0.3058 - acc: 0.993 - ETA: 0s - loss: 0.3059 - acc: 0.993 - ETA: 0s - loss: 0.3059 - acc: 0.993 - ETA: 0s - loss: 0.3054 - acc: 0.993 - ETA: 0s - loss: 0.3053 - acc: 0.993 - ETA: 0s - loss: 0.3056 - acc: 0.993 - ETA: 0s - loss: 0.3057 - acc: 0.993 - ETA: 0s - loss: 0.3057 - acc: 0.993 - ETA: 0s - loss: 0.3060 - acc: 0.993 - ETA: 0s - loss: 0.3057 - acc: 0.993 - ETA: 0s - loss: 0.3057 - acc: 0.993 - 11s 98us/step - loss: 0.3058 - acc: 0.9936\n",
      "Epoch 8/10\n"
     ]
    },
    {
     "name": "stdout",
     "output_type": "stream",
     "text": [
      "111699/111699 [==============================] - ETA: 31s - loss: 0.2409 - acc: 1.00 - ETA: 12s - loss: 0.2966 - acc: 0.99 - ETA: 11s - loss: 0.2749 - acc: 0.99 - ETA: 11s - loss: 0.2871 - acc: 0.99 - ETA: 11s - loss: 0.2769 - acc: 0.99 - ETA: 11s - loss: 0.2929 - acc: 0.99 - ETA: 11s - loss: 0.3089 - acc: 0.99 - ETA: 11s - loss: 0.3127 - acc: 0.99 - ETA: 11s - loss: 0.3189 - acc: 0.99 - ETA: 11s - loss: 0.3198 - acc: 0.99 - ETA: 10s - loss: 0.3098 - acc: 0.99 - ETA: 10s - loss: 0.3076 - acc: 0.99 - ETA: 10s - loss: 0.3114 - acc: 0.99 - ETA: 10s - loss: 0.3085 - acc: 0.99 - ETA: 10s - loss: 0.3090 - acc: 0.99 - ETA: 10s - loss: 0.3077 - acc: 0.99 - ETA: 10s - loss: 0.3168 - acc: 0.99 - ETA: 10s - loss: 0.3187 - acc: 0.99 - ETA: 10s - loss: 0.3219 - acc: 0.99 - ETA: 10s - loss: 0.3220 - acc: 0.99 - ETA: 10s - loss: 0.3202 - acc: 0.99 - ETA: 10s - loss: 0.3162 - acc: 0.99 - ETA: 10s - loss: 0.3115 - acc: 0.99 - ETA: 10s - loss: 0.3139 - acc: 0.99 - ETA: 10s - loss: 0.3158 - acc: 0.99 - ETA: 9s - loss: 0.3148 - acc: 0.9930 - ETA: 9s - loss: 0.3154 - acc: 0.993 - ETA: 9s - loss: 0.3142 - acc: 0.993 - ETA: 9s - loss: 0.3164 - acc: 0.993 - ETA: 9s - loss: 0.3149 - acc: 0.993 - ETA: 9s - loss: 0.3157 - acc: 0.993 - ETA: 9s - loss: 0.3136 - acc: 0.993 - ETA: 9s - loss: 0.3149 - acc: 0.993 - ETA: 9s - loss: 0.3153 - acc: 0.993 - ETA: 9s - loss: 0.3124 - acc: 0.993 - ETA: 9s - loss: 0.3121 - acc: 0.993 - ETA: 9s - loss: 0.3108 - acc: 0.993 - ETA: 9s - loss: 0.3117 - acc: 0.993 - ETA: 9s - loss: 0.3137 - acc: 0.993 - ETA: 9s - loss: 0.3116 - acc: 0.993 - ETA: 9s - loss: 0.3111 - acc: 0.993 - ETA: 9s - loss: 0.3115 - acc: 0.993 - ETA: 9s - loss: 0.3088 - acc: 0.993 - ETA: 9s - loss: 0.3096 - acc: 0.993 - ETA: 8s - loss: 0.3059 - acc: 0.993 - ETA: 8s - loss: 0.3076 - acc: 0.993 - ETA: 8s - loss: 0.3054 - acc: 0.993 - ETA: 8s - loss: 0.3034 - acc: 0.993 - ETA: 8s - loss: 0.3044 - acc: 0.993 - ETA: 8s - loss: 0.3040 - acc: 0.993 - ETA: 8s - loss: 0.3036 - acc: 0.993 - ETA: 8s - loss: 0.3035 - acc: 0.993 - ETA: 8s - loss: 0.3034 - acc: 0.993 - ETA: 8s - loss: 0.3024 - acc: 0.993 - ETA: 8s - loss: 0.3031 - acc: 0.993 - ETA: 8s - loss: 0.3038 - acc: 0.993 - ETA: 8s - loss: 0.3042 - acc: 0.993 - ETA: 8s - loss: 0.3038 - acc: 0.993 - ETA: 8s - loss: 0.3029 - acc: 0.993 - ETA: 8s - loss: 0.3043 - acc: 0.993 - ETA: 8s - loss: 0.3042 - acc: 0.993 - ETA: 8s - loss: 0.3044 - acc: 0.993 - ETA: 7s - loss: 0.3057 - acc: 0.993 - ETA: 7s - loss: 0.3064 - acc: 0.993 - ETA: 7s - loss: 0.3062 - acc: 0.993 - ETA: 7s - loss: 0.3067 - acc: 0.993 - ETA: 7s - loss: 0.3066 - acc: 0.993 - ETA: 7s - loss: 0.3087 - acc: 0.993 - ETA: 7s - loss: 0.3076 - acc: 0.993 - ETA: 7s - loss: 0.3066 - acc: 0.993 - ETA: 7s - loss: 0.3062 - acc: 0.993 - ETA: 7s - loss: 0.3065 - acc: 0.993 - ETA: 7s - loss: 0.3060 - acc: 0.993 - ETA: 7s - loss: 0.3065 - acc: 0.993 - ETA: 7s - loss: 0.3061 - acc: 0.993 - ETA: 7s - loss: 0.3048 - acc: 0.993 - ETA: 7s - loss: 0.3055 - acc: 0.993 - ETA: 7s - loss: 0.3055 - acc: 0.993 - ETA: 7s - loss: 0.3061 - acc: 0.993 - ETA: 7s - loss: 0.3062 - acc: 0.993 - ETA: 7s - loss: 0.3054 - acc: 0.993 - ETA: 6s - loss: 0.3048 - acc: 0.993 - ETA: 6s - loss: 0.3051 - acc: 0.993 - ETA: 6s - loss: 0.3079 - acc: 0.993 - ETA: 6s - loss: 0.3081 - acc: 0.993 - ETA: 6s - loss: 0.3093 - acc: 0.993 - ETA: 6s - loss: 0.3104 - acc: 0.993 - ETA: 6s - loss: 0.3113 - acc: 0.993 - ETA: 6s - loss: 0.3121 - acc: 0.993 - ETA: 6s - loss: 0.3118 - acc: 0.993 - ETA: 6s - loss: 0.3115 - acc: 0.993 - ETA: 6s - loss: 0.3104 - acc: 0.993 - ETA: 6s - loss: 0.3099 - acc: 0.993 - ETA: 6s - loss: 0.3101 - acc: 0.993 - ETA: 6s - loss: 0.3096 - acc: 0.993 - ETA: 6s - loss: 0.3097 - acc: 0.993 - ETA: 6s - loss: 0.3093 - acc: 0.993 - ETA: 6s - loss: 0.3097 - acc: 0.993 - ETA: 6s - loss: 0.3094 - acc: 0.993 - ETA: 5s - loss: 0.3091 - acc: 0.993 - ETA: 5s - loss: 0.3090 - acc: 0.993 - ETA: 5s - loss: 0.3093 - acc: 0.993 - ETA: 5s - loss: 0.3104 - acc: 0.993 - ETA: 5s - loss: 0.3101 - acc: 0.993 - ETA: 5s - loss: 0.3106 - acc: 0.993 - ETA: 5s - loss: 0.3106 - acc: 0.993 - ETA: 5s - loss: 0.3108 - acc: 0.993 - ETA: 5s - loss: 0.3105 - acc: 0.993 - ETA: 5s - loss: 0.3109 - acc: 0.993 - ETA: 5s - loss: 0.3110 - acc: 0.993 - ETA: 5s - loss: 0.3101 - acc: 0.993 - ETA: 5s - loss: 0.3096 - acc: 0.993 - ETA: 5s - loss: 0.3104 - acc: 0.993 - ETA: 5s - loss: 0.3104 - acc: 0.993 - ETA: 5s - loss: 0.3100 - acc: 0.993 - ETA: 5s - loss: 0.3101 - acc: 0.993 - ETA: 5s - loss: 0.3100 - acc: 0.993 - ETA: 4s - loss: 0.3093 - acc: 0.993 - ETA: 4s - loss: 0.3095 - acc: 0.993 - ETA: 4s - loss: 0.3097 - acc: 0.993 - ETA: 4s - loss: 0.3096 - acc: 0.993 - ETA: 4s - loss: 0.3096 - acc: 0.993 - ETA: 4s - loss: 0.3096 - acc: 0.993 - ETA: 4s - loss: 0.3091 - acc: 0.993 - ETA: 4s - loss: 0.3091 - acc: 0.993 - ETA: 4s - loss: 0.3086 - acc: 0.993 - ETA: 4s - loss: 0.3086 - acc: 0.993 - ETA: 4s - loss: 0.3091 - acc: 0.993 - ETA: 4s - loss: 0.3085 - acc: 0.993 - ETA: 4s - loss: 0.3087 - acc: 0.993 - ETA: 4s - loss: 0.3081 - acc: 0.993 - ETA: 4s - loss: 0.3083 - acc: 0.993 - ETA: 4s - loss: 0.3091 - acc: 0.993 - ETA: 4s - loss: 0.3091 - acc: 0.993 - ETA: 4s - loss: 0.3088 - acc: 0.993 - ETA: 4s - loss: 0.3089 - acc: 0.993 - ETA: 3s - loss: 0.3084 - acc: 0.993 - ETA: 3s - loss: 0.3086 - acc: 0.993 - ETA: 3s - loss: 0.3083 - acc: 0.993 - ETA: 3s - loss: 0.3082 - acc: 0.993 - ETA: 3s - loss: 0.3080 - acc: 0.993 - ETA: 3s - loss: 0.3080 - acc: 0.993 - ETA: 3s - loss: 0.3079 - acc: 0.993 - ETA: 3s - loss: 0.3080 - acc: 0.993 - ETA: 3s - loss: 0.3078 - acc: 0.993 - ETA: 3s - loss: 0.3075 - acc: 0.993 - ETA: 3s - loss: 0.3076 - acc: 0.993 - ETA: 3s - loss: 0.3077 - acc: 0.993 - ETA: 3s - loss: 0.3072 - acc: 0.993 - ETA: 3s - loss: 0.3070 - acc: 0.993 - ETA: 3s - loss: 0.3069 - acc: 0.993 - ETA: 3s - loss: 0.3071 - acc: 0.993 - ETA: 3s - loss: 0.3077 - acc: 0.993 - ETA: 3s - loss: 0.3080 - acc: 0.993 - ETA: 2s - loss: 0.3083 - acc: 0.993 - ETA: 2s - loss: 0.3090 - acc: 0.993 - ETA: 2s - loss: 0.3085 - acc: 0.993 - ETA: 2s - loss: 0.3087 - acc: 0.993 - ETA: 2s - loss: 0.3085 - acc: 0.993 - ETA: 2s - loss: 0.3087 - acc: 0.993 - ETA: 2s - loss: 0.3087 - acc: 0.993 - ETA: 2s - loss: 0.3086 - acc: 0.993 - ETA: 2s - loss: 0.3086 - acc: 0.993 - ETA: 2s - loss: 0.3086 - acc: 0.993 - ETA: 2s - loss: 0.3088 - acc: 0.993 - ETA: 2s - loss: 0.3086 - acc: 0.993 - ETA: 2s - loss: 0.3089 - acc: 0.993 - ETA: 2s - loss: 0.3086 - acc: 0.993 - ETA: 2s - loss: 0.3083 - acc: 0.993 - ETA: 2s - loss: 0.3082 - acc: 0.993 - ETA: 2s - loss: 0.3083 - acc: 0.993 - ETA: 2s - loss: 0.3083 - acc: 0.993 - ETA: 2s - loss: 0.3083 - acc: 0.993 - ETA: 1s - loss: 0.3084 - acc: 0.993 - ETA: 1s - loss: 0.3080 - acc: 0.993 - ETA: 1s - loss: 0.3078 - acc: 0.993 - ETA: 1s - loss: 0.3079 - acc: 0.993 - ETA: 1s - loss: 0.3075 - acc: 0.993 - ETA: 1s - loss: 0.3071 - acc: 0.993 - ETA: 1s - loss: 0.3075 - acc: 0.993 - ETA: 1s - loss: 0.3070 - acc: 0.993 - ETA: 1s - loss: 0.3070 - acc: 0.993 - ETA: 1s - loss: 0.3071 - acc: 0.993 - ETA: 1s - loss: 0.3073 - acc: 0.993 - ETA: 1s - loss: 0.3073 - acc: 0.993 - ETA: 1s - loss: 0.3072 - acc: 0.993 - ETA: 1s - loss: 0.3073 - acc: 0.993 - ETA: 1s - loss: 0.3073 - acc: 0.993 - ETA: 1s - loss: 0.3072 - acc: 0.993 - ETA: 1s - loss: 0.3071 - acc: 0.993 - ETA: 1s - loss: 0.3071 - acc: 0.993 - ETA: 0s - loss: 0.3070 - acc: 0.993 - ETA: 0s - loss: 0.3070 - acc: 0.993 - ETA: 0s - loss: 0.3067 - acc: 0.993 - ETA: 0s - loss: 0.3065 - acc: 0.993 - ETA: 0s - loss: 0.3063 - acc: 0.993 - ETA: 0s - loss: 0.3062 - acc: 0.993 - ETA: 0s - loss: 0.3064 - acc: 0.993 - ETA: 0s - loss: 0.3064 - acc: 0.993 - ETA: 0s - loss: 0.3063 - acc: 0.993 - ETA: 0s - loss: 0.3066 - acc: 0.993 - ETA: 0s - loss: 0.3060 - acc: 0.993 - ETA: 0s - loss: 0.3058 - acc: 0.993 - ETA: 0s - loss: 0.3059 - acc: 0.993 - ETA: 0s - loss: 0.3059 - acc: 0.993 - ETA: 0s - loss: 0.3058 - acc: 0.993 - ETA: 0s - loss: 0.3051 - acc: 0.993 - ETA: 0s - loss: 0.3050 - acc: 0.993 - ETA: 0s - loss: 0.3049 - acc: 0.993 - ETA: 0s - loss: 0.3049 - acc: 0.993 - ETA: 0s - loss: 0.3055 - acc: 0.993 - 11s 98us/step - loss: 0.3056 - acc: 0.9936\n",
      "Epoch 9/10\n"
     ]
    },
    {
     "name": "stdout",
     "output_type": "stream",
     "text": [
      "111699/111699 [==============================] - ETA: 27s - loss: 0.1660 - acc: 1.00 - ETA: 12s - loss: 0.2364 - acc: 0.99 - ETA: 11s - loss: 0.2702 - acc: 0.99 - ETA: 11s - loss: 0.2938 - acc: 0.99 - ETA: 10s - loss: 0.2901 - acc: 0.99 - ETA: 10s - loss: 0.2929 - acc: 0.99 - ETA: 10s - loss: 0.2991 - acc: 0.99 - ETA: 10s - loss: 0.3041 - acc: 0.99 - ETA: 10s - loss: 0.3038 - acc: 0.99 - ETA: 10s - loss: 0.3062 - acc: 0.99 - ETA: 10s - loss: 0.3048 - acc: 0.99 - ETA: 9s - loss: 0.3051 - acc: 0.9954 - ETA: 9s - loss: 0.2967 - acc: 0.995 - ETA: 9s - loss: 0.2992 - acc: 0.995 - ETA: 9s - loss: 0.2979 - acc: 0.995 - ETA: 9s - loss: 0.2935 - acc: 0.995 - ETA: 9s - loss: 0.2890 - acc: 0.995 - ETA: 9s - loss: 0.2876 - acc: 0.995 - ETA: 9s - loss: 0.2883 - acc: 0.995 - ETA: 9s - loss: 0.2901 - acc: 0.995 - ETA: 9s - loss: 0.2900 - acc: 0.995 - ETA: 9s - loss: 0.2901 - acc: 0.995 - ETA: 9s - loss: 0.2914 - acc: 0.995 - ETA: 9s - loss: 0.2910 - acc: 0.995 - ETA: 9s - loss: 0.2899 - acc: 0.995 - ETA: 9s - loss: 0.2947 - acc: 0.995 - ETA: 9s - loss: 0.2931 - acc: 0.995 - ETA: 9s - loss: 0.2936 - acc: 0.995 - ETA: 8s - loss: 0.2937 - acc: 0.995 - ETA: 8s - loss: 0.2940 - acc: 0.995 - ETA: 8s - loss: 0.2956 - acc: 0.995 - ETA: 8s - loss: 0.2959 - acc: 0.995 - ETA: 8s - loss: 0.2949 - acc: 0.994 - ETA: 8s - loss: 0.2937 - acc: 0.994 - ETA: 8s - loss: 0.2925 - acc: 0.994 - ETA: 8s - loss: 0.2926 - acc: 0.994 - ETA: 8s - loss: 0.2935 - acc: 0.994 - ETA: 8s - loss: 0.2900 - acc: 0.994 - ETA: 8s - loss: 0.2900 - acc: 0.994 - ETA: 8s - loss: 0.2903 - acc: 0.994 - ETA: 8s - loss: 0.2911 - acc: 0.994 - ETA: 8s - loss: 0.2902 - acc: 0.994 - ETA: 8s - loss: 0.2891 - acc: 0.994 - ETA: 8s - loss: 0.2907 - acc: 0.995 - ETA: 8s - loss: 0.2920 - acc: 0.994 - ETA: 8s - loss: 0.2921 - acc: 0.994 - ETA: 8s - loss: 0.2926 - acc: 0.994 - ETA: 8s - loss: 0.2937 - acc: 0.994 - ETA: 8s - loss: 0.2957 - acc: 0.995 - ETA: 8s - loss: 0.2960 - acc: 0.995 - ETA: 8s - loss: 0.2956 - acc: 0.995 - ETA: 7s - loss: 0.2958 - acc: 0.995 - ETA: 7s - loss: 0.2975 - acc: 0.994 - ETA: 7s - loss: 0.2980 - acc: 0.994 - ETA: 7s - loss: 0.2978 - acc: 0.994 - ETA: 7s - loss: 0.2984 - acc: 0.994 - ETA: 7s - loss: 0.3000 - acc: 0.994 - ETA: 7s - loss: 0.3002 - acc: 0.994 - ETA: 7s - loss: 0.3008 - acc: 0.994 - ETA: 7s - loss: 0.2995 - acc: 0.994 - ETA: 7s - loss: 0.3001 - acc: 0.994 - ETA: 7s - loss: 0.3008 - acc: 0.994 - ETA: 7s - loss: 0.3003 - acc: 0.994 - ETA: 7s - loss: 0.2999 - acc: 0.994 - ETA: 7s - loss: 0.3011 - acc: 0.994 - ETA: 7s - loss: 0.3019 - acc: 0.994 - ETA: 7s - loss: 0.3039 - acc: 0.994 - ETA: 7s - loss: 0.3035 - acc: 0.994 - ETA: 7s - loss: 0.3047 - acc: 0.994 - ETA: 7s - loss: 0.3047 - acc: 0.994 - ETA: 7s - loss: 0.3053 - acc: 0.994 - ETA: 7s - loss: 0.3061 - acc: 0.994 - ETA: 7s - loss: 0.3062 - acc: 0.994 - ETA: 6s - loss: 0.3058 - acc: 0.994 - ETA: 6s - loss: 0.3053 - acc: 0.994 - ETA: 6s - loss: 0.3043 - acc: 0.994 - ETA: 6s - loss: 0.3053 - acc: 0.994 - ETA: 6s - loss: 0.3058 - acc: 0.994 - ETA: 6s - loss: 0.3068 - acc: 0.994 - ETA: 6s - loss: 0.3070 - acc: 0.994 - ETA: 6s - loss: 0.3085 - acc: 0.994 - ETA: 6s - loss: 0.3086 - acc: 0.994 - ETA: 6s - loss: 0.3084 - acc: 0.993 - ETA: 6s - loss: 0.3079 - acc: 0.993 - ETA: 6s - loss: 0.3081 - acc: 0.993 - ETA: 6s - loss: 0.3072 - acc: 0.993 - ETA: 6s - loss: 0.3074 - acc: 0.993 - ETA: 6s - loss: 0.3073 - acc: 0.993 - ETA: 6s - loss: 0.3069 - acc: 0.993 - ETA: 6s - loss: 0.3064 - acc: 0.993 - ETA: 6s - loss: 0.3072 - acc: 0.993 - ETA: 6s - loss: 0.3067 - acc: 0.993 - ETA: 5s - loss: 0.3065 - acc: 0.993 - ETA: 5s - loss: 0.3068 - acc: 0.993 - ETA: 5s - loss: 0.3071 - acc: 0.993 - ETA: 5s - loss: 0.3075 - acc: 0.993 - ETA: 5s - loss: 0.3065 - acc: 0.993 - ETA: 5s - loss: 0.3065 - acc: 0.993 - ETA: 5s - loss: 0.3068 - acc: 0.993 - ETA: 5s - loss: 0.3062 - acc: 0.993 - ETA: 5s - loss: 0.3068 - acc: 0.993 - ETA: 5s - loss: 0.3063 - acc: 0.993 - ETA: 5s - loss: 0.3067 - acc: 0.993 - ETA: 5s - loss: 0.3058 - acc: 0.993 - ETA: 5s - loss: 0.3055 - acc: 0.993 - ETA: 5s - loss: 0.3064 - acc: 0.993 - ETA: 5s - loss: 0.3068 - acc: 0.993 - ETA: 5s - loss: 0.3066 - acc: 0.993 - ETA: 5s - loss: 0.3067 - acc: 0.993 - ETA: 5s - loss: 0.3063 - acc: 0.993 - ETA: 5s - loss: 0.3066 - acc: 0.993 - ETA: 5s - loss: 0.3067 - acc: 0.993 - ETA: 4s - loss: 0.3059 - acc: 0.993 - ETA: 4s - loss: 0.3058 - acc: 0.993 - ETA: 4s - loss: 0.3058 - acc: 0.993 - ETA: 4s - loss: 0.3049 - acc: 0.993 - ETA: 4s - loss: 0.3041 - acc: 0.993 - ETA: 4s - loss: 0.3043 - acc: 0.993 - ETA: 4s - loss: 0.3041 - acc: 0.993 - ETA: 4s - loss: 0.3041 - acc: 0.993 - ETA: 4s - loss: 0.3047 - acc: 0.993 - ETA: 4s - loss: 0.3045 - acc: 0.993 - ETA: 4s - loss: 0.3044 - acc: 0.993 - ETA: 4s - loss: 0.3045 - acc: 0.993 - ETA: 4s - loss: 0.3047 - acc: 0.993 - ETA: 4s - loss: 0.3053 - acc: 0.993 - ETA: 4s - loss: 0.3051 - acc: 0.993 - ETA: 4s - loss: 0.3048 - acc: 0.993 - ETA: 4s - loss: 0.3051 - acc: 0.993 - ETA: 4s - loss: 0.3049 - acc: 0.993 - ETA: 4s - loss: 0.3045 - acc: 0.993 - ETA: 3s - loss: 0.3049 - acc: 0.993 - ETA: 3s - loss: 0.3052 - acc: 0.993 - ETA: 3s - loss: 0.3045 - acc: 0.993 - ETA: 3s - loss: 0.3045 - acc: 0.993 - ETA: 3s - loss: 0.3047 - acc: 0.993 - ETA: 3s - loss: 0.3045 - acc: 0.993 - ETA: 3s - loss: 0.3040 - acc: 0.993 - ETA: 3s - loss: 0.3037 - acc: 0.993 - ETA: 3s - loss: 0.3032 - acc: 0.993 - ETA: 3s - loss: 0.3034 - acc: 0.993 - ETA: 3s - loss: 0.3034 - acc: 0.993 - ETA: 3s - loss: 0.3029 - acc: 0.993 - ETA: 3s - loss: 0.3032 - acc: 0.993 - ETA: 3s - loss: 0.3030 - acc: 0.993 - ETA: 3s - loss: 0.3027 - acc: 0.993 - ETA: 3s - loss: 0.3032 - acc: 0.993 - ETA: 3s - loss: 0.3038 - acc: 0.993 - ETA: 3s - loss: 0.3036 - acc: 0.993 - ETA: 3s - loss: 0.3037 - acc: 0.993 - ETA: 2s - loss: 0.3035 - acc: 0.993 - ETA: 2s - loss: 0.3030 - acc: 0.993 - ETA: 2s - loss: 0.3030 - acc: 0.993 - ETA: 2s - loss: 0.3030 - acc: 0.993 - ETA: 2s - loss: 0.3034 - acc: 0.993 - ETA: 2s - loss: 0.3032 - acc: 0.993 - ETA: 2s - loss: 0.3030 - acc: 0.993 - ETA: 2s - loss: 0.3032 - acc: 0.993 - ETA: 2s - loss: 0.3033 - acc: 0.993 - ETA: 2s - loss: 0.3031 - acc: 0.993 - ETA: 2s - loss: 0.3029 - acc: 0.993 - ETA: 2s - loss: 0.3030 - acc: 0.993 - ETA: 2s - loss: 0.3028 - acc: 0.993 - ETA: 2s - loss: 0.3032 - acc: 0.993 - ETA: 2s - loss: 0.3030 - acc: 0.993 - ETA: 2s - loss: 0.3029 - acc: 0.993 - ETA: 2s - loss: 0.3032 - acc: 0.993 - ETA: 2s - loss: 0.3043 - acc: 0.993 - ETA: 2s - loss: 0.3041 - acc: 0.993 - ETA: 1s - loss: 0.3041 - acc: 0.993 - ETA: 1s - loss: 0.3043 - acc: 0.993 - ETA: 1s - loss: 0.3043 - acc: 0.993 - ETA: 1s - loss: 0.3041 - acc: 0.993 - ETA: 1s - loss: 0.3037 - acc: 0.993 - ETA: 1s - loss: 0.3037 - acc: 0.993 - ETA: 1s - loss: 0.3039 - acc: 0.993 - ETA: 1s - loss: 0.3044 - acc: 0.993 - ETA: 1s - loss: 0.3050 - acc: 0.993 - ETA: 1s - loss: 0.3049 - acc: 0.993 - ETA: 1s - loss: 0.3045 - acc: 0.993 - ETA: 1s - loss: 0.3043 - acc: 0.993 - ETA: 1s - loss: 0.3040 - acc: 0.993 - ETA: 1s - loss: 0.3039 - acc: 0.993 - ETA: 1s - loss: 0.3037 - acc: 0.993 - ETA: 1s - loss: 0.3038 - acc: 0.993 - ETA: 1s - loss: 0.3039 - acc: 0.993 - ETA: 1s - loss: 0.3042 - acc: 0.993 - ETA: 1s - loss: 0.3041 - acc: 0.993 - ETA: 1s - loss: 0.3041 - acc: 0.993 - ETA: 0s - loss: 0.3044 - acc: 0.993 - ETA: 0s - loss: 0.3042 - acc: 0.993 - ETA: 0s - loss: 0.3042 - acc: 0.993 - ETA: 0s - loss: 0.3043 - acc: 0.993 - ETA: 0s - loss: 0.3044 - acc: 0.993 - ETA: 0s - loss: 0.3036 - acc: 0.993 - ETA: 0s - loss: 0.3036 - acc: 0.993 - ETA: 0s - loss: 0.3030 - acc: 0.993 - ETA: 0s - loss: 0.3030 - acc: 0.993 - ETA: 0s - loss: 0.3031 - acc: 0.993 - ETA: 0s - loss: 0.3036 - acc: 0.993 - ETA: 0s - loss: 0.3032 - acc: 0.993 - ETA: 0s - loss: 0.3033 - acc: 0.993 - ETA: 0s - loss: 0.3034 - acc: 0.993 - ETA: 0s - loss: 0.3036 - acc: 0.993 - ETA: 0s - loss: 0.3035 - acc: 0.993 - ETA: 0s - loss: 0.3037 - acc: 0.993 - ETA: 0s - loss: 0.3038 - acc: 0.993 - ETA: 0s - loss: 0.3039 - acc: 0.993 - ETA: 0s - loss: 0.3041 - acc: 0.993 - 11s 97us/step - loss: 0.3047 - acc: 0.9937\n",
      "Epoch 10/10\n"
     ]
    },
    {
     "name": "stdout",
     "output_type": "stream",
     "text": [
      "111699/111699 [==============================] - ETA: 27s - loss: 0.2958 - acc: 1.00 - ETA: 12s - loss: 0.2798 - acc: 0.99 - ETA: 11s - loss: 0.3155 - acc: 0.99 - ETA: 11s - loss: 0.3002 - acc: 0.99 - ETA: 11s - loss: 0.3101 - acc: 0.99 - ETA: 11s - loss: 0.3090 - acc: 0.99 - ETA: 10s - loss: 0.3054 - acc: 0.99 - ETA: 10s - loss: 0.3017 - acc: 0.99 - ETA: 10s - loss: 0.3027 - acc: 0.99 - ETA: 10s - loss: 0.3095 - acc: 0.99 - ETA: 10s - loss: 0.3106 - acc: 0.99 - ETA: 10s - loss: 0.3102 - acc: 0.99 - ETA: 10s - loss: 0.3072 - acc: 0.99 - ETA: 10s - loss: 0.3036 - acc: 0.99 - ETA: 10s - loss: 0.3036 - acc: 0.99 - ETA: 10s - loss: 0.3063 - acc: 0.99 - ETA: 10s - loss: 0.3120 - acc: 0.99 - ETA: 10s - loss: 0.3077 - acc: 0.99 - ETA: 10s - loss: 0.3070 - acc: 0.99 - ETA: 10s - loss: 0.3084 - acc: 0.99 - ETA: 9s - loss: 0.3079 - acc: 0.9945 - ETA: 9s - loss: 0.3057 - acc: 0.994 - ETA: 9s - loss: 0.3072 - acc: 0.994 - ETA: 9s - loss: 0.3102 - acc: 0.994 - ETA: 9s - loss: 0.3059 - acc: 0.994 - ETA: 9s - loss: 0.3044 - acc: 0.994 - ETA: 9s - loss: 0.3047 - acc: 0.994 - ETA: 9s - loss: 0.3040 - acc: 0.994 - ETA: 9s - loss: 0.3052 - acc: 0.994 - ETA: 9s - loss: 0.3043 - acc: 0.994 - ETA: 9s - loss: 0.3005 - acc: 0.994 - ETA: 9s - loss: 0.3027 - acc: 0.994 - ETA: 9s - loss: 0.3030 - acc: 0.994 - ETA: 9s - loss: 0.3023 - acc: 0.994 - ETA: 9s - loss: 0.3008 - acc: 0.994 - ETA: 9s - loss: 0.2989 - acc: 0.994 - ETA: 9s - loss: 0.3009 - acc: 0.994 - ETA: 9s - loss: 0.3024 - acc: 0.994 - ETA: 9s - loss: 0.3047 - acc: 0.994 - ETA: 8s - loss: 0.3051 - acc: 0.994 - ETA: 8s - loss: 0.3050 - acc: 0.994 - ETA: 8s - loss: 0.3064 - acc: 0.994 - ETA: 8s - loss: 0.3055 - acc: 0.994 - ETA: 8s - loss: 0.3066 - acc: 0.994 - ETA: 8s - loss: 0.3044 - acc: 0.994 - ETA: 8s - loss: 0.3053 - acc: 0.994 - ETA: 8s - loss: 0.3064 - acc: 0.994 - ETA: 8s - loss: 0.3057 - acc: 0.994 - ETA: 8s - loss: 0.3079 - acc: 0.994 - ETA: 8s - loss: 0.3076 - acc: 0.994 - ETA: 8s - loss: 0.3056 - acc: 0.994 - ETA: 8s - loss: 0.3047 - acc: 0.994 - ETA: 8s - loss: 0.3057 - acc: 0.994 - ETA: 8s - loss: 0.3066 - acc: 0.994 - ETA: 8s - loss: 0.3096 - acc: 0.994 - ETA: 8s - loss: 0.3098 - acc: 0.994 - ETA: 8s - loss: 0.3109 - acc: 0.994 - ETA: 7s - loss: 0.3101 - acc: 0.994 - ETA: 7s - loss: 0.3094 - acc: 0.994 - ETA: 7s - loss: 0.3091 - acc: 0.994 - ETA: 7s - loss: 0.3072 - acc: 0.994 - ETA: 7s - loss: 0.3078 - acc: 0.994 - ETA: 7s - loss: 0.3061 - acc: 0.994 - ETA: 7s - loss: 0.3046 - acc: 0.994 - ETA: 7s - loss: 0.3051 - acc: 0.994 - ETA: 7s - loss: 0.3043 - acc: 0.994 - ETA: 7s - loss: 0.3038 - acc: 0.994 - ETA: 7s - loss: 0.3050 - acc: 0.994 - ETA: 7s - loss: 0.3041 - acc: 0.994 - ETA: 7s - loss: 0.3041 - acc: 0.994 - ETA: 7s - loss: 0.3038 - acc: 0.994 - ETA: 7s - loss: 0.3049 - acc: 0.994 - ETA: 7s - loss: 0.3044 - acc: 0.994 - ETA: 7s - loss: 0.3040 - acc: 0.994 - ETA: 7s - loss: 0.3031 - acc: 0.994 - ETA: 6s - loss: 0.3039 - acc: 0.994 - ETA: 6s - loss: 0.3050 - acc: 0.994 - ETA: 6s - loss: 0.3054 - acc: 0.994 - ETA: 6s - loss: 0.3066 - acc: 0.994 - ETA: 6s - loss: 0.3059 - acc: 0.994 - ETA: 6s - loss: 0.3060 - acc: 0.994 - ETA: 6s - loss: 0.3068 - acc: 0.994 - ETA: 6s - loss: 0.3062 - acc: 0.994 - ETA: 6s - loss: 0.3065 - acc: 0.994 - ETA: 6s - loss: 0.3074 - acc: 0.994 - ETA: 6s - loss: 0.3072 - acc: 0.994 - ETA: 6s - loss: 0.3063 - acc: 0.994 - ETA: 6s - loss: 0.3067 - acc: 0.994 - ETA: 6s - loss: 0.3057 - acc: 0.994 - ETA: 6s - loss: 0.3072 - acc: 0.994 - ETA: 6s - loss: 0.3071 - acc: 0.994 - ETA: 6s - loss: 0.3069 - acc: 0.994 - ETA: 6s - loss: 0.3064 - acc: 0.994 - ETA: 6s - loss: 0.3081 - acc: 0.994 - ETA: 6s - loss: 0.3079 - acc: 0.994 - ETA: 6s - loss: 0.3086 - acc: 0.994 - ETA: 5s - loss: 0.3080 - acc: 0.994 - ETA: 5s - loss: 0.3070 - acc: 0.994 - ETA: 5s - loss: 0.3071 - acc: 0.994 - ETA: 5s - loss: 0.3071 - acc: 0.994 - ETA: 5s - loss: 0.3067 - acc: 0.994 - ETA: 5s - loss: 0.3064 - acc: 0.994 - ETA: 5s - loss: 0.3063 - acc: 0.994 - ETA: 5s - loss: 0.3061 - acc: 0.994 - ETA: 5s - loss: 0.3061 - acc: 0.994 - ETA: 5s - loss: 0.3065 - acc: 0.994 - ETA: 5s - loss: 0.3061 - acc: 0.994 - ETA: 5s - loss: 0.3068 - acc: 0.994 - ETA: 5s - loss: 0.3060 - acc: 0.994 - ETA: 5s - loss: 0.3060 - acc: 0.994 - ETA: 5s - loss: 0.3059 - acc: 0.994 - ETA: 5s - loss: 0.3060 - acc: 0.994 - ETA: 5s - loss: 0.3060 - acc: 0.994 - ETA: 5s - loss: 0.3059 - acc: 0.994 - ETA: 5s - loss: 0.3049 - acc: 0.994 - ETA: 5s - loss: 0.3046 - acc: 0.994 - ETA: 4s - loss: 0.3050 - acc: 0.994 - ETA: 4s - loss: 0.3051 - acc: 0.994 - ETA: 4s - loss: 0.3048 - acc: 0.994 - ETA: 4s - loss: 0.3057 - acc: 0.994 - ETA: 4s - loss: 0.3052 - acc: 0.994 - ETA: 4s - loss: 0.3043 - acc: 0.994 - ETA: 4s - loss: 0.3037 - acc: 0.994 - ETA: 4s - loss: 0.3034 - acc: 0.994 - ETA: 4s - loss: 0.3029 - acc: 0.994 - ETA: 4s - loss: 0.3028 - acc: 0.994 - ETA: 4s - loss: 0.3033 - acc: 0.994 - ETA: 4s - loss: 0.3035 - acc: 0.994 - ETA: 4s - loss: 0.3027 - acc: 0.994 - ETA: 4s - loss: 0.3033 - acc: 0.994 - ETA: 4s - loss: 0.3039 - acc: 0.993 - ETA: 4s - loss: 0.3045 - acc: 0.993 - ETA: 4s - loss: 0.3049 - acc: 0.993 - ETA: 4s - loss: 0.3046 - acc: 0.993 - ETA: 4s - loss: 0.3048 - acc: 0.993 - ETA: 4s - loss: 0.3046 - acc: 0.993 - ETA: 3s - loss: 0.3048 - acc: 0.993 - ETA: 3s - loss: 0.3048 - acc: 0.993 - ETA: 3s - loss: 0.3049 - acc: 0.994 - ETA: 3s - loss: 0.3048 - acc: 0.994 - ETA: 3s - loss: 0.3055 - acc: 0.993 - ETA: 3s - loss: 0.3056 - acc: 0.994 - ETA: 3s - loss: 0.3056 - acc: 0.993 - ETA: 3s - loss: 0.3066 - acc: 0.993 - ETA: 3s - loss: 0.3060 - acc: 0.993 - ETA: 3s - loss: 0.3063 - acc: 0.993 - ETA: 3s - loss: 0.3061 - acc: 0.993 - ETA: 3s - loss: 0.3066 - acc: 0.993 - ETA: 3s - loss: 0.3067 - acc: 0.993 - ETA: 3s - loss: 0.3069 - acc: 0.993 - ETA: 3s - loss: 0.3069 - acc: 0.993 - ETA: 3s - loss: 0.3064 - acc: 0.993 - ETA: 3s - loss: 0.3071 - acc: 0.993 - ETA: 3s - loss: 0.3071 - acc: 0.993 - ETA: 2s - loss: 0.3071 - acc: 0.993 - ETA: 2s - loss: 0.3074 - acc: 0.993 - ETA: 2s - loss: 0.3073 - acc: 0.993 - ETA: 2s - loss: 0.3076 - acc: 0.993 - ETA: 2s - loss: 0.3078 - acc: 0.993 - ETA: 2s - loss: 0.3078 - acc: 0.993 - ETA: 2s - loss: 0.3076 - acc: 0.993 - ETA: 2s - loss: 0.3073 - acc: 0.993 - ETA: 2s - loss: 0.3072 - acc: 0.993 - ETA: 2s - loss: 0.3066 - acc: 0.993 - ETA: 2s - loss: 0.3065 - acc: 0.993 - ETA: 2s - loss: 0.3062 - acc: 0.993 - ETA: 2s - loss: 0.3061 - acc: 0.993 - ETA: 2s - loss: 0.3066 - acc: 0.993 - ETA: 2s - loss: 0.3061 - acc: 0.993 - ETA: 2s - loss: 0.3063 - acc: 0.993 - ETA: 2s - loss: 0.3059 - acc: 0.993 - ETA: 2s - loss: 0.3059 - acc: 0.993 - ETA: 2s - loss: 0.3059 - acc: 0.993 - ETA: 1s - loss: 0.3061 - acc: 0.993 - ETA: 1s - loss: 0.3058 - acc: 0.993 - ETA: 1s - loss: 0.3057 - acc: 0.993 - ETA: 1s - loss: 0.3058 - acc: 0.993 - ETA: 1s - loss: 0.3057 - acc: 0.993 - ETA: 1s - loss: 0.3059 - acc: 0.993 - ETA: 1s - loss: 0.3059 - acc: 0.993 - ETA: 1s - loss: 0.3061 - acc: 0.993 - ETA: 1s - loss: 0.3059 - acc: 0.993 - ETA: 1s - loss: 0.3056 - acc: 0.993 - ETA: 1s - loss: 0.3064 - acc: 0.993 - ETA: 1s - loss: 0.3062 - acc: 0.993 - ETA: 1s - loss: 0.3060 - acc: 0.993 - ETA: 1s - loss: 0.3055 - acc: 0.993 - ETA: 1s - loss: 0.3058 - acc: 0.993 - ETA: 1s - loss: 0.3054 - acc: 0.993 - ETA: 1s - loss: 0.3053 - acc: 0.993 - ETA: 1s - loss: 0.3057 - acc: 0.993 - ETA: 1s - loss: 0.3055 - acc: 0.993 - ETA: 0s - loss: 0.3054 - acc: 0.993 - ETA: 0s - loss: 0.3051 - acc: 0.993 - ETA: 0s - loss: 0.3053 - acc: 0.993 - ETA: 0s - loss: 0.3052 - acc: 0.993 - ETA: 0s - loss: 0.3049 - acc: 0.993 - ETA: 0s - loss: 0.3048 - acc: 0.993 - ETA: 0s - loss: 0.3046 - acc: 0.993 - ETA: 0s - loss: 0.3045 - acc: 0.993 - ETA: 0s - loss: 0.3046 - acc: 0.993 - ETA: 0s - loss: 0.3050 - acc: 0.993 - ETA: 0s - loss: 0.3047 - acc: 0.993 - ETA: 0s - loss: 0.3049 - acc: 0.993 - ETA: 0s - loss: 0.3048 - acc: 0.993 - ETA: 0s - loss: 0.3045 - acc: 0.993 - ETA: 0s - loss: 0.3045 - acc: 0.993 - ETA: 0s - loss: 0.3046 - acc: 0.993 - ETA: 0s - loss: 0.3046 - acc: 0.993 - ETA: 0s - loss: 0.3044 - acc: 0.993 - ETA: 0s - loss: 0.3045 - acc: 0.993 - 11s 98us/step - loss: 0.3041 - acc: 0.9936\n"
     ]
    },
    {
     "data": {
      "text/plain": [
       "<keras.callbacks.History at 0x1d9ebc6f6d8>"
      ]
     },
     "execution_count": 198,
     "metadata": {},
     "output_type": "execute_result"
    }
   ],
   "source": [
    "model.fit(padded_X_train, y_train, epochs=10, batch_size=32)"
   ]
  },
  {
   "cell_type": "code",
   "execution_count": 199,
   "metadata": {},
   "outputs": [],
   "source": [
    "model.save('./model_weights/model_denseNN.h5')"
   ]
  },
  {
   "cell_type": "code",
   "execution_count": 200,
   "metadata": {},
   "outputs": [],
   "source": [
    "max_features = 20000\n",
    "tokenizer = Tokenizer(num_words=max_features)\n",
    "tokenizer.fit_on_texts(list(X_test))\n",
    "tokenized_X_test = tokenizer.texts_to_sequences(X_test)\n",
    "padded_X_test = pad_sequences(tokenized_X_test, maxlen=100)\n",
    "score = model.evaluate(padded_X_test, y_test, batch_size=batch_size, verbose = False)"
   ]
  },
  {
   "cell_type": "code",
   "execution_count": 201,
   "metadata": {},
   "outputs": [
    {
     "name": "stdout",
     "output_type": "stream",
     "text": [
      " [LOSS,                          ACCURACY]\n",
      " [0.30200029146623486, 0.9935452892260755]\n"
     ]
    }
   ],
   "source": [
    "print(\" [LOSS,                          ACCURACY]\\n\",score)"
   ]
  },
  {
   "cell_type": "markdown",
   "metadata": {},
   "source": [
    "### MODEL 2\n",
    "LSTM Model"
   ]
  },
  {
   "cell_type": "code",
   "execution_count": 166,
   "metadata": {},
   "outputs": [
    {
     "name": "stdout",
     "output_type": "stream",
     "text": [
      "_________________________________________________________________\n",
      "Layer (type)                 Output Shape              Param #   \n",
      "=================================================================\n",
      "input_7 (InputLayer)         (None, 100)               0         \n",
      "_________________________________________________________________\n",
      "embedding_7 (Embedding)      (None, 100, 128)          2560000   \n",
      "_________________________________________________________________\n",
      "lstm_layer1 (LSTM)           (None, 100, 100)          91600     \n",
      "_________________________________________________________________\n",
      "lstm_layer2 (LSTM)           (None, 100, 80)           57920     \n",
      "_________________________________________________________________\n",
      "global_max_pooling1d_6 (Glob (None, 80)                0         \n",
      "_________________________________________________________________\n",
      "dropout_8 (Dropout)          (None, 80)                0         \n",
      "_________________________________________________________________\n",
      "dense_7 (Dense)              (None, 80)                6480      \n",
      "_________________________________________________________________\n",
      "dropout_9 (Dropout)          (None, 80)                0         \n",
      "_________________________________________________________________\n",
      "dense_8 (Dense)              (None, 6)                 486       \n",
      "=================================================================\n",
      "Total params: 2,716,486\n",
      "Trainable params: 2,716,486\n",
      "Non-trainable params: 0\n",
      "_________________________________________________________________\n"
     ]
    }
   ],
   "source": [
    "inp = Input(shape=(100, )) \n",
    "embed_size = 128\n",
    "x = Embedding(max_features, embed_size)(inp)\n",
    "x = LSTM(100, return_sequences=True,name='lstm_layer1')(x)\n",
    "x = LSTM(80, return_sequences=True,name='lstm_layer2')(x)\n",
    "x = GlobalMaxPool1D()(x)\n",
    "x = Dropout(0.1)(x)\n",
    "x = Dense(80, activation=\"relu\")(x)\n",
    "x = Dropout(0.1)(x)\n",
    "x = Dense(6, activation=\"sigmoid\")(x)\n",
    "model = Model(inputs=inp, outputs=x)\n",
    "\n",
    "model.summary()"
   ]
  },
  {
   "cell_type": "code",
   "execution_count": 167,
   "metadata": {},
   "outputs": [],
   "source": [
    "model.compile(loss='binary_crossentropy',optimizer='adam',metrics=['accuracy'])"
   ]
  },
  {
   "cell_type": "code",
   "execution_count": 168,
   "metadata": {
    "scrolled": true
   },
   "outputs": [
    {
     "name": "stdout",
     "output_type": "stream",
     "text": [
      "Train on 100529 samples, validate on 11170 samples\n",
      "Epoch 1/10\n",
      "100529/100529 [==============================] - ETA: 1:55 - loss: 0.6944 - acc: 0.499 - ETA: 1:08 - loss: 0.6921 - acc: 0.590 - ETA: 52s - loss: 0.6899 - acc: 0.666 - ETA: 44s - loss: 0.6874 - acc: 0.72 - ETA: 39s - loss: 0.6843 - acc: 0.76 - ETA: 35s - loss: 0.6807 - acc: 0.79 - ETA: 33s - loss: 0.6761 - acc: 0.81 - ETA: 30s - loss: 0.6704 - acc: 0.83 - ETA: 29s - loss: 0.6628 - acc: 0.84 - ETA: 27s - loss: 0.6528 - acc: 0.85 - ETA: 26s - loss: 0.6405 - acc: 0.86 - ETA: 25s - loss: 0.6250 - acc: 0.87 - ETA: 24s - loss: 0.6070 - acc: 0.87 - ETA: 23s - loss: 0.5873 - acc: 0.88 - ETA: 22s - loss: 0.5676 - acc: 0.89 - ETA: 21s - loss: 0.5485 - acc: 0.89 - ETA: 20s - loss: 0.5292 - acc: 0.89 - ETA: 19s - loss: 0.5119 - acc: 0.90 - ETA: 18s - loss: 0.4953 - acc: 0.90 - ETA: 18s - loss: 0.4802 - acc: 0.90 - ETA: 17s - loss: 0.4655 - acc: 0.91 - ETA: 16s - loss: 0.4523 - acc: 0.91 - ETA: 15s - loss: 0.4401 - acc: 0.91 - ETA: 15s - loss: 0.4286 - acc: 0.91 - ETA: 14s - loss: 0.4180 - acc: 0.91 - ETA: 13s - loss: 0.4080 - acc: 0.92 - ETA: 13s - loss: 0.3986 - acc: 0.92 - ETA: 12s - loss: 0.3898 - acc: 0.92 - ETA: 12s - loss: 0.3822 - acc: 0.92 - ETA: 11s - loss: 0.3746 - acc: 0.92 - ETA: 10s - loss: 0.3674 - acc: 0.92 - ETA: 10s - loss: 0.3609 - acc: 0.92 - ETA: 9s - loss: 0.3543 - acc: 0.9297 - ETA: 9s - loss: 0.3479 - acc: 0.930 - ETA: 8s - loss: 0.3421 - acc: 0.931 - ETA: 7s - loss: 0.3364 - acc: 0.932 - ETA: 7s - loss: 0.3319 - acc: 0.933 - ETA: 6s - loss: 0.3268 - acc: 0.934 - ETA: 6s - loss: 0.3223 - acc: 0.934 - ETA: 5s - loss: 0.3181 - acc: 0.935 - ETA: 5s - loss: 0.3137 - acc: 0.936 - ETA: 4s - loss: 0.3099 - acc: 0.936 - ETA: 3s - loss: 0.3060 - acc: 0.937 - ETA: 3s - loss: 0.3020 - acc: 0.938 - ETA: 2s - loss: 0.2985 - acc: 0.938 - ETA: 2s - loss: 0.2952 - acc: 0.939 - ETA: 1s - loss: 0.2921 - acc: 0.939 - ETA: 1s - loss: 0.2892 - acc: 0.940 - ETA: 0s - loss: 0.2865 - acc: 0.940 - ETA: 0s - loss: 0.2836 - acc: 0.941 - 29s 288us/step - loss: 0.2828 - acc: 0.9414 - val_loss: 0.1390 - val_acc: 0.9640\n",
      "Epoch 2/10\n",
      "100529/100529 [==============================] - ETA: 25s - loss: 0.1623 - acc: 0.95 - ETA: 24s - loss: 0.1559 - acc: 0.96 - ETA: 24s - loss: 0.1521 - acc: 0.96 - ETA: 23s - loss: 0.1495 - acc: 0.96 - ETA: 23s - loss: 0.1493 - acc: 0.96 - ETA: 22s - loss: 0.1490 - acc: 0.96 - ETA: 22s - loss: 0.1475 - acc: 0.96 - ETA: 21s - loss: 0.1461 - acc: 0.96 - ETA: 21s - loss: 0.1457 - acc: 0.96 - ETA: 20s - loss: 0.1468 - acc: 0.96 - ETA: 20s - loss: 0.1469 - acc: 0.96 - ETA: 19s - loss: 0.1489 - acc: 0.96 - ETA: 19s - loss: 0.1497 - acc: 0.96 - ETA: 18s - loss: 0.1496 - acc: 0.96 - ETA: 18s - loss: 0.1497 - acc: 0.96 - ETA: 17s - loss: 0.1498 - acc: 0.96 - ETA: 17s - loss: 0.1489 - acc: 0.96 - ETA: 16s - loss: 0.1486 - acc: 0.96 - ETA: 16s - loss: 0.1480 - acc: 0.96 - ETA: 15s - loss: 0.1483 - acc: 0.96 - ETA: 15s - loss: 0.1476 - acc: 0.96 - ETA: 14s - loss: 0.1474 - acc: 0.96 - ETA: 13s - loss: 0.1475 - acc: 0.96 - ETA: 13s - loss: 0.1475 - acc: 0.96 - ETA: 12s - loss: 0.1475 - acc: 0.96 - ETA: 12s - loss: 0.1473 - acc: 0.96 - ETA: 11s - loss: 0.1472 - acc: 0.96 - ETA: 11s - loss: 0.1474 - acc: 0.96 - ETA: 10s - loss: 0.1470 - acc: 0.96 - ETA: 10s - loss: 0.1467 - acc: 0.96 - ETA: 9s - loss: 0.1464 - acc: 0.9635 - ETA: 9s - loss: 0.1464 - acc: 0.963 - ETA: 8s - loss: 0.1464 - acc: 0.963 - ETA: 8s - loss: 0.1462 - acc: 0.963 - ETA: 7s - loss: 0.1464 - acc: 0.963 - ETA: 7s - loss: 0.1464 - acc: 0.963 - ETA: 6s - loss: 0.1461 - acc: 0.963 - ETA: 6s - loss: 0.1460 - acc: 0.963 - ETA: 5s - loss: 0.1462 - acc: 0.963 - ETA: 5s - loss: 0.1464 - acc: 0.963 - ETA: 4s - loss: 0.1465 - acc: 0.963 - ETA: 4s - loss: 0.1464 - acc: 0.963 - ETA: 3s - loss: 0.1464 - acc: 0.963 - ETA: 3s - loss: 0.1463 - acc: 0.963 - ETA: 2s - loss: 0.1465 - acc: 0.963 - ETA: 2s - loss: 0.1468 - acc: 0.963 - ETA: 1s - loss: 0.1469 - acc: 0.963 - ETA: 1s - loss: 0.1468 - acc: 0.963 - ETA: 0s - loss: 0.1468 - acc: 0.963 - ETA: 0s - loss: 0.1471 - acc: 0.963 - 27s 271us/step - loss: 0.1471 - acc: 0.9632 - val_loss: 0.1384 - val_acc: 0.9640\n",
      "Epoch 3/10\n",
      "100529/100529 [==============================] - ETA: 24s - loss: 0.1521 - acc: 0.96 - ETA: 24s - loss: 0.1466 - acc: 0.96 - ETA: 23s - loss: 0.1454 - acc: 0.96 - ETA: 23s - loss: 0.1433 - acc: 0.96 - ETA: 22s - loss: 0.1453 - acc: 0.96 - ETA: 22s - loss: 0.1429 - acc: 0.96 - ETA: 21s - loss: 0.1424 - acc: 0.96 - ETA: 21s - loss: 0.1435 - acc: 0.96 - ETA: 20s - loss: 0.1437 - acc: 0.96 - ETA: 20s - loss: 0.1434 - acc: 0.96 - ETA: 19s - loss: 0.1438 - acc: 0.96 - ETA: 19s - loss: 0.1435 - acc: 0.96 - ETA: 18s - loss: 0.1442 - acc: 0.96 - ETA: 18s - loss: 0.1457 - acc: 0.96 - ETA: 18s - loss: 0.1461 - acc: 0.96 - ETA: 17s - loss: 0.1463 - acc: 0.96 - ETA: 17s - loss: 0.1460 - acc: 0.96 - ETA: 16s - loss: 0.1456 - acc: 0.96 - ETA: 16s - loss: 0.1463 - acc: 0.96 - ETA: 15s - loss: 0.1464 - acc: 0.96 - ETA: 14s - loss: 0.1462 - acc: 0.96 - ETA: 14s - loss: 0.1462 - acc: 0.96 - ETA: 13s - loss: 0.1464 - acc: 0.96 - ETA: 13s - loss: 0.1468 - acc: 0.96 - ETA: 12s - loss: 0.1470 - acc: 0.96 - ETA: 12s - loss: 0.1469 - acc: 0.96 - ETA: 11s - loss: 0.1468 - acc: 0.96 - ETA: 11s - loss: 0.1469 - acc: 0.96 - ETA: 10s - loss: 0.1467 - acc: 0.96 - ETA: 10s - loss: 0.1460 - acc: 0.96 - ETA: 9s - loss: 0.1461 - acc: 0.9632 - ETA: 9s - loss: 0.1456 - acc: 0.963 - ETA: 8s - loss: 0.1454 - acc: 0.963 - ETA: 8s - loss: 0.1455 - acc: 0.963 - ETA: 7s - loss: 0.1453 - acc: 0.963 - ETA: 7s - loss: 0.1450 - acc: 0.963 - ETA: 6s - loss: 0.1452 - acc: 0.963 - ETA: 6s - loss: 0.1453 - acc: 0.963 - ETA: 5s - loss: 0.1454 - acc: 0.963 - ETA: 5s - loss: 0.1455 - acc: 0.963 - ETA: 4s - loss: 0.1454 - acc: 0.963 - ETA: 4s - loss: 0.1452 - acc: 0.963 - ETA: 3s - loss: 0.1454 - acc: 0.963 - ETA: 3s - loss: 0.1455 - acc: 0.963 - ETA: 2s - loss: 0.1456 - acc: 0.963 - ETA: 2s - loss: 0.1457 - acc: 0.963 - ETA: 1s - loss: 0.1457 - acc: 0.963 - ETA: 1s - loss: 0.1458 - acc: 0.963 - ETA: 0s - loss: 0.1460 - acc: 0.963 - ETA: 0s - loss: 0.1460 - acc: 0.963 - 28s 274us/step - loss: 0.1460 - acc: 0.9632 - val_loss: 0.1383 - val_acc: 0.9640\n",
      "Epoch 4/10\n",
      "100529/100529 [==============================] - ETA: 24s - loss: 0.1504 - acc: 0.96 - ETA: 24s - loss: 0.1463 - acc: 0.96 - ETA: 24s - loss: 0.1491 - acc: 0.96 - ETA: 23s - loss: 0.1520 - acc: 0.96 - ETA: 23s - loss: 0.1492 - acc: 0.96 - ETA: 22s - loss: 0.1490 - acc: 0.96 - ETA: 22s - loss: 0.1494 - acc: 0.96 - ETA: 21s - loss: 0.1498 - acc: 0.96 - ETA: 21s - loss: 0.1491 - acc: 0.96 - ETA: 20s - loss: 0.1475 - acc: 0.96 - ETA: 20s - loss: 0.1468 - acc: 0.96 - ETA: 19s - loss: 0.1471 - acc: 0.96 - ETA: 19s - loss: 0.1472 - acc: 0.96 - ETA: 18s - loss: 0.1478 - acc: 0.96 - ETA: 18s - loss: 0.1472 - acc: 0.96 - ETA: 17s - loss: 0.1464 - acc: 0.96 - ETA: 17s - loss: 0.1465 - acc: 0.96 - ETA: 16s - loss: 0.1464 - acc: 0.96 - ETA: 16s - loss: 0.1464 - acc: 0.96 - ETA: 15s - loss: 0.1463 - acc: 0.96 - ETA: 15s - loss: 0.1461 - acc: 0.96 - ETA: 14s - loss: 0.1463 - acc: 0.96 - ETA: 13s - loss: 0.1460 - acc: 0.96 - ETA: 13s - loss: 0.1468 - acc: 0.96 - ETA: 12s - loss: 0.1463 - acc: 0.96 - ETA: 12s - loss: 0.1464 - acc: 0.96 - ETA: 11s - loss: 0.1462 - acc: 0.96 - ETA: 11s - loss: 0.1462 - acc: 0.96 - ETA: 10s - loss: 0.1460 - acc: 0.96 - ETA: 10s - loss: 0.1460 - acc: 0.96 - ETA: 9s - loss: 0.1462 - acc: 0.9629 - ETA: 9s - loss: 0.1460 - acc: 0.962 - ETA: 8s - loss: 0.1459 - acc: 0.963 - ETA: 8s - loss: 0.1457 - acc: 0.963 - ETA: 7s - loss: 0.1460 - acc: 0.963 - ETA: 7s - loss: 0.1459 - acc: 0.963 - ETA: 6s - loss: 0.1454 - acc: 0.963 - ETA: 6s - loss: 0.1454 - acc: 0.963 - ETA: 5s - loss: 0.1453 - acc: 0.963 - ETA: 5s - loss: 0.1454 - acc: 0.963 - ETA: 4s - loss: 0.1454 - acc: 0.963 - ETA: 4s - loss: 0.1454 - acc: 0.963 - ETA: 3s - loss: 0.1450 - acc: 0.963 - ETA: 3s - loss: 0.1447 - acc: 0.963 - ETA: 2s - loss: 0.1447 - acc: 0.963 - ETA: 2s - loss: 0.1449 - acc: 0.963 - ETA: 1s - loss: 0.1453 - acc: 0.963 - ETA: 1s - loss: 0.1452 - acc: 0.963 - ETA: 0s - loss: 0.1454 - acc: 0.963 - ETA: 0s - loss: 0.1453 - acc: 0.963 - 28s 274us/step - loss: 0.1453 - acc: 0.9632 - val_loss: 0.1381 - val_acc: 0.9640\n"
     ]
    },
    {
     "name": "stdout",
     "output_type": "stream",
     "text": [
      "Epoch 5/10\n",
      "100529/100529 [==============================] - ETA: 24s - loss: 0.1435 - acc: 0.96 - ETA: 24s - loss: 0.1483 - acc: 0.96 - ETA: 24s - loss: 0.1434 - acc: 0.96 - ETA: 23s - loss: 0.1437 - acc: 0.96 - ETA: 23s - loss: 0.1425 - acc: 0.96 - ETA: 22s - loss: 0.1425 - acc: 0.96 - ETA: 22s - loss: 0.1402 - acc: 0.96 - ETA: 21s - loss: 0.1400 - acc: 0.96 - ETA: 21s - loss: 0.1409 - acc: 0.96 - ETA: 20s - loss: 0.1428 - acc: 0.96 - ETA: 20s - loss: 0.1418 - acc: 0.96 - ETA: 19s - loss: 0.1423 - acc: 0.96 - ETA: 19s - loss: 0.1423 - acc: 0.96 - ETA: 18s - loss: 0.1426 - acc: 0.96 - ETA: 18s - loss: 0.1434 - acc: 0.96 - ETA: 17s - loss: 0.1429 - acc: 0.96 - ETA: 17s - loss: 0.1435 - acc: 0.96 - ETA: 16s - loss: 0.1434 - acc: 0.96 - ETA: 16s - loss: 0.1443 - acc: 0.96 - ETA: 15s - loss: 0.1444 - acc: 0.96 - ETA: 15s - loss: 0.1439 - acc: 0.96 - ETA: 14s - loss: 0.1441 - acc: 0.96 - ETA: 14s - loss: 0.1444 - acc: 0.96 - ETA: 13s - loss: 0.1442 - acc: 0.96 - ETA: 13s - loss: 0.1432 - acc: 0.96 - ETA: 12s - loss: 0.1434 - acc: 0.96 - ETA: 12s - loss: 0.1438 - acc: 0.96 - ETA: 11s - loss: 0.1438 - acc: 0.96 - ETA: 10s - loss: 0.1436 - acc: 0.96 - ETA: 10s - loss: 0.1434 - acc: 0.96 - ETA: 9s - loss: 0.1438 - acc: 0.9635 - ETA: 9s - loss: 0.1438 - acc: 0.963 - ETA: 8s - loss: 0.1438 - acc: 0.963 - ETA: 8s - loss: 0.1441 - acc: 0.963 - ETA: 7s - loss: 0.1440 - acc: 0.963 - ETA: 7s - loss: 0.1443 - acc: 0.963 - ETA: 6s - loss: 0.1446 - acc: 0.963 - ETA: 6s - loss: 0.1444 - acc: 0.963 - ETA: 5s - loss: 0.1446 - acc: 0.963 - ETA: 5s - loss: 0.1446 - acc: 0.963 - ETA: 4s - loss: 0.1446 - acc: 0.963 - ETA: 4s - loss: 0.1447 - acc: 0.963 - ETA: 3s - loss: 0.1444 - acc: 0.963 - ETA: 3s - loss: 0.1446 - acc: 0.963 - ETA: 2s - loss: 0.1446 - acc: 0.963 - ETA: 2s - loss: 0.1446 - acc: 0.963 - ETA: 1s - loss: 0.1446 - acc: 0.963 - ETA: 1s - loss: 0.1446 - acc: 0.963 - ETA: 0s - loss: 0.1445 - acc: 0.963 - ETA: 0s - loss: 0.1446 - acc: 0.963 - 27s 273us/step - loss: 0.1445 - acc: 0.9632 - val_loss: 0.1376 - val_acc: 0.9640\n",
      "Epoch 6/10\n",
      "100529/100529 [==============================] - ETA: 25s - loss: 0.1396 - acc: 0.96 - ETA: 24s - loss: 0.1333 - acc: 0.96 - ETA: 23s - loss: 0.1354 - acc: 0.96 - ETA: 23s - loss: 0.1365 - acc: 0.96 - ETA: 22s - loss: 0.1409 - acc: 0.96 - ETA: 22s - loss: 0.1394 - acc: 0.96 - ETA: 21s - loss: 0.1409 - acc: 0.96 - ETA: 21s - loss: 0.1404 - acc: 0.96 - ETA: 20s - loss: 0.1404 - acc: 0.96 - ETA: 20s - loss: 0.1401 - acc: 0.96 - ETA: 19s - loss: 0.1414 - acc: 0.96 - ETA: 19s - loss: 0.1425 - acc: 0.96 - ETA: 18s - loss: 0.1432 - acc: 0.96 - ETA: 18s - loss: 0.1428 - acc: 0.96 - ETA: 17s - loss: 0.1435 - acc: 0.96 - ETA: 17s - loss: 0.1439 - acc: 0.96 - ETA: 16s - loss: 0.1441 - acc: 0.96 - ETA: 16s - loss: 0.1447 - acc: 0.96 - ETA: 15s - loss: 0.1437 - acc: 0.96 - ETA: 15s - loss: 0.1438 - acc: 0.96 - ETA: 14s - loss: 0.1435 - acc: 0.96 - ETA: 14s - loss: 0.1435 - acc: 0.96 - ETA: 13s - loss: 0.1435 - acc: 0.96 - ETA: 13s - loss: 0.1431 - acc: 0.96 - ETA: 12s - loss: 0.1433 - acc: 0.96 - ETA: 12s - loss: 0.1430 - acc: 0.96 - ETA: 11s - loss: 0.1433 - acc: 0.96 - ETA: 11s - loss: 0.1434 - acc: 0.96 - ETA: 10s - loss: 0.1435 - acc: 0.96 - ETA: 10s - loss: 0.1434 - acc: 0.96 - ETA: 9s - loss: 0.1434 - acc: 0.9633 - ETA: 9s - loss: 0.1433 - acc: 0.963 - ETA: 8s - loss: 0.1427 - acc: 0.963 - ETA: 8s - loss: 0.1428 - acc: 0.963 - ETA: 7s - loss: 0.1427 - acc: 0.963 - ETA: 7s - loss: 0.1428 - acc: 0.963 - ETA: 6s - loss: 0.1424 - acc: 0.963 - ETA: 6s - loss: 0.1428 - acc: 0.963 - ETA: 5s - loss: 0.1429 - acc: 0.963 - ETA: 5s - loss: 0.1427 - acc: 0.963 - ETA: 4s - loss: 0.1430 - acc: 0.963 - ETA: 4s - loss: 0.1430 - acc: 0.963 - ETA: 3s - loss: 0.1427 - acc: 0.963 - ETA: 3s - loss: 0.1429 - acc: 0.963 - ETA: 2s - loss: 0.1431 - acc: 0.963 - ETA: 2s - loss: 0.1433 - acc: 0.963 - ETA: 1s - loss: 0.1434 - acc: 0.963 - ETA: 1s - loss: 0.1432 - acc: 0.963 - ETA: 0s - loss: 0.1432 - acc: 0.963 - ETA: 0s - loss: 0.1431 - acc: 0.963 - 27s 269us/step - loss: 0.1431 - acc: 0.9632 - val_loss: 0.1363 - val_acc: 0.9641\n",
      "Epoch 7/10\n",
      "100529/100529 [==============================] - ETA: 23s - loss: 0.1405 - acc: 0.96 - ETA: 24s - loss: 0.1392 - acc: 0.96 - ETA: 23s - loss: 0.1452 - acc: 0.96 - ETA: 23s - loss: 0.1418 - acc: 0.96 - ETA: 22s - loss: 0.1427 - acc: 0.96 - ETA: 22s - loss: 0.1436 - acc: 0.96 - ETA: 21s - loss: 0.1432 - acc: 0.96 - ETA: 21s - loss: 0.1437 - acc: 0.96 - ETA: 20s - loss: 0.1446 - acc: 0.96 - ETA: 20s - loss: 0.1434 - acc: 0.96 - ETA: 19s - loss: 0.1428 - acc: 0.96 - ETA: 19s - loss: 0.1424 - acc: 0.96 - ETA: 18s - loss: 0.1426 - acc: 0.96 - ETA: 18s - loss: 0.1430 - acc: 0.96 - ETA: 17s - loss: 0.1436 - acc: 0.96 - ETA: 17s - loss: 0.1438 - acc: 0.96 - ETA: 16s - loss: 0.1430 - acc: 0.96 - ETA: 16s - loss: 0.1423 - acc: 0.96 - ETA: 15s - loss: 0.1425 - acc: 0.96 - ETA: 15s - loss: 0.1431 - acc: 0.96 - ETA: 14s - loss: 0.1433 - acc: 0.96 - ETA: 14s - loss: 0.1438 - acc: 0.96 - ETA: 13s - loss: 0.1438 - acc: 0.96 - ETA: 13s - loss: 0.1438 - acc: 0.96 - ETA: 12s - loss: 0.1439 - acc: 0.96 - ETA: 12s - loss: 0.1435 - acc: 0.96 - ETA: 11s - loss: 0.1433 - acc: 0.96 - ETA: 11s - loss: 0.1431 - acc: 0.96 - ETA: 10s - loss: 0.1430 - acc: 0.96 - ETA: 10s - loss: 0.1426 - acc: 0.96 - ETA: 9s - loss: 0.1423 - acc: 0.9630 - ETA: 9s - loss: 0.1422 - acc: 0.963 - ETA: 8s - loss: 0.1425 - acc: 0.962 - ETA: 8s - loss: 0.1423 - acc: 0.963 - ETA: 7s - loss: 0.1426 - acc: 0.962 - ETA: 7s - loss: 0.1428 - acc: 0.962 - ETA: 6s - loss: 0.1429 - acc: 0.962 - ETA: 6s - loss: 0.1428 - acc: 0.962 - ETA: 5s - loss: 0.1427 - acc: 0.962 - ETA: 5s - loss: 0.1423 - acc: 0.962 - ETA: 4s - loss: 0.1424 - acc: 0.962 - ETA: 4s - loss: 0.1423 - acc: 0.962 - ETA: 3s - loss: 0.1422 - acc: 0.962 - ETA: 3s - loss: 0.1421 - acc: 0.962 - ETA: 2s - loss: 0.1420 - acc: 0.962 - ETA: 2s - loss: 0.1417 - acc: 0.963 - ETA: 1s - loss: 0.1414 - acc: 0.963 - ETA: 1s - loss: 0.1414 - acc: 0.963 - ETA: 0s - loss: 0.1414 - acc: 0.963 - ETA: 0s - loss: 0.1414 - acc: 0.963 - 27s 268us/step - loss: 0.1414 - acc: 0.9632 - val_loss: 0.1348 - val_acc: 0.9641\n",
      "Epoch 8/10\n",
      "100529/100529 [==============================] - ETA: 24s - loss: 0.1251 - acc: 0.96 - ETA: 24s - loss: 0.1267 - acc: 0.96 - ETA: 23s - loss: 0.1341 - acc: 0.96 - ETA: 23s - loss: 0.1359 - acc: 0.96 - ETA: 22s - loss: 0.1379 - acc: 0.96 - ETA: 22s - loss: 0.1388 - acc: 0.96 - ETA: 21s - loss: 0.1383 - acc: 0.96 - ETA: 21s - loss: 0.1394 - acc: 0.96 - ETA: 20s - loss: 0.1376 - acc: 0.96 - ETA: 20s - loss: 0.1376 - acc: 0.96 - ETA: 20s - loss: 0.1376 - acc: 0.96 - ETA: 19s - loss: 0.1391 - acc: 0.96 - ETA: 18s - loss: 0.1386 - acc: 0.96 - ETA: 18s - loss: 0.1380 - acc: 0.96 - ETA: 18s - loss: 0.1374 - acc: 0.96 - ETA: 17s - loss: 0.1375 - acc: 0.96 - ETA: 16s - loss: 0.1373 - acc: 0.96 - ETA: 16s - loss: 0.1369 - acc: 0.96 - ETA: 15s - loss: 0.1370 - acc: 0.96 - ETA: 15s - loss: 0.1377 - acc: 0.96 - ETA: 14s - loss: 0.1374 - acc: 0.96 - ETA: 14s - loss: 0.1376 - acc: 0.96 - ETA: 13s - loss: 0.1383 - acc: 0.96 - ETA: 13s - loss: 0.1382 - acc: 0.96 - ETA: 12s - loss: 0.1380 - acc: 0.96 - ETA: 12s - loss: 0.1384 - acc: 0.96 - ETA: 11s - loss: 0.1386 - acc: 0.96 - ETA: 11s - loss: 0.1384 - acc: 0.96 - ETA: 10s - loss: 0.1385 - acc: 0.96 - ETA: 10s - loss: 0.1388 - acc: 0.96 - ETA: 9s - loss: 0.1389 - acc: 0.9629 - ETA: 9s - loss: 0.1388 - acc: 0.963 - ETA: 8s - loss: 0.1390 - acc: 0.962 - ETA: 8s - loss: 0.1389 - acc: 0.962 - ETA: 7s - loss: 0.1384 - acc: 0.963 - ETA: 7s - loss: 0.1381 - acc: 0.963 - ETA: 6s - loss: 0.1381 - acc: 0.963 - ETA: 6s - loss: 0.1380 - acc: 0.963 - ETA: 5s - loss: 0.1378 - acc: 0.963 - ETA: 5s - loss: 0.1375 - acc: 0.963 - ETA: 4s - loss: 0.1376 - acc: 0.963 - ETA: 4s - loss: 0.1373 - acc: 0.963 - ETA: 3s - loss: 0.1372 - acc: 0.963 - ETA: 3s - loss: 0.1368 - acc: 0.963 - ETA: 2s - loss: 0.1366 - acc: 0.963 - ETA: 2s - loss: 0.1366 - acc: 0.963 - ETA: 1s - loss: 0.1365 - acc: 0.963 - ETA: 1s - loss: 0.1362 - acc: 0.963 - ETA: 0s - loss: 0.1361 - acc: 0.963 - ETA: 0s - loss: 0.1362 - acc: 0.963 - 27s 271us/step - loss: 0.1363 - acc: 0.9632 - val_loss: 0.1226 - val_acc: 0.9641\n",
      "Epoch 9/10\n",
      "100529/100529 [==============================] - ETA: 24s - loss: 0.1254 - acc: 0.96 - ETA: 24s - loss: 0.1243 - acc: 0.96 - ETA: 24s - loss: 0.1254 - acc: 0.96 - ETA: 23s - loss: 0.1243 - acc: 0.96 - ETA: 23s - loss: 0.1240 - acc: 0.96 - ETA: 22s - loss: 0.1248 - acc: 0.96 - ETA: 21s - loss: 0.1243 - acc: 0.96 - ETA: 21s - loss: 0.1235 - acc: 0.96 - ETA: 20s - loss: 0.1238 - acc: 0.96 - ETA: 20s - loss: 0.1236 - acc: 0.96 - ETA: 19s - loss: 0.1234 - acc: 0.96 - ETA: 19s - loss: 0.1230 - acc: 0.96 - ETA: 18s - loss: 0.1222 - acc: 0.96 - ETA: 18s - loss: 0.1225 - acc: 0.96 - ETA: 17s - loss: 0.1222 - acc: 0.96 - ETA: 17s - loss: 0.1214 - acc: 0.96 - ETA: 16s - loss: 0.1215 - acc: 0.96 - ETA: 16s - loss: 0.1215 - acc: 0.96 - ETA: 15s - loss: 0.1215 - acc: 0.96 - ETA: 15s - loss: 0.1220 - acc: 0.96 - ETA: 14s - loss: 0.1213 - acc: 0.96 - ETA: 14s - loss: 0.1208 - acc: 0.96 - ETA: 13s - loss: 0.1201 - acc: 0.96 - ETA: 13s - loss: 0.1195 - acc: 0.96 - ETA: 12s - loss: 0.1194 - acc: 0.96 - ETA: 12s - loss: 0.1189 - acc: 0.96 - ETA: 11s - loss: 0.1190 - acc: 0.96 - ETA: 11s - loss: 0.1188 - acc: 0.96 - ETA: 10s - loss: 0.1183 - acc: 0.96 - ETA: 10s - loss: 0.1177 - acc: 0.96 - ETA: 9s - loss: 0.1173 - acc: 0.9631 - ETA: 9s - loss: 0.1175 - acc: 0.962 - ETA: 8s - loss: 0.1176 - acc: 0.962 - ETA: 8s - loss: 0.1171 - acc: 0.963 - ETA: 7s - loss: 0.1168 - acc: 0.963 - ETA: 7s - loss: 0.1165 - acc: 0.963 - ETA: 6s - loss: 0.1162 - acc: 0.963 - ETA: 6s - loss: 0.1158 - acc: 0.963 - ETA: 5s - loss: 0.1156 - acc: 0.963 - ETA: 5s - loss: 0.1154 - acc: 0.963 - ETA: 4s - loss: 0.1152 - acc: 0.963 - ETA: 4s - loss: 0.1150 - acc: 0.963 - ETA: 3s - loss: 0.1148 - acc: 0.963 - ETA: 3s - loss: 0.1142 - acc: 0.963 - ETA: 2s - loss: 0.1141 - acc: 0.963 - ETA: 2s - loss: 0.1137 - acc: 0.963 - ETA: 1s - loss: 0.1132 - acc: 0.963 - ETA: 1s - loss: 0.1131 - acc: 0.963 - ETA: 0s - loss: 0.1133 - acc: 0.963 - ETA: 0s - loss: 0.1132 - acc: 0.963 - 27s 271us/step - loss: 0.1134 - acc: 0.9636 - val_loss: 0.0992 - val_acc: 0.9664\n",
      "Epoch 10/10\n",
      "100529/100529 [==============================] - ETA: 24s - loss: 0.1089 - acc: 0.96 - ETA: 24s - loss: 0.1061 - acc: 0.96 - ETA: 23s - loss: 0.1106 - acc: 0.96 - ETA: 23s - loss: 0.1083 - acc: 0.96 - ETA: 22s - loss: 0.1071 - acc: 0.96 - ETA: 22s - loss: 0.1046 - acc: 0.96 - ETA: 21s - loss: 0.1039 - acc: 0.96 - ETA: 21s - loss: 0.1042 - acc: 0.96 - ETA: 20s - loss: 0.1028 - acc: 0.96 - ETA: 20s - loss: 0.1009 - acc: 0.96 - ETA: 19s - loss: 0.1008 - acc: 0.96 - ETA: 19s - loss: 0.1005 - acc: 0.96 - ETA: 18s - loss: 0.1003 - acc: 0.96 - ETA: 18s - loss: 0.1002 - acc: 0.96 - ETA: 17s - loss: 0.1002 - acc: 0.96 - ETA: 17s - loss: 0.1002 - acc: 0.96 - ETA: 16s - loss: 0.0997 - acc: 0.96 - ETA: 16s - loss: 0.0992 - acc: 0.96 - ETA: 15s - loss: 0.0986 - acc: 0.96 - ETA: 15s - loss: 0.0982 - acc: 0.96 - ETA: 14s - loss: 0.0976 - acc: 0.96 - ETA: 14s - loss: 0.0974 - acc: 0.96 - ETA: 13s - loss: 0.0974 - acc: 0.96 - ETA: 13s - loss: 0.0973 - acc: 0.96 - ETA: 12s - loss: 0.0972 - acc: 0.96 - ETA: 12s - loss: 0.0980 - acc: 0.96 - ETA: 11s - loss: 0.0979 - acc: 0.96 - ETA: 11s - loss: 0.0987 - acc: 0.96 - ETA: 10s - loss: 0.0988 - acc: 0.96 - ETA: 10s - loss: 0.0987 - acc: 0.96 - ETA: 9s - loss: 0.0986 - acc: 0.9655 - ETA: 9s - loss: 0.0985 - acc: 0.965 - ETA: 8s - loss: 0.0986 - acc: 0.965 - ETA: 8s - loss: 0.0988 - acc: 0.965 - ETA: 7s - loss: 0.0987 - acc: 0.965 - ETA: 7s - loss: 0.0991 - acc: 0.965 - ETA: 6s - loss: 0.0988 - acc: 0.965 - ETA: 6s - loss: 0.0987 - acc: 0.965 - ETA: 5s - loss: 0.0983 - acc: 0.966 - ETA: 5s - loss: 0.0980 - acc: 0.966 - ETA: 4s - loss: 0.0980 - acc: 0.966 - ETA: 4s - loss: 0.0976 - acc: 0.966 - ETA: 3s - loss: 0.0976 - acc: 0.966 - ETA: 3s - loss: 0.0975 - acc: 0.966 - ETA: 2s - loss: 0.0973 - acc: 0.966 - ETA: 2s - loss: 0.0971 - acc: 0.966 - ETA: 1s - loss: 0.0969 - acc: 0.966 - ETA: 1s - loss: 0.0968 - acc: 0.966 - ETA: 0s - loss: 0.0966 - acc: 0.966 - ETA: 0s - loss: 0.0965 - acc: 0.966 - 27s 274us/step - loss: 0.0965 - acc: 0.9669 - val_loss: 0.0870 - val_acc: 0.9709\n"
     ]
    },
    {
     "data": {
      "text/plain": [
       "<keras.callbacks.History at 0x1db2fda97b8>"
      ]
     },
     "execution_count": 168,
     "metadata": {},
     "output_type": "execute_result"
    }
   ],
   "source": [
    "batch_size = 2000\n",
    "epochs = 10\n",
    "model.fit(padded_X_train,y_train, batch_size=batch_size, epochs=epochs, validation_split=0.1)"
   ]
  },
  {
   "cell_type": "code",
   "execution_count": 169,
   "metadata": {},
   "outputs": [],
   "source": [
    "max_features = 20000\n",
    "tokenizer = Tokenizer(num_words=max_features)\n",
    "tokenizer.fit_on_texts(list(X_test))\n",
    "tokenized_X_test = tokenizer.texts_to_sequences(X_test)\n",
    "padded_X_test = pad_sequences(tokenized_X_test, maxlen=100)\n",
    "score = model.evaluate(padded_X_test, y_test, batch_size=batch_size, verbose = False)"
   ]
  },
  {
   "cell_type": "code",
   "execution_count": 170,
   "metadata": {
    "scrolled": true
   },
   "outputs": [],
   "source": [
    "score = model.evaluate(padded_X_test, y_test, batch_size=batch_size, verbose = False)"
   ]
  },
  {
   "cell_type": "code",
   "execution_count": 175,
   "metadata": {},
   "outputs": [],
   "source": [
    "# model.save('./model_weights/model_LSTM1.h5')"
   ]
  },
  {
   "cell_type": "code",
   "execution_count": 176,
   "metadata": {},
   "outputs": [
    {
     "name": "stdout",
     "output_type": "stream",
     "text": [
      " [LOSS,                          ACCURACY]\n",
      " [0.16114958715849223, 0.9626921933084567]\n"
     ]
    }
   ],
   "source": [
    "print(\" [LOSS,                          ACCURACY]\\n\",score)"
   ]
  },
  {
   "cell_type": "code",
   "execution_count": 208,
   "metadata": {},
   "outputs": [
    {
     "data": {
      "text/plain": [
       "(111699, 6)"
      ]
     },
     "execution_count": 208,
     "metadata": {},
     "output_type": "execute_result"
    }
   ],
   "source": [
    "y_train.shape"
   ]
  },
  {
   "cell_type": "code",
   "execution_count": 209,
   "metadata": {},
   "outputs": [
    {
     "data": {
      "text/plain": [
       "(111699, 100)"
      ]
     },
     "execution_count": 209,
     "metadata": {},
     "output_type": "execute_result"
    }
   ],
   "source": [
    "padded_X_train.shape"
   ]
  },
  {
   "cell_type": "code",
   "execution_count": null,
   "metadata": {},
   "outputs": [],
   "source": []
  }
 ],
 "metadata": {
  "kernelspec": {
   "display_name": "Python 3",
   "language": "python",
   "name": "python3"
  },
  "language_info": {
   "codemirror_mode": {
    "name": "ipython",
    "version": 3
   },
   "file_extension": ".py",
   "mimetype": "text/x-python",
   "name": "python",
   "nbconvert_exporter": "python",
   "pygments_lexer": "ipython3",
   "version": "3.6.5"
  }
 },
 "nbformat": 4,
 "nbformat_minor": 2
}
